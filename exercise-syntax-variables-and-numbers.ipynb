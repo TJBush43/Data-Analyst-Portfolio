{
 "cells": [
  {
   "cell_type": "markdown",
   "id": "09a9bfb6",
   "metadata": {
    "papermill": {
     "duration": 0.009215,
     "end_time": "2023-01-24T19:29:52.717960",
     "exception": false,
     "start_time": "2023-01-24T19:29:52.708745",
     "status": "completed"
    },
    "tags": []
   },
   "source": [
    "**This notebook is an exercise in the [Python](https://www.kaggle.com/learn/python) course.  You can reference the tutorial at [this link](https://www.kaggle.com/colinmorris/hello-python).**\n",
    "\n",
    "---\n"
   ]
  },
  {
   "cell_type": "markdown",
   "id": "119b1905",
   "metadata": {
    "papermill": {
     "duration": 0.006954,
     "end_time": "2023-01-24T19:29:52.731891",
     "exception": false,
     "start_time": "2023-01-24T19:29:52.724937",
     "status": "completed"
    },
    "tags": []
   },
   "source": [
    "Welcome to your first set of Python coding problems.  If this is your first time using Kaggle Notebooks, welcome! \n",
    "\n",
    "Notebooks are composed of blocks (called \"cells\") of text and code. Each of these is editable, though you'll mainly be editing the code cells to answer some questions.\n",
    "\n",
    "To get started, try running the code cell below (by pressing the ► button, or clicking on the cell and pressing ctrl+enter on your keyboard)."
   ]
  },
  {
   "cell_type": "code",
   "execution_count": 1,
   "id": "067810df",
   "metadata": {
    "execution": {
     "iopub.execute_input": "2023-01-24T19:29:52.747979Z",
     "iopub.status.busy": "2023-01-24T19:29:52.747476Z",
     "iopub.status.idle": "2023-01-24T19:29:52.760140Z",
     "shell.execute_reply": "2023-01-24T19:29:52.758836Z"
    },
    "papermill": {
     "duration": 0.023816,
     "end_time": "2023-01-24T19:29:52.763032",
     "exception": false,
     "start_time": "2023-01-24T19:29:52.739216",
     "status": "completed"
    },
    "tags": []
   },
   "outputs": [
    {
     "name": "stdout",
     "output_type": "stream",
     "text": [
      "You've successfully run some Python code\n",
      "Congratulations!\n",
      "Hello World\n"
     ]
    }
   ],
   "source": [
    "print(\"You've successfully run some Python code\")\n",
    "print(\"Congratulations!\")\n",
    "print(\"Hello World\")"
   ]
  },
  {
   "cell_type": "code",
   "execution_count": null,
   "id": "cc27d698",
   "metadata": {
    "papermill": {
     "duration": 0.00676,
     "end_time": "2023-01-24T19:29:52.777162",
     "exception": false,
     "start_time": "2023-01-24T19:29:52.770402",
     "status": "completed"
    },
    "tags": []
   },
   "outputs": [],
   "source": []
  },
  {
   "cell_type": "markdown",
   "id": "22da1e39",
   "metadata": {
    "papermill": {
     "duration": 0.006376,
     "end_time": "2023-01-24T19:29:52.790352",
     "exception": false,
     "start_time": "2023-01-24T19:29:52.783976",
     "status": "completed"
    },
    "tags": []
   },
   "source": [
    "Try adding another line of code in the cell above and re-running it. \n",
    "\n",
    "Now let's get a little fancier:  Add a new code cell by clicking on an existing code cell, hitting the escape key, and then hitting the `a` or `b` key.  The `a` key will add a cell above the current cell, and `b` adds a cell below.\n",
    "\n",
    "Great! Now you know how to use Notebooks.\n",
    "\n",
    "Each hands-on exercise starts by setting up our feedback and code checking mechanism. Run the code cell below to do that. Then you'll be ready to move on to question 0."
   ]
  },
  {
   "cell_type": "code",
   "execution_count": 2,
   "id": "7deb1c50",
   "metadata": {
    "_kg_hide-input": true,
    "_kg_hide-output": true,
    "execution": {
     "iopub.execute_input": "2023-01-24T19:29:52.806112Z",
     "iopub.status.busy": "2023-01-24T19:29:52.805260Z",
     "iopub.status.idle": "2023-01-24T19:29:52.856777Z",
     "shell.execute_reply": "2023-01-24T19:29:52.855215Z"
    },
    "papermill": {
     "duration": 0.063504,
     "end_time": "2023-01-24T19:29:52.860503",
     "exception": false,
     "start_time": "2023-01-24T19:29:52.796999",
     "status": "completed"
    },
    "tags": []
   },
   "outputs": [
    {
     "name": "stdout",
     "output_type": "stream",
     "text": [
      "Setup complete! You're ready to start question 0.\n"
     ]
    }
   ],
   "source": [
    "from learntools.core import binder; binder.bind(globals())\n",
    "from learntools.python.ex1 import *\n",
    "print(\"Setup complete! You're ready to start question 0.\")"
   ]
  },
  {
   "cell_type": "markdown",
   "id": "7a0c9dd5",
   "metadata": {
    "papermill": {
     "duration": 0.007005,
     "end_time": "2023-01-24T19:29:52.874913",
     "exception": false,
     "start_time": "2023-01-24T19:29:52.867908",
     "status": "completed"
    },
    "tags": []
   },
   "source": [
    "# 0.\n",
    "\n",
    "*This is a silly question intended as an introduction to the format we use for hands-on exercises throughout all Kaggle courses.*\n",
    "\n",
    "**What is your favorite color? **\n",
    "\n",
    "To complete this question, create a variable called `color` in the cell below with an appropriate value. The function call `q0.check()` (which we've already provided in the cell below) will check your answer."
   ]
  },
  {
   "cell_type": "code",
   "execution_count": 3,
   "id": "6d388b9f",
   "metadata": {
    "execution": {
     "iopub.execute_input": "2023-01-24T19:29:52.891117Z",
     "iopub.status.busy": "2023-01-24T19:29:52.890710Z",
     "iopub.status.idle": "2023-01-24T19:29:52.902340Z",
     "shell.execute_reply": "2023-01-24T19:29:52.901188Z"
    },
    "papermill": {
     "duration": 0.023441,
     "end_time": "2023-01-24T19:29:52.905209",
     "exception": false,
     "start_time": "2023-01-24T19:29:52.881768",
     "status": "completed"
    },
    "tags": []
   },
   "outputs": [
    {
     "data": {
      "application/javascript": [
       "parent.postMessage({\"jupyterEvent\": \"custom.exercise_interaction\", \"data\": {\"outcomeType\": 1, \"valueTowardsCompletion\": 0.25, \"interactionType\": 1, \"questionType\": 2, \"questionId\": \"0_ExerciseFormatTutorial\", \"learnToolsVersion\": \"0.3.4\", \"failureMessage\": \"\", \"exceptionClass\": \"\", \"trace\": \"\"}}, \"*\")"
      ],
      "text/plain": [
       "<IPython.core.display.Javascript object>"
      ]
     },
     "metadata": {},
     "output_type": "display_data"
    },
    {
     "data": {
      "text/markdown": [
       "<span style=\"color:#33cc33\">Correct:</span> What?! You got it right without needing a hint or anything? Drats. Well hey, you should still continue to the next step to get some practice asking for a hint and checking solutions. (Even though you obviously don't need any help here.)"
      ],
      "text/plain": [
       "Correct: What?! You got it right without needing a hint or anything? Drats. Well hey, you should still continue to the next step to get some practice asking for a hint and checking solutions. (Even though you obviously don't need any help here.)"
      ]
     },
     "metadata": {},
     "output_type": "display_data"
    }
   ],
   "source": [
    "# create a variable called color with an appropriate value on the line below\n",
    "# (Remember, strings in Python must be enclosed in 'single' or \"double\" quotes)\n",
    "____\n",
    "color = \"Blue\"\n",
    "# Check your answer\n",
    "q0.check()"
   ]
  },
  {
   "cell_type": "markdown",
   "id": "c4577bc0",
   "metadata": {
    "papermill": {
     "duration": 0.007078,
     "end_time": "2023-01-24T19:29:52.919478",
     "exception": false,
     "start_time": "2023-01-24T19:29:52.912400",
     "status": "completed"
    },
    "tags": []
   },
   "source": [
    "Didn't get the right answer? How do you not even know your own favorite color?!\n",
    "\n",
    "Delete the `#` in the line below to make one of the lines run. You can choose between getting a hint or the full answer by choosing which line to remove the `#` from. \n",
    "\n",
    "Removing the `#` is called uncommenting, because it changes that line from a \"comment\" which Python doesn't run to code, which Python does run."
   ]
  },
  {
   "cell_type": "code",
   "execution_count": 4,
   "id": "5690ff07",
   "metadata": {
    "execution": {
     "iopub.execute_input": "2023-01-24T19:29:52.937173Z",
     "iopub.status.busy": "2023-01-24T19:29:52.936686Z",
     "iopub.status.idle": "2023-01-24T19:29:52.941536Z",
     "shell.execute_reply": "2023-01-24T19:29:52.940469Z"
    },
    "papermill": {
     "duration": 0.017431,
     "end_time": "2023-01-24T19:29:52.944080",
     "exception": false,
     "start_time": "2023-01-24T19:29:52.926649",
     "status": "completed"
    },
    "tags": []
   },
   "outputs": [],
   "source": [
    "#q0.hint()\n",
    "#q0.solution()"
   ]
  },
  {
   "cell_type": "markdown",
   "id": "5ea4de75",
   "metadata": {
    "papermill": {
     "duration": 0.006882,
     "end_time": "2023-01-24T19:29:52.958082",
     "exception": false,
     "start_time": "2023-01-24T19:29:52.951200",
     "status": "completed"
    },
    "tags": []
   },
   "source": [
    "The upcoming questions work the same way. The only thing that will change are the question numbers. For the next question, you'll call `q1.check()`, `q1.hint()`, `q1.solution()`, for question 2, you'll call `q2.check()`, and so on."
   ]
  },
  {
   "cell_type": "markdown",
   "id": "0da64103",
   "metadata": {
    "papermill": {
     "duration": 0.007009,
     "end_time": "2023-01-24T19:29:52.973234",
     "exception": false,
     "start_time": "2023-01-24T19:29:52.966225",
     "status": "completed"
    },
    "tags": []
   },
   "source": [
    "<hr/>\n",
    "\n",
    "# 1.\n",
    "\n",
    "Complete the code below. In case it's helpful, here is the table of available arithmetic operations:\n",
    "\n",
    "\n",
    "\n",
    "| Operator     | Name           | Description                                            |\n",
    "|--------------|----------------|--------------------------------------------------------|\n",
    "| ``a + b``    | Addition       | Sum of ``a`` and ``b``                                 |\n",
    "| ``a - b``    | Subtraction    | Difference of ``a`` and ``b``                          |\n",
    "| ``a * b``    | Multiplication | Product of ``a`` and ``b``                             |\n",
    "| ``a / b``    | True division  | Quotient of ``a`` and ``b``                            |\n",
    "| ``a // b``   | Floor division | Quotient of ``a`` and ``b``, removing fractional parts |\n",
    "| ``a % b``    | Modulus        | Integer remainder after division of ``a`` by ``b``     |\n",
    "| ``a ** b``   | Exponentiation | ``a`` raised to the power of ``b``                     |\n",
    "| ``-a``       | Negation       | The negative of ``a``                                  |\n",
    "\n",
    "<span style=\"display:none\"></span>\n"
   ]
  },
  {
   "cell_type": "code",
   "execution_count": 5,
   "id": "e04e0af6",
   "metadata": {
    "execution": {
     "iopub.execute_input": "2023-01-24T19:29:52.989157Z",
     "iopub.status.busy": "2023-01-24T19:29:52.988734Z",
     "iopub.status.idle": "2023-01-24T19:29:52.999636Z",
     "shell.execute_reply": "2023-01-24T19:29:52.998359Z"
    },
    "papermill": {
     "duration": 0.021888,
     "end_time": "2023-01-24T19:29:53.002217",
     "exception": false,
     "start_time": "2023-01-24T19:29:52.980329",
     "status": "completed"
    },
    "tags": []
   },
   "outputs": [
    {
     "data": {
      "application/javascript": [
       "parent.postMessage({\"jupyterEvent\": \"custom.exercise_interaction\", \"data\": {\"outcomeType\": 1, \"valueTowardsCompletion\": 0.25, \"interactionType\": 1, \"questionType\": 1, \"questionId\": \"1_CircleArea\", \"learnToolsVersion\": \"0.3.4\", \"failureMessage\": \"\", \"exceptionClass\": \"\", \"trace\": \"\"}}, \"*\")"
      ],
      "text/plain": [
       "<IPython.core.display.Javascript object>"
      ]
     },
     "metadata": {},
     "output_type": "display_data"
    },
    {
     "data": {
      "text/markdown": [
       "<span style=\"color:#33cc33\">Correct</span>"
      ],
      "text/plain": [
       "Correct"
      ]
     },
     "metadata": {},
     "output_type": "display_data"
    }
   ],
   "source": [
    "pi = 3.14159 # approximate\n",
    "diameter = 3\n",
    "\n",
    "# Create a variable called 'radius' equal to half the diameter\n",
    "____\n",
    "radius = diameter / 2\n",
    "# Create a variable called 'area', using the formula for the area of a circle: pi times the radius squared\n",
    "____\n",
    "area = 3.14159 * radius ** 2\n",
    "# Check your answer\n",
    "q1.check()"
   ]
  },
  {
   "cell_type": "code",
   "execution_count": 6,
   "id": "8777882d",
   "metadata": {
    "execution": {
     "iopub.execute_input": "2023-01-24T19:29:53.019268Z",
     "iopub.status.busy": "2023-01-24T19:29:53.018884Z",
     "iopub.status.idle": "2023-01-24T19:29:53.023770Z",
     "shell.execute_reply": "2023-01-24T19:29:53.022505Z"
    },
    "papermill": {
     "duration": 0.016368,
     "end_time": "2023-01-24T19:29:53.026141",
     "exception": false,
     "start_time": "2023-01-24T19:29:53.009773",
     "status": "completed"
    },
    "tags": []
   },
   "outputs": [],
   "source": [
    "# Uncomment and run the lines below if you need help.\n",
    "#q1.hint()\n",
    "#q1.solution()"
   ]
  },
  {
   "cell_type": "markdown",
   "id": "b876cd5d",
   "metadata": {
    "papermill": {
     "duration": 0.007264,
     "end_time": "2023-01-24T19:29:53.040924",
     "exception": false,
     "start_time": "2023-01-24T19:29:53.033660",
     "status": "completed"
    },
    "tags": []
   },
   "source": [
    "<hr/>\n",
    "\n",
    "# 2.\n",
    "\n",
    "Add code to the following cell to swap variables `a` and `b` (so that `a` refers to the object previously referred to by `b` and vice versa)."
   ]
  },
  {
   "cell_type": "code",
   "execution_count": 7,
   "id": "073b121c",
   "metadata": {
    "execution": {
     "iopub.execute_input": "2023-01-24T19:29:53.057513Z",
     "iopub.status.busy": "2023-01-24T19:29:53.057134Z",
     "iopub.status.idle": "2023-01-24T19:29:53.067959Z",
     "shell.execute_reply": "2023-01-24T19:29:53.066714Z"
    },
    "papermill": {
     "duration": 0.021961,
     "end_time": "2023-01-24T19:29:53.070473",
     "exception": false,
     "start_time": "2023-01-24T19:29:53.048512",
     "status": "completed"
    },
    "tags": []
   },
   "outputs": [
    {
     "data": {
      "application/javascript": [
       "parent.postMessage({\"jupyterEvent\": \"custom.exercise_interaction\", \"data\": {\"outcomeType\": 1, \"valueTowardsCompletion\": 0.25, \"interactionType\": 1, \"questionType\": 2, \"questionId\": \"2_VariableSwap\", \"learnToolsVersion\": \"0.3.4\", \"failureMessage\": \"\", \"exceptionClass\": \"\", \"trace\": \"\"}}, \"*\")"
      ],
      "text/plain": [
       "<IPython.core.display.Javascript object>"
      ]
     },
     "metadata": {},
     "output_type": "display_data"
    },
    {
     "data": {
      "text/markdown": [
       "<span style=\"color:#33cc33\">Correct:</span> \n",
       "\n",
       "The most straightforward solution is to use a third variable to temporarily store one of the old values. e.g.:\n",
       "\n",
       "    tmp = a\n",
       "    a = b\n",
       "    b = tmp\n",
       "\n",
       "If you've read lots of Python code, you might have seen the following trick to swap two variables in one line:\n",
       "\n",
       "    a, b = b, a\n",
       "\n",
       "We'll demystify this bit of Python magic later when we talk about *tuples*."
      ],
      "text/plain": [
       "Correct: \n",
       "\n",
       "The most straightforward solution is to use a third variable to temporarily store one of the old values. e.g.:\n",
       "\n",
       "    tmp = a\n",
       "    a = b\n",
       "    b = tmp\n",
       "\n",
       "If you've read lots of Python code, you might have seen the following trick to swap two variables in one line:\n",
       "\n",
       "    a, b = b, a\n",
       "\n",
       "We'll demystify this bit of Python magic later when we talk about *tuples*."
      ]
     },
     "metadata": {},
     "output_type": "display_data"
    }
   ],
   "source": [
    "########### Setup code - don't touch this part ######################\n",
    "# If you're curious, these are examples of lists. We'll talk about \n",
    "# them in depth a few lessons from now. For now, just know that they're\n",
    "# yet another type of Python object, like int or float.\n",
    "a = [1, 2, 3]\n",
    "b = [3, 2, 1]\n",
    "q2.store_original_ids()\n",
    "######################################################################\n",
    "\n",
    "c = a\n",
    "d = b\n",
    "b = c\n",
    "a = d\n",
    "\n",
    "\n",
    "######################################################################\n",
    "\n",
    "# Check your answer\n",
    "q2.check()"
   ]
  },
  {
   "cell_type": "code",
   "execution_count": 8,
   "id": "4bd9ea24",
   "metadata": {
    "execution": {
     "iopub.execute_input": "2023-01-24T19:29:53.088249Z",
     "iopub.status.busy": "2023-01-24T19:29:53.087853Z",
     "iopub.status.idle": "2023-01-24T19:29:53.093492Z",
     "shell.execute_reply": "2023-01-24T19:29:53.091696Z"
    },
    "papermill": {
     "duration": 0.018491,
     "end_time": "2023-01-24T19:29:53.096609",
     "exception": false,
     "start_time": "2023-01-24T19:29:53.078118",
     "status": "completed"
    },
    "tags": []
   },
   "outputs": [],
   "source": [
    "#q2.hint()"
   ]
  },
  {
   "cell_type": "code",
   "execution_count": 9,
   "id": "a63cbb8c",
   "metadata": {
    "execution": {
     "iopub.execute_input": "2023-01-24T19:29:53.114220Z",
     "iopub.status.busy": "2023-01-24T19:29:53.113778Z",
     "iopub.status.idle": "2023-01-24T19:29:53.118416Z",
     "shell.execute_reply": "2023-01-24T19:29:53.117054Z"
    },
    "papermill": {
     "duration": 0.016302,
     "end_time": "2023-01-24T19:29:53.120964",
     "exception": false,
     "start_time": "2023-01-24T19:29:53.104662",
     "status": "completed"
    },
    "tags": []
   },
   "outputs": [],
   "source": [
    "#q2.solution()"
   ]
  },
  {
   "cell_type": "markdown",
   "id": "17961e02",
   "metadata": {
    "papermill": {
     "duration": 0.007725,
     "end_time": "2023-01-24T19:29:53.136435",
     "exception": false,
     "start_time": "2023-01-24T19:29:53.128710",
     "status": "completed"
    },
    "tags": []
   },
   "source": [
    "<hr/>\n",
    "\n",
    "# 3a.\n",
    "\n",
    "Add parentheses to the following expression so that it evaluates to 1."
   ]
  },
  {
   "cell_type": "code",
   "execution_count": 10,
   "id": "8913915a",
   "metadata": {
    "execution": {
     "iopub.execute_input": "2023-01-24T19:29:53.153667Z",
     "iopub.status.busy": "2023-01-24T19:29:53.153244Z",
     "iopub.status.idle": "2023-01-24T19:29:53.159740Z",
     "shell.execute_reply": "2023-01-24T19:29:53.158452Z"
    },
    "papermill": {
     "duration": 0.018737,
     "end_time": "2023-01-24T19:29:53.162778",
     "exception": false,
     "start_time": "2023-01-24T19:29:53.144041",
     "status": "completed"
    },
    "tags": []
   },
   "outputs": [
    {
     "data": {
      "text/plain": [
       "1"
      ]
     },
     "execution_count": 10,
     "metadata": {},
     "output_type": "execute_result"
    }
   ],
   "source": [
    "(5 - 3) // 2\n"
   ]
  },
  {
   "cell_type": "code",
   "execution_count": 11,
   "id": "6109ecba",
   "metadata": {
    "execution": {
     "iopub.execute_input": "2023-01-24T19:29:53.180657Z",
     "iopub.status.busy": "2023-01-24T19:29:53.180270Z",
     "iopub.status.idle": "2023-01-24T19:29:53.184859Z",
     "shell.execute_reply": "2023-01-24T19:29:53.183532Z"
    },
    "papermill": {
     "duration": 0.016123,
     "end_time": "2023-01-24T19:29:53.187275",
     "exception": false,
     "start_time": "2023-01-24T19:29:53.171152",
     "status": "completed"
    },
    "tags": []
   },
   "outputs": [],
   "source": [
    "#q3.a.hint()"
   ]
  },
  {
   "cell_type": "code",
   "execution_count": 12,
   "id": "1b8f96ec",
   "metadata": {
    "execution": {
     "iopub.execute_input": "2023-01-24T19:29:53.205335Z",
     "iopub.status.busy": "2023-01-24T19:29:53.204583Z",
     "iopub.status.idle": "2023-01-24T19:29:53.213630Z",
     "shell.execute_reply": "2023-01-24T19:29:53.212542Z"
    },
    "papermill": {
     "duration": 0.021019,
     "end_time": "2023-01-24T19:29:53.216267",
     "exception": false,
     "start_time": "2023-01-24T19:29:53.195248",
     "status": "completed"
    },
    "tags": []
   },
   "outputs": [
    {
     "data": {
      "application/javascript": [
       "parent.postMessage({\"jupyterEvent\": \"custom.exercise_interaction\", \"data\": {\"interactionType\": 3, \"questionType\": 4, \"questionId\": \"3.1_ArithmeticParensEasy\", \"learnToolsVersion\": \"0.3.4\", \"valueTowardsCompletion\": 0.0, \"failureMessage\": \"\", \"exceptionClass\": \"\", \"trace\": \"\", \"outcomeType\": 4}}, \"*\")"
      ],
      "text/plain": [
       "<IPython.core.display.Javascript object>"
      ]
     },
     "metadata": {},
     "output_type": "display_data"
    },
    {
     "data": {
      "text/markdown": [
       "<span style=\"color:#33cc99\">Solution:</span> \n",
       "```python\n",
       "(5 - 3) // 2\n",
       "```"
      ],
      "text/plain": [
       "Solution: \n",
       "```python\n",
       "(5 - 3) // 2\n",
       "```"
      ]
     },
     "metadata": {},
     "output_type": "display_data"
    }
   ],
   "source": [
    "# Check your answer (Run this code cell to receive credit!)\n",
    "q3.a.solution()"
   ]
  },
  {
   "cell_type": "markdown",
   "id": "c1124dfe",
   "metadata": {
    "papermill": {
     "duration": 0.007716,
     "end_time": "2023-01-24T19:29:53.232083",
     "exception": false,
     "start_time": "2023-01-24T19:29:53.224367",
     "status": "completed"
    },
    "tags": []
   },
   "source": [
    "# 3b.  <span title=\"A bit spicy\" style=\"color: darkgreen \">🌶️</span>\n",
    "\n",
    "<small>Questions, like this one, marked a spicy pepper are a bit harder.</small>\n",
    "\n",
    "Add parentheses to the following expression so that it evaluates to 0."
   ]
  },
  {
   "cell_type": "code",
   "execution_count": 13,
   "id": "f0a7d99c",
   "metadata": {
    "execution": {
     "iopub.execute_input": "2023-01-24T19:29:53.250163Z",
     "iopub.status.busy": "2023-01-24T19:29:53.249741Z",
     "iopub.status.idle": "2023-01-24T19:29:53.257143Z",
     "shell.execute_reply": "2023-01-24T19:29:53.255661Z"
    },
    "papermill": {
     "duration": 0.019284,
     "end_time": "2023-01-24T19:29:53.259592",
     "exception": false,
     "start_time": "2023-01-24T19:29:53.240308",
     "status": "completed"
    },
    "tags": []
   },
   "outputs": [
    {
     "data": {
      "text/plain": [
       "0"
      ]
     },
     "execution_count": 13,
     "metadata": {},
     "output_type": "execute_result"
    }
   ],
   "source": [
    "8 - 3 * 2 - (1 + 1)"
   ]
  },
  {
   "cell_type": "code",
   "execution_count": 14,
   "id": "c48c5ac4",
   "metadata": {
    "execution": {
     "iopub.execute_input": "2023-01-24T19:29:53.278058Z",
     "iopub.status.busy": "2023-01-24T19:29:53.277652Z",
     "iopub.status.idle": "2023-01-24T19:29:53.281546Z",
     "shell.execute_reply": "2023-01-24T19:29:53.280750Z"
    },
    "papermill": {
     "duration": 0.015764,
     "end_time": "2023-01-24T19:29:53.283506",
     "exception": false,
     "start_time": "2023-01-24T19:29:53.267742",
     "status": "completed"
    },
    "tags": []
   },
   "outputs": [],
   "source": [
    "#q3.b.hint()"
   ]
  },
  {
   "cell_type": "code",
   "execution_count": 15,
   "id": "38472538",
   "metadata": {
    "execution": {
     "iopub.execute_input": "2023-01-24T19:29:53.302240Z",
     "iopub.status.busy": "2023-01-24T19:29:53.301029Z",
     "iopub.status.idle": "2023-01-24T19:29:53.310336Z",
     "shell.execute_reply": "2023-01-24T19:29:53.309234Z"
    },
    "papermill": {
     "duration": 0.021028,
     "end_time": "2023-01-24T19:29:53.312682",
     "exception": false,
     "start_time": "2023-01-24T19:29:53.291654",
     "status": "completed"
    },
    "tags": []
   },
   "outputs": [
    {
     "data": {
      "application/javascript": [
       "parent.postMessage({\"jupyterEvent\": \"custom.exercise_interaction\", \"data\": {\"interactionType\": 3, \"questionType\": 4, \"questionId\": \"3.2_ArithmeticParensHard\", \"learnToolsVersion\": \"0.3.4\", \"valueTowardsCompletion\": 0.0, \"failureMessage\": \"\", \"exceptionClass\": \"\", \"trace\": \"\", \"outcomeType\": 4}}, \"*\")"
      ],
      "text/plain": [
       "<IPython.core.display.Javascript object>"
      ]
     },
     "metadata": {},
     "output_type": "display_data"
    },
    {
     "data": {
      "text/markdown": [
       "<span style=\"color:#33cc99\">Solution:</span> `(8 - 3) * (2 - (1 + 1))` is one solution. There may be others."
      ],
      "text/plain": [
       "Solution: `(8 - 3) * (2 - (1 + 1))` is one solution. There may be others."
      ]
     },
     "metadata": {},
     "output_type": "display_data"
    }
   ],
   "source": [
    "# Check your answer (Run this code cell to receive credit!)\n",
    "q3.b.solution()"
   ]
  },
  {
   "cell_type": "markdown",
   "id": "8a25ee4c",
   "metadata": {
    "papermill": {
     "duration": 0.008749,
     "end_time": "2023-01-24T19:29:53.330037",
     "exception": false,
     "start_time": "2023-01-24T19:29:53.321288",
     "status": "completed"
    },
    "tags": []
   },
   "source": [
    "<hr/>\n",
    "\n",
    "# 4. \n",
    "Alice, Bob and Carol have agreed to pool their Halloween candy and split it evenly among themselves.\n",
    "For the sake of their friendship, any candies left over will be smashed. For example, if they collectively\n",
    "bring home 91 candies, they'll take 30 each and smash 1.\n",
    "\n",
    "Write an arithmetic expression below to calculate how many candies they must smash for a given haul."
   ]
  },
  {
   "cell_type": "code",
   "execution_count": 16,
   "id": "e3cec8ec",
   "metadata": {
    "execution": {
     "iopub.execute_input": "2023-01-24T19:29:53.349867Z",
     "iopub.status.busy": "2023-01-24T19:29:53.349463Z",
     "iopub.status.idle": "2023-01-24T19:29:53.357627Z",
     "shell.execute_reply": "2023-01-24T19:29:53.356862Z"
    },
    "papermill": {
     "duration": 0.021872,
     "end_time": "2023-01-24T19:29:53.360931",
     "exception": false,
     "start_time": "2023-01-24T19:29:53.339059",
     "status": "completed"
    },
    "tags": []
   },
   "outputs": [
    {
     "data": {
      "application/javascript": [
       "parent.postMessage({\"jupyterEvent\": \"custom.exercise_interaction\", \"data\": {\"outcomeType\": 1, \"valueTowardsCompletion\": 0.25, \"interactionType\": 1, \"questionType\": 1, \"questionId\": \"4_CandySplitting\", \"learnToolsVersion\": \"0.3.4\", \"failureMessage\": \"\", \"exceptionClass\": \"\", \"trace\": \"\"}}, \"*\")"
      ],
      "text/plain": [
       "<IPython.core.display.Javascript object>"
      ]
     },
     "metadata": {},
     "output_type": "display_data"
    },
    {
     "data": {
      "text/markdown": [
       "<span style=\"color:#33cc33\">Correct</span>"
      ],
      "text/plain": [
       "Correct"
      ]
     },
     "metadata": {},
     "output_type": "display_data"
    }
   ],
   "source": [
    "# Variables representing the number of candies collected by alice, bob, and carol\n",
    "alice_candies = 121\n",
    "bob_candies = 77\n",
    "carol_candies = 109\n",
    "\n",
    "# Your code goes here! Replace the right-hand side of this assignment with an expression\n",
    "# involving alice_candies, bob_candies, and carol_candies\n",
    "to_smash = (alice_candies + bob_candies + carol_candies) % 3\n",
    "\n",
    "# Check your answer\n",
    "q4.check()"
   ]
  },
  {
   "cell_type": "code",
   "execution_count": 17,
   "id": "bdaffecf",
   "metadata": {
    "execution": {
     "iopub.execute_input": "2023-01-24T19:29:53.380686Z",
     "iopub.status.busy": "2023-01-24T19:29:53.379839Z",
     "iopub.status.idle": "2023-01-24T19:29:53.384320Z",
     "shell.execute_reply": "2023-01-24T19:29:53.383231Z"
    },
    "papermill": {
     "duration": 0.017045,
     "end_time": "2023-01-24T19:29:53.386611",
     "exception": false,
     "start_time": "2023-01-24T19:29:53.369566",
     "status": "completed"
    },
    "tags": []
   },
   "outputs": [],
   "source": [
    "#q4.hint()\n",
    "#q4.solution()"
   ]
  },
  {
   "cell_type": "markdown",
   "id": "d689df37",
   "metadata": {
    "papermill": {
     "duration": 0.008397,
     "end_time": "2023-01-24T19:29:53.404506",
     "exception": false,
     "start_time": "2023-01-24T19:29:53.396109",
     "status": "completed"
    },
    "tags": []
   },
   "source": [
    "# Keep Going\n",
    "\n",
    "Next up, you'll **[learn to write new functions and understand functions others write](https://www.kaggle.com/colinmorris/functions-and-getting-help)**. This will make you at least 10 times more productive as a Python programmer. "
   ]
  },
  {
   "cell_type": "markdown",
   "id": "76879a34",
   "metadata": {
    "papermill": {
     "duration": 0.008544,
     "end_time": "2023-01-24T19:29:53.421762",
     "exception": false,
     "start_time": "2023-01-24T19:29:53.413218",
     "status": "completed"
    },
    "tags": []
   },
   "source": [
    "---\n",
    "\n",
    "\n",
    "\n",
    "\n",
    "*Have questions or comments? Visit the [course discussion forum](https://www.kaggle.com/learn/python/discussion) to chat with other learners.*"
   ]
  }
 ],
 "metadata": {
  "kernelspec": {
   "display_name": "Python 3",
   "language": "python",
   "name": "python3"
  },
  "language_info": {
   "codemirror_mode": {
    "name": "ipython",
    "version": 3
   },
   "file_extension": ".py",
   "mimetype": "text/x-python",
   "name": "python",
   "nbconvert_exporter": "python",
   "pygments_lexer": "ipython3",
   "version": "3.7.12"
  },
  "papermill": {
   "default_parameters": {},
   "duration": 10.346168,
   "end_time": "2023-01-24T19:29:54.154270",
   "environment_variables": {},
   "exception": null,
   "input_path": "__notebook__.ipynb",
   "output_path": "__notebook__.ipynb",
   "parameters": {},
   "start_time": "2023-01-24T19:29:43.808102",
   "version": "2.3.4"
  }
 },
 "nbformat": 4,
 "nbformat_minor": 5
}

{
 "cells": [
  {
   "cell_type": "markdown",
   "id": "beeed70a",
   "metadata": {
    "papermill": {
     "duration": 0.010921,
     "end_time": "2023-01-24T21:52:50.442020",
     "exception": false,
     "start_time": "2023-01-24T21:52:50.431099",
     "status": "completed"
    },
    "tags": []
   },
   "source": [
    "**This notebook is an exercise in the [Python](https://www.kaggle.com/learn/python) course.  You can reference the tutorial at [this link](https://www.kaggle.com/colinmorris/booleans-and-conditionals).**\n",
    "\n",
    "---\n"
   ]
  },
  {
   "cell_type": "markdown",
   "id": "426aa821",
   "metadata": {
    "papermill": {
     "duration": 0.009485,
     "end_time": "2023-01-24T21:52:50.461158",
     "exception": false,
     "start_time": "2023-01-24T21:52:50.451673",
     "status": "completed"
    },
    "tags": []
   },
   "source": [
    "In this exercise, you'll put to work what you have learned about booleans and conditionals.\n",
    "\n",
    "To get started, **run the setup code below** before writing your own code (and if you leave this notebook and come back later, don't forget to run the setup code again)."
   ]
  },
  {
   "cell_type": "code",
   "execution_count": 1,
   "id": "5c766d40",
   "metadata": {
    "execution": {
     "iopub.execute_input": "2023-01-24T21:52:50.482067Z",
     "iopub.status.busy": "2023-01-24T21:52:50.481274Z",
     "iopub.status.idle": "2023-01-24T21:52:50.541541Z",
     "shell.execute_reply": "2023-01-24T21:52:50.540282Z"
    },
    "papermill": {
     "duration": 0.074485,
     "end_time": "2023-01-24T21:52:50.544875",
     "exception": false,
     "start_time": "2023-01-24T21:52:50.470390",
     "status": "completed"
    },
    "tags": []
   },
   "outputs": [
    {
     "name": "stdout",
     "output_type": "stream",
     "text": [
      "Setup complete.\n"
     ]
    }
   ],
   "source": [
    "from learntools.core import binder; binder.bind(globals())\n",
    "from learntools.python.ex3 import *\n",
    "print('Setup complete.')"
   ]
  },
  {
   "cell_type": "markdown",
   "id": "e09f7d5d",
   "metadata": {
    "papermill": {
     "duration": 0.008877,
     "end_time": "2023-01-24T21:52:50.563127",
     "exception": false,
     "start_time": "2023-01-24T21:52:50.554250",
     "status": "completed"
    },
    "tags": []
   },
   "source": [
    "# 1.\n",
    "\n",
    "Many programming languages have [`sign`](https://en.wikipedia.org/wiki/Sign_function) available as a built-in function. Python doesn't, but we can define our own!\n",
    "\n",
    "In the cell below, define a function called `sign` which takes a numerical argument and returns -1 if it's negative, 1 if it's positive, and 0 if it's 0."
   ]
  },
  {
   "cell_type": "code",
   "execution_count": 2,
   "id": "b753101a",
   "metadata": {
    "execution": {
     "iopub.execute_input": "2023-01-24T21:52:50.584034Z",
     "iopub.status.busy": "2023-01-24T21:52:50.583637Z",
     "iopub.status.idle": "2023-01-24T21:52:50.596093Z",
     "shell.execute_reply": "2023-01-24T21:52:50.594855Z"
    },
    "papermill": {
     "duration": 0.025942,
     "end_time": "2023-01-24T21:52:50.598766",
     "exception": false,
     "start_time": "2023-01-24T21:52:50.572824",
     "status": "completed"
    },
    "tags": []
   },
   "outputs": [
    {
     "data": {
      "application/javascript": [
       "parent.postMessage({\"jupyterEvent\": \"custom.exercise_interaction\", \"data\": {\"outcomeType\": 1, \"valueTowardsCompletion\": 0.2, \"interactionType\": 1, \"questionType\": 2, \"questionId\": \"1_SignFunctionProblem\", \"learnToolsVersion\": \"0.3.4\", \"failureMessage\": \"\", \"exceptionClass\": \"\", \"trace\": \"\"}}, \"*\")"
      ],
      "text/plain": [
       "<IPython.core.display.Javascript object>"
      ]
     },
     "metadata": {},
     "output_type": "display_data"
    },
    {
     "data": {
      "text/markdown": [
       "<span style=\"color:#33cc33\">Correct</span>"
      ],
      "text/plain": [
       "Correct"
      ]
     },
     "metadata": {},
     "output_type": "display_data"
    }
   ],
   "source": [
    "# Your code goes here. Define a function called 'sign'\n",
    "def sign(num):\n",
    "    if num > 0:\n",
    "        return 1\n",
    "    if num < 0:\n",
    "        return -1\n",
    "    else :\n",
    "        return 0\n",
    "    \n",
    "# Check your answer\n",
    "q1.check()"
   ]
  },
  {
   "cell_type": "code",
   "execution_count": 3,
   "id": "54912220",
   "metadata": {
    "execution": {
     "iopub.execute_input": "2023-01-24T21:52:50.620437Z",
     "iopub.status.busy": "2023-01-24T21:52:50.619437Z",
     "iopub.status.idle": "2023-01-24T21:52:50.624948Z",
     "shell.execute_reply": "2023-01-24T21:52:50.623799Z"
    },
    "papermill": {
     "duration": 0.019113,
     "end_time": "2023-01-24T21:52:50.627569",
     "exception": false,
     "start_time": "2023-01-24T21:52:50.608456",
     "status": "completed"
    },
    "tags": []
   },
   "outputs": [],
   "source": [
    "#q1.solution()"
   ]
  },
  {
   "cell_type": "markdown",
   "id": "779399cb",
   "metadata": {
    "papermill": {
     "duration": 0.009594,
     "end_time": "2023-01-24T21:52:50.647861",
     "exception": false,
     "start_time": "2023-01-24T21:52:50.638267",
     "status": "completed"
    },
    "tags": []
   },
   "source": [
    "# 2.\n",
    "\n",
    "We've decided to add \"logging\" to our `to_smash` function from the previous exercise."
   ]
  },
  {
   "cell_type": "code",
   "execution_count": 4,
   "id": "e8439e4c",
   "metadata": {
    "execution": {
     "iopub.execute_input": "2023-01-24T21:52:50.669518Z",
     "iopub.status.busy": "2023-01-24T21:52:50.669068Z",
     "iopub.status.idle": "2023-01-24T21:52:50.678742Z",
     "shell.execute_reply": "2023-01-24T21:52:50.677406Z"
    },
    "papermill": {
     "duration": 0.024332,
     "end_time": "2023-01-24T21:52:50.682228",
     "exception": false,
     "start_time": "2023-01-24T21:52:50.657896",
     "status": "completed"
    },
    "tags": []
   },
   "outputs": [
    {
     "name": "stdout",
     "output_type": "stream",
     "text": [
      "Splitting 91 candies\n"
     ]
    },
    {
     "data": {
      "text/plain": [
       "1"
      ]
     },
     "execution_count": 4,
     "metadata": {},
     "output_type": "execute_result"
    }
   ],
   "source": [
    "def to_smash(total_candies):\n",
    "    \"\"\"Return the number of leftover candies that must be smashed after distributing\n",
    "    the given number of candies evenly between 3 friends.\n",
    "    \n",
    "    >>> to_smash(91)\n",
    "    1\n",
    "    \"\"\"\n",
    "    print(\"Splitting\", total_candies, \"candies\")\n",
    "    return total_candies % 3\n",
    "\n",
    "to_smash(91)"
   ]
  },
  {
   "cell_type": "markdown",
   "id": "df7b3f0a",
   "metadata": {
    "papermill": {
     "duration": 0.009552,
     "end_time": "2023-01-24T21:52:50.703046",
     "exception": false,
     "start_time": "2023-01-24T21:52:50.693494",
     "status": "completed"
    },
    "tags": []
   },
   "source": [
    "What happens if we call it with `total_candies = 1`?"
   ]
  },
  {
   "cell_type": "code",
   "execution_count": 5,
   "id": "a57c54a8",
   "metadata": {
    "execution": {
     "iopub.execute_input": "2023-01-24T21:52:50.726262Z",
     "iopub.status.busy": "2023-01-24T21:52:50.725127Z",
     "iopub.status.idle": "2023-01-24T21:52:50.735040Z",
     "shell.execute_reply": "2023-01-24T21:52:50.734146Z"
    },
    "papermill": {
     "duration": 0.024153,
     "end_time": "2023-01-24T21:52:50.737245",
     "exception": false,
     "start_time": "2023-01-24T21:52:50.713092",
     "status": "completed"
    },
    "tags": []
   },
   "outputs": [
    {
     "name": "stdout",
     "output_type": "stream",
     "text": [
      "Splitting 1 candies\n"
     ]
    },
    {
     "data": {
      "text/plain": [
       "1"
      ]
     },
     "execution_count": 5,
     "metadata": {},
     "output_type": "execute_result"
    }
   ],
   "source": [
    "to_smash(1)"
   ]
  },
  {
   "cell_type": "markdown",
   "id": "d3812c23",
   "metadata": {
    "papermill": {
     "duration": 0.009425,
     "end_time": "2023-01-24T21:52:50.756602",
     "exception": false,
     "start_time": "2023-01-24T21:52:50.747177",
     "status": "completed"
    },
    "tags": []
   },
   "source": [
    "That isn't great grammar!\n",
    "\n",
    "Modify the definition in the cell below to correct the grammar of our print statement. (If there's only one candy, we should use the singular \"candy\" instead of the plural \"candies\")"
   ]
  },
  {
   "cell_type": "code",
   "execution_count": 6,
   "id": "65c730f4",
   "metadata": {
    "execution": {
     "iopub.execute_input": "2023-01-24T21:52:50.779191Z",
     "iopub.status.busy": "2023-01-24T21:52:50.778737Z",
     "iopub.status.idle": "2023-01-24T21:52:50.787999Z",
     "shell.execute_reply": "2023-01-24T21:52:50.786641Z"
    },
    "papermill": {
     "duration": 0.023439,
     "end_time": "2023-01-24T21:52:50.790557",
     "exception": false,
     "start_time": "2023-01-24T21:52:50.767118",
     "status": "completed"
    },
    "tags": []
   },
   "outputs": [
    {
     "name": "stdout",
     "output_type": "stream",
     "text": [
      "Splitting 91 candies\n",
      "Splitting 1 candy\n"
     ]
    },
    {
     "data": {
      "text/plain": [
       "1"
      ]
     },
     "execution_count": 6,
     "metadata": {},
     "output_type": "execute_result"
    }
   ],
   "source": [
    "def to_smash(total_candies):\n",
    "    \"\"\"Return the number of leftover candies that must be smashed after distributing\n",
    "    the given number of candies evenly between 3 friends.\n",
    "    \n",
    "    >>> to_smash(91)\n",
    "    1\n",
    "    \"\"\"\n",
    "    if total_candies == 1:\n",
    "        print(\"Splitting 1 candy\")\n",
    "    else:\n",
    "        print(\"Splitting\", total_candies, \"candies\")\n",
    "    return total_candies % 3\n",
    "\n",
    "to_smash(91)\n",
    "to_smash(1)"
   ]
  },
  {
   "cell_type": "markdown",
   "id": "9a29b415",
   "metadata": {
    "papermill": {
     "duration": 0.009933,
     "end_time": "2023-01-24T21:52:50.810695",
     "exception": false,
     "start_time": "2023-01-24T21:52:50.800762",
     "status": "completed"
    },
    "tags": []
   },
   "source": [
    "To get credit for completing this problem, and to see the official answer, run the code cell below."
   ]
  },
  {
   "cell_type": "code",
   "execution_count": 7,
   "id": "ae8c7967",
   "metadata": {
    "execution": {
     "iopub.execute_input": "2023-01-24T21:52:50.832353Z",
     "iopub.status.busy": "2023-01-24T21:52:50.831927Z",
     "iopub.status.idle": "2023-01-24T21:52:50.840989Z",
     "shell.execute_reply": "2023-01-24T21:52:50.839785Z"
    },
    "papermill": {
     "duration": 0.022614,
     "end_time": "2023-01-24T21:52:50.843313",
     "exception": false,
     "start_time": "2023-01-24T21:52:50.820699",
     "status": "completed"
    },
    "tags": []
   },
   "outputs": [
    {
     "data": {
      "application/javascript": [
       "parent.postMessage({\"jupyterEvent\": \"custom.exercise_interaction\", \"data\": {\"interactionType\": 3, \"questionType\": 4, \"questionId\": \"2_PluralizationProblem\", \"learnToolsVersion\": \"0.3.4\", \"valueTowardsCompletion\": 0.0, \"failureMessage\": \"\", \"exceptionClass\": \"\", \"trace\": \"\", \"outcomeType\": 4}}, \"*\")"
      ],
      "text/plain": [
       "<IPython.core.display.Javascript object>"
      ]
     },
     "metadata": {},
     "output_type": "display_data"
    },
    {
     "data": {
      "text/markdown": [
       "<span style=\"color:#33cc99\">Solution:</span> A straightforward (and totally fine) solution is to replace the original `print` call with:\n",
       "\n",
       "```python\n",
       "if total_candies == 1:\n",
       "    print(\"Splitting 1 candy\")\n",
       "else:\n",
       "    print(\"Splitting\", total_candies, \"candies\")\n",
       "```\n",
       "\n",
       "Here's a slightly more succinct solution using a conditional expression:\n",
       "\n",
       "```python\n",
       "print(\"Splitting\", total_candies, \"candy\" if total_candies == 1 else \"candies\")\n",
       "```"
      ],
      "text/plain": [
       "Solution: A straightforward (and totally fine) solution is to replace the original `print` call with:\n",
       "\n",
       "```python\n",
       "if total_candies == 1:\n",
       "    print(\"Splitting 1 candy\")\n",
       "else:\n",
       "    print(\"Splitting\", total_candies, \"candies\")\n",
       "```\n",
       "\n",
       "Here's a slightly more succinct solution using a conditional expression:\n",
       "\n",
       "```python\n",
       "print(\"Splitting\", total_candies, \"candy\" if total_candies == 1 else \"candies\")\n",
       "```"
      ]
     },
     "metadata": {},
     "output_type": "display_data"
    }
   ],
   "source": [
    "# Check your answer (Run this code cell to receive credit!)\n",
    "q2.solution()"
   ]
  },
  {
   "cell_type": "markdown",
   "id": "1b48ec28",
   "metadata": {
    "papermill": {
     "duration": 0.009887,
     "end_time": "2023-01-24T21:52:50.863489",
     "exception": false,
     "start_time": "2023-01-24T21:52:50.853602",
     "status": "completed"
    },
    "tags": []
   },
   "source": [
    "# 3. <span title=\"A bit spicy\" style=\"color: darkgreen \">🌶️</span>\n",
    "\n",
    "In the tutorial, we talked about deciding whether we're prepared for the weather. I said that I'm safe from today's weather if...\n",
    "- I have an umbrella...\n",
    "- or if the rain isn't too heavy and I have a hood...\n",
    "- otherwise, I'm still fine unless it's raining *and* it's a workday\n",
    "\n",
    "The function below uses our first attempt at turning this logic into a Python expression. I claimed that there was a bug in that code. Can you find it?\n",
    "\n",
    "To prove that `prepared_for_weather` is buggy, come up with a set of inputs where either:\n",
    "- the function returns `False` (but should have returned `True`), or\n",
    "- the function returned `True` (but should have returned `False`).\n",
    "\n",
    "To get credit for completing this question, your code should return a <font color='#33cc33'>Correct</font> result."
   ]
  },
  {
   "cell_type": "code",
   "execution_count": 8,
   "id": "80bb7955",
   "metadata": {
    "execution": {
     "iopub.execute_input": "2023-01-24T21:52:50.886370Z",
     "iopub.status.busy": "2023-01-24T21:52:50.885652Z",
     "iopub.status.idle": "2023-01-24T21:52:50.897002Z",
     "shell.execute_reply": "2023-01-24T21:52:50.895805Z"
    },
    "papermill": {
     "duration": 0.025719,
     "end_time": "2023-01-24T21:52:50.899569",
     "exception": false,
     "start_time": "2023-01-24T21:52:50.873850",
     "status": "completed"
    },
    "tags": []
   },
   "outputs": [
    {
     "name": "stdout",
     "output_type": "stream",
     "text": [
      "False\n"
     ]
    },
    {
     "data": {
      "application/javascript": [
       "parent.postMessage({\"jupyterEvent\": \"custom.exercise_interaction\", \"data\": {\"outcomeType\": 1, \"valueTowardsCompletion\": 0.2, \"interactionType\": 1, \"questionType\": 1, \"questionId\": \"3_WeatherDebug\", \"learnToolsVersion\": \"0.3.4\", \"failureMessage\": \"\", \"exceptionClass\": \"\", \"trace\": \"\"}}, \"*\")"
      ],
      "text/plain": [
       "<IPython.core.display.Javascript object>"
      ]
     },
     "metadata": {},
     "output_type": "display_data"
    },
    {
     "data": {
      "text/markdown": [
       "<span style=\"color:#33cc33\">Correct:</span> \n",
       "\n",
       "One example of a failing test case is:\n",
       "\n",
       "```python\n",
       "have_umbrella = False\n",
       "rain_level = 0.0\n",
       "have_hood = False\n",
       "is_workday = False\n",
       "```\n",
       "\n",
       "Clearly we're prepared for the weather in this case. It's not raining. Not only that, it's not a workday, so we don't even need to leave the house! But our function will return False on these inputs.\n",
       "\n",
       "The key problem is that Python implictly parenthesizes the last part as:\n",
       "\n",
       "```python\n",
       "(not (rain_level > 0)) and is_workday\n",
       "```\n",
       "\n",
       "Whereas what we were trying to express would look more like:\n",
       "\n",
       "```python\n",
       "not (rain_level > 0 and is_workday)\n",
       "```\n"
      ],
      "text/plain": [
       "Correct: \n",
       "\n",
       "One example of a failing test case is:\n",
       "\n",
       "```python\n",
       "have_umbrella = False\n",
       "rain_level = 0.0\n",
       "have_hood = False\n",
       "is_workday = False\n",
       "```\n",
       "\n",
       "Clearly we're prepared for the weather in this case. It's not raining. Not only that, it's not a workday, so we don't even need to leave the house! But our function will return False on these inputs.\n",
       "\n",
       "The key problem is that Python implictly parenthesizes the last part as:\n",
       "\n",
       "```python\n",
       "(not (rain_level > 0)) and is_workday\n",
       "```\n",
       "\n",
       "Whereas what we were trying to express would look more like:\n",
       "\n",
       "```python\n",
       "not (rain_level > 0 and is_workday)\n",
       "```"
      ]
     },
     "metadata": {},
     "output_type": "display_data"
    }
   ],
   "source": [
    "def prepared_for_weather(have_umbrella, rain_level, have_hood, is_workday):\n",
    "    # Don't change this code. Our goal is just to find the bug, not fix it!\n",
    "    return have_umbrella or rain_level < 5 and have_hood or not rain_level > 0 and is_workday\n",
    "\n",
    "# Change the values of these inputs so they represent a case where prepared_for_weather\n",
    "# returns the wrong answer.\n",
    "have_umbrella = False\n",
    "rain_level = 0\n",
    "have_hood = False\n",
    "is_workday = False\n",
    "\n",
    "# Check what the function returns given the current values of the variables above\n",
    "actual = prepared_for_weather(have_umbrella, rain_level, have_hood, is_workday)\n",
    "print(actual)\n",
    "\n",
    "# Check your answer\n",
    "q3.check()"
   ]
  },
  {
   "cell_type": "code",
   "execution_count": 9,
   "id": "774b5423",
   "metadata": {
    "execution": {
     "iopub.execute_input": "2023-01-24T21:52:50.923653Z",
     "iopub.status.busy": "2023-01-24T21:52:50.922901Z",
     "iopub.status.idle": "2023-01-24T21:52:50.927957Z",
     "shell.execute_reply": "2023-01-24T21:52:50.926784Z"
    },
    "papermill": {
     "duration": 0.019804,
     "end_time": "2023-01-24T21:52:50.930454",
     "exception": false,
     "start_time": "2023-01-24T21:52:50.910650",
     "status": "completed"
    },
    "tags": []
   },
   "outputs": [],
   "source": [
    "#q3.hint()\n",
    "#q3.solution()"
   ]
  },
  {
   "cell_type": "markdown",
   "id": "25a31c02",
   "metadata": {
    "papermill": {
     "duration": 0.010621,
     "end_time": "2023-01-24T21:52:50.951698",
     "exception": false,
     "start_time": "2023-01-24T21:52:50.941077",
     "status": "completed"
    },
    "tags": []
   },
   "source": [
    "# 4.\n",
    "\n",
    "The function `is_negative` below is implemented correctly - it returns True if the given number is negative and False otherwise.\n",
    "\n",
    "However, it's more verbose than it needs to be. We can actually reduce the number of lines of code in this function by *75%* while keeping the same behaviour. \n",
    "\n",
    "See if you can come up with an equivalent body that uses just **one line** of code, and put it in the function `concise_is_negative`. (HINT: you don't even need Python's ternary syntax)"
   ]
  },
  {
   "cell_type": "code",
   "execution_count": 10,
   "id": "e76d33f5",
   "metadata": {
    "execution": {
     "iopub.execute_input": "2023-01-24T21:52:50.975388Z",
     "iopub.status.busy": "2023-01-24T21:52:50.974977Z",
     "iopub.status.idle": "2023-01-24T21:52:50.984612Z",
     "shell.execute_reply": "2023-01-24T21:52:50.983368Z"
    },
    "papermill": {
     "duration": 0.024515,
     "end_time": "2023-01-24T21:52:50.986924",
     "exception": false,
     "start_time": "2023-01-24T21:52:50.962409",
     "status": "completed"
    },
    "tags": []
   },
   "outputs": [
    {
     "data": {
      "application/javascript": [
       "parent.postMessage({\"jupyterEvent\": \"custom.exercise_interaction\", \"data\": {\"outcomeType\": 1, \"valueTowardsCompletion\": 0.2, \"interactionType\": 1, \"questionType\": 2, \"questionId\": \"4_ConciseIsNegative\", \"learnToolsVersion\": \"0.3.4\", \"failureMessage\": \"\", \"exceptionClass\": \"\", \"trace\": \"\"}}, \"*\")"
      ],
      "text/plain": [
       "<IPython.core.display.Javascript object>"
      ]
     },
     "metadata": {},
     "output_type": "display_data"
    },
    {
     "data": {
      "text/markdown": [
       "<span style=\"color:#33cc33\">Correct</span>"
      ],
      "text/plain": [
       "Correct"
      ]
     },
     "metadata": {},
     "output_type": "display_data"
    }
   ],
   "source": [
    "def is_negative(number):\n",
    "    if number < 0:\n",
    "        return True\n",
    "    else:\n",
    "        return False\n",
    "\n",
    "def concise_is_negative(number):\n",
    "    return number < 0\n",
    "\n",
    "# Check your answer\n",
    "q4.check()"
   ]
  },
  {
   "cell_type": "code",
   "execution_count": 11,
   "id": "beb992b4",
   "metadata": {
    "execution": {
     "iopub.execute_input": "2023-01-24T21:52:51.011129Z",
     "iopub.status.busy": "2023-01-24T21:52:51.010006Z",
     "iopub.status.idle": "2023-01-24T21:52:51.014162Z",
     "shell.execute_reply": "2023-01-24T21:52:51.013387Z"
    },
    "papermill": {
     "duration": 0.018428,
     "end_time": "2023-01-24T21:52:51.016279",
     "exception": false,
     "start_time": "2023-01-24T21:52:50.997851",
     "status": "completed"
    },
    "tags": []
   },
   "outputs": [],
   "source": [
    "#q4.hint()\n",
    "#q4.solution()"
   ]
  },
  {
   "cell_type": "markdown",
   "id": "e1eef881",
   "metadata": {
    "papermill": {
     "duration": 0.011361,
     "end_time": "2023-01-24T21:52:51.039248",
     "exception": false,
     "start_time": "2023-01-24T21:52:51.027887",
     "status": "completed"
    },
    "tags": []
   },
   "source": [
    "# 5a.\n",
    "\n",
    "The boolean variables `ketchup`, `mustard` and `onion` represent whether a customer wants a particular topping on their hot dog. We want to implement a number of boolean functions that correspond to some yes-or-no questions about the customer's order. For example:"
   ]
  },
  {
   "cell_type": "code",
   "execution_count": 12,
   "id": "5ea14c85",
   "metadata": {
    "execution": {
     "iopub.execute_input": "2023-01-24T21:52:51.063842Z",
     "iopub.status.busy": "2023-01-24T21:52:51.063207Z",
     "iopub.status.idle": "2023-01-24T21:52:51.067721Z",
     "shell.execute_reply": "2023-01-24T21:52:51.066619Z"
    },
    "papermill": {
     "duration": 0.019704,
     "end_time": "2023-01-24T21:52:51.070335",
     "exception": false,
     "start_time": "2023-01-24T21:52:51.050631",
     "status": "completed"
    },
    "tags": []
   },
   "outputs": [],
   "source": [
    "def onionless(ketchup, mustard, onion):\n",
    "    \"\"\"Return whether the customer doesn't want onions.\n",
    "    \"\"\"\n",
    "    return not onion"
   ]
  },
  {
   "cell_type": "code",
   "execution_count": 13,
   "id": "df722bfe",
   "metadata": {
    "execution": {
     "iopub.execute_input": "2023-01-24T21:52:51.094191Z",
     "iopub.status.busy": "2023-01-24T21:52:51.093763Z",
     "iopub.status.idle": "2023-01-24T21:52:51.103575Z",
     "shell.execute_reply": "2023-01-24T21:52:51.102360Z"
    },
    "papermill": {
     "duration": 0.02443,
     "end_time": "2023-01-24T21:52:51.105887",
     "exception": false,
     "start_time": "2023-01-24T21:52:51.081457",
     "status": "completed"
    },
    "tags": []
   },
   "outputs": [
    {
     "data": {
      "application/javascript": [
       "parent.postMessage({\"jupyterEvent\": \"custom.exercise_interaction\", \"data\": {\"outcomeType\": 1, \"valueTowardsCompletion\": 0.2, \"interactionType\": 1, \"questionType\": 2, \"questionId\": \"5.1_AllToppings\", \"learnToolsVersion\": \"0.3.4\", \"failureMessage\": \"\", \"exceptionClass\": \"\", \"trace\": \"\"}}, \"*\")"
      ],
      "text/plain": [
       "<IPython.core.display.Javascript object>"
      ]
     },
     "metadata": {},
     "output_type": "display_data"
    },
    {
     "data": {
      "text/markdown": [
       "<span style=\"color:#33cc33\">Correct</span>"
      ],
      "text/plain": [
       "Correct"
      ]
     },
     "metadata": {},
     "output_type": "display_data"
    }
   ],
   "source": [
    "def wants_all_toppings(ketchup, mustard, onion):\n",
    "    \"\"\"Return whether the customer wants \"the works\" (all 3 toppings)\n",
    "    \"\"\"\n",
    "    return ketchup and mustard and onion\n",
    "\n",
    "# Check your answer\n",
    "q5.a.check()"
   ]
  },
  {
   "cell_type": "code",
   "execution_count": 14,
   "id": "ec704c41",
   "metadata": {
    "execution": {
     "iopub.execute_input": "2023-01-24T21:52:51.129484Z",
     "iopub.status.busy": "2023-01-24T21:52:51.129049Z",
     "iopub.status.idle": "2023-01-24T21:52:51.133592Z",
     "shell.execute_reply": "2023-01-24T21:52:51.132480Z"
    },
    "papermill": {
     "duration": 0.019056,
     "end_time": "2023-01-24T21:52:51.135902",
     "exception": false,
     "start_time": "2023-01-24T21:52:51.116846",
     "status": "completed"
    },
    "tags": []
   },
   "outputs": [],
   "source": [
    "#q5.a.hint()\n",
    "#q5.a.solution()"
   ]
  },
  {
   "cell_type": "markdown",
   "id": "a4b20399",
   "metadata": {
    "papermill": {
     "duration": 0.010855,
     "end_time": "2023-01-24T21:52:51.157698",
     "exception": false,
     "start_time": "2023-01-24T21:52:51.146843",
     "status": "completed"
    },
    "tags": []
   },
   "source": [
    "# 5b.\n",
    "\n",
    "For the next function, fill in the body to match the English description in the docstring. "
   ]
  },
  {
   "cell_type": "markdown",
   "id": "85cf6172",
   "metadata": {
    "papermill": {
     "duration": 0.01143,
     "end_time": "2023-01-24T21:52:51.181266",
     "exception": false,
     "start_time": "2023-01-24T21:52:51.169836",
     "status": "completed"
    },
    "tags": []
   },
   "source": []
  },
  {
   "cell_type": "code",
   "execution_count": 15,
   "id": "657b82be",
   "metadata": {
    "execution": {
     "iopub.execute_input": "2023-01-24T21:52:51.205877Z",
     "iopub.status.busy": "2023-01-24T21:52:51.205490Z",
     "iopub.status.idle": "2023-01-24T21:52:51.213642Z",
     "shell.execute_reply": "2023-01-24T21:52:51.212665Z"
    },
    "papermill": {
     "duration": 0.023138,
     "end_time": "2023-01-24T21:52:51.215903",
     "exception": false,
     "start_time": "2023-01-24T21:52:51.192765",
     "status": "completed"
    },
    "tags": []
   },
   "outputs": [
    {
     "data": {
      "application/javascript": [
       "parent.postMessage({\"jupyterEvent\": \"custom.exercise_interaction\", \"data\": {\"outcomeType\": 1, \"valueTowardsCompletion\": 0.2, \"interactionType\": 1, \"questionType\": 2, \"questionId\": \"5.2_PlainDog\", \"learnToolsVersion\": \"0.3.4\", \"failureMessage\": \"\", \"exceptionClass\": \"\", \"trace\": \"\"}}, \"*\")"
      ],
      "text/plain": [
       "<IPython.core.display.Javascript object>"
      ]
     },
     "metadata": {},
     "output_type": "display_data"
    },
    {
     "data": {
      "text/markdown": [
       "<span style=\"color:#33cc33\">Correct:</span> \n",
       "\n",
       "One solution looks like:\n",
       "```python\n",
       "return not ketchup and not mustard and not onion\n",
       "```\n",
       "\n",
       "We can also [\"factor out\" the nots](https://en.wikipedia.org/wiki/De_Morgan%27s_laws) to get:\n",
       "\n",
       "```python\n",
       "return not (ketchup or mustard or onion)\n",
       "```"
      ],
      "text/plain": [
       "Correct: \n",
       "\n",
       "One solution looks like:\n",
       "```python\n",
       "return not ketchup and not mustard and not onion\n",
       "```\n",
       "\n",
       "We can also [\"factor out\" the nots](https://en.wikipedia.org/wiki/De_Morgan%27s_laws) to get:\n",
       "\n",
       "```python\n",
       "return not (ketchup or mustard or onion)\n",
       "```"
      ]
     },
     "metadata": {},
     "output_type": "display_data"
    }
   ],
   "source": [
    "def wants_plain_hotdog(ketchup, mustard, onion):\n",
    "    \"\"\"Return whether the customer wants a plain hot dog with no toppings.\n",
    "    \"\"\"\n",
    "    return not ketchup and not mustard and not onion\n",
    "\n",
    "# Check your answer\n",
    "q5.b.check()"
   ]
  },
  {
   "cell_type": "code",
   "execution_count": 16,
   "id": "cfb04968",
   "metadata": {
    "execution": {
     "iopub.execute_input": "2023-01-24T21:52:51.240638Z",
     "iopub.status.busy": "2023-01-24T21:52:51.240153Z",
     "iopub.status.idle": "2023-01-24T21:52:51.245202Z",
     "shell.execute_reply": "2023-01-24T21:52:51.243903Z"
    },
    "papermill": {
     "duration": 0.019847,
     "end_time": "2023-01-24T21:52:51.247347",
     "exception": false,
     "start_time": "2023-01-24T21:52:51.227500",
     "status": "completed"
    },
    "tags": []
   },
   "outputs": [],
   "source": [
    "#q5.b.hint()\n",
    "#q5.b.solution()"
   ]
  },
  {
   "cell_type": "markdown",
   "id": "4629c862",
   "metadata": {
    "papermill": {
     "duration": 0.011593,
     "end_time": "2023-01-24T21:52:51.270496",
     "exception": false,
     "start_time": "2023-01-24T21:52:51.258903",
     "status": "completed"
    },
    "tags": []
   },
   "source": [
    "# 5c.\n",
    "\n",
    "You know what to do: for the next function, fill in the body to match the English description in the docstring."
   ]
  },
  {
   "cell_type": "code",
   "execution_count": 17,
   "id": "85741604",
   "metadata": {
    "execution": {
     "iopub.execute_input": "2023-01-24T21:52:51.295662Z",
     "iopub.status.busy": "2023-01-24T21:52:51.295210Z",
     "iopub.status.idle": "2023-01-24T21:52:51.303244Z",
     "shell.execute_reply": "2023-01-24T21:52:51.302420Z"
    },
    "papermill": {
     "duration": 0.023589,
     "end_time": "2023-01-24T21:52:51.305478",
     "exception": false,
     "start_time": "2023-01-24T21:52:51.281889",
     "status": "completed"
    },
    "tags": []
   },
   "outputs": [
    {
     "data": {
      "application/javascript": [
       "parent.postMessage({\"jupyterEvent\": \"custom.exercise_interaction\", \"data\": {\"outcomeType\": 1, \"valueTowardsCompletion\": 0.2, \"interactionType\": 1, \"questionType\": 2, \"questionId\": \"5.3_OneSauce\", \"learnToolsVersion\": \"0.3.4\", \"failureMessage\": \"\", \"exceptionClass\": \"\", \"trace\": \"\"}}, \"*\")"
      ],
      "text/plain": [
       "<IPython.core.display.Javascript object>"
      ]
     },
     "metadata": {},
     "output_type": "display_data"
    },
    {
     "data": {
      "text/markdown": [
       "<span style=\"color:#33cc33\">Correct</span>"
      ],
      "text/plain": [
       "Correct"
      ]
     },
     "metadata": {},
     "output_type": "display_data"
    }
   ],
   "source": [
    "def exactly_one_sauce(ketchup, mustard, onion):\n",
    "    \"\"\"Return whether the customer wants either ketchup or mustard, but not both.\n",
    "    (You may be familiar with this operation under the name \"exclusive or\")\n",
    "    \"\"\"\n",
    "    return ketchup and not mustard or mustard and not ketchup\n",
    "\n",
    "# Check your answer\n",
    "q5.c.check()"
   ]
  },
  {
   "cell_type": "code",
   "execution_count": 18,
   "id": "226de838",
   "metadata": {
    "execution": {
     "iopub.execute_input": "2023-01-24T21:52:51.332886Z",
     "iopub.status.busy": "2023-01-24T21:52:51.331693Z",
     "iopub.status.idle": "2023-01-24T21:52:51.337057Z",
     "shell.execute_reply": "2023-01-24T21:52:51.335701Z"
    },
    "papermill": {
     "duration": 0.022247,
     "end_time": "2023-01-24T21:52:51.339858",
     "exception": false,
     "start_time": "2023-01-24T21:52:51.317611",
     "status": "completed"
    },
    "tags": []
   },
   "outputs": [],
   "source": [
    "#q5.c.hint()\n",
    "#q5.c.solution()"
   ]
  },
  {
   "cell_type": "markdown",
   "id": "0547c749",
   "metadata": {
    "papermill": {
     "duration": 0.011435,
     "end_time": "2023-01-24T21:52:51.364115",
     "exception": false,
     "start_time": "2023-01-24T21:52:51.352680",
     "status": "completed"
    },
    "tags": []
   },
   "source": [
    "# 6. <span title=\"A bit spicy\" style=\"color: darkgreen \">🌶️</span>\n",
    "\n",
    "We’ve seen that calling `bool()` on an integer returns `False` if it’s equal to 0 and `True` otherwise. What happens if we call `int()` on a bool? Try it out in the notebook cell below.\n",
    "\n",
    "Can you take advantage of this to write a succinct function that corresponds to the English sentence \"does the customer want exactly one topping?\"?"
   ]
  },
  {
   "cell_type": "code",
   "execution_count": 19,
   "id": "f883c840",
   "metadata": {
    "execution": {
     "iopub.execute_input": "2023-01-24T21:52:51.389906Z",
     "iopub.status.busy": "2023-01-24T21:52:51.389514Z",
     "iopub.status.idle": "2023-01-24T21:52:51.398647Z",
     "shell.execute_reply": "2023-01-24T21:52:51.397718Z"
    },
    "papermill": {
     "duration": 0.02494,
     "end_time": "2023-01-24T21:52:51.400783",
     "exception": false,
     "start_time": "2023-01-24T21:52:51.375843",
     "status": "completed"
    },
    "tags": []
   },
   "outputs": [
    {
     "data": {
      "application/javascript": [
       "parent.postMessage({\"jupyterEvent\": \"custom.exercise_interaction\", \"data\": {\"outcomeType\": 1, \"valueTowardsCompletion\": 0.2, \"interactionType\": 1, \"questionType\": 2, \"questionId\": \"6_OneTopping\", \"learnToolsVersion\": \"0.3.4\", \"failureMessage\": \"\", \"exceptionClass\": \"\", \"trace\": \"\"}}, \"*\")"
      ],
      "text/plain": [
       "<IPython.core.display.Javascript object>"
      ]
     },
     "metadata": {},
     "output_type": "display_data"
    },
    {
     "data": {
      "text/markdown": [
       "<span style=\"color:#33cc33\">Correct:</span> \n",
       "\n",
       "This condition would be pretty complicated to express using just `and`, `or` and `not`, but using boolean-to-integer conversion gives us this short solution:\n",
       "```python\n",
       "return (int(ketchup) + int(mustard) + int(onion)) == 1\n",
       "```\n",
       "\n",
       "Fun fact: we don't technically need to call `int` on the arguments. Just by doing addition with booleans, Python implicitly does the integer conversion. So we could also write...\n",
       "\n",
       "```python\n",
       "return (ketchup + mustard + onion) == 1\n",
       "```"
      ],
      "text/plain": [
       "Correct: \n",
       "\n",
       "This condition would be pretty complicated to express using just `and`, `or` and `not`, but using boolean-to-integer conversion gives us this short solution:\n",
       "```python\n",
       "return (int(ketchup) + int(mustard) + int(onion)) == 1\n",
       "```\n",
       "\n",
       "Fun fact: we don't technically need to call `int` on the arguments. Just by doing addition with booleans, Python implicitly does the integer conversion. So we could also write...\n",
       "\n",
       "```python\n",
       "return (ketchup + mustard + onion) == 1\n",
       "```"
      ]
     },
     "metadata": {},
     "output_type": "display_data"
    }
   ],
   "source": [
    "def exactly_one_topping(ketchup, mustard, onion):\n",
    "    \"\"\"Return whether the customer wants exactly one of the three available toppings\n",
    "    on their hot dog.\n",
    "    \"\"\"\n",
    "    return (ketchup + mustard + onion) == 1\n",
    "    \n",
    "\n",
    "# Check your answer\n",
    "q6.check()"
   ]
  },
  {
   "cell_type": "code",
   "execution_count": 20,
   "id": "0d7c3ce2",
   "metadata": {
    "execution": {
     "iopub.execute_input": "2023-01-24T21:52:51.426802Z",
     "iopub.status.busy": "2023-01-24T21:52:51.426200Z",
     "iopub.status.idle": "2023-01-24T21:52:51.430348Z",
     "shell.execute_reply": "2023-01-24T21:52:51.429028Z"
    },
    "papermill": {
     "duration": 0.020335,
     "end_time": "2023-01-24T21:52:51.433100",
     "exception": false,
     "start_time": "2023-01-24T21:52:51.412765",
     "status": "completed"
    },
    "tags": []
   },
   "outputs": [],
   "source": [
    "#q6.hint()\n",
    "#q6.solution()"
   ]
  },
  {
   "cell_type": "markdown",
   "id": "1b2783a5",
   "metadata": {
    "papermill": {
     "duration": 0.011707,
     "end_time": "2023-01-24T21:52:51.457945",
     "exception": false,
     "start_time": "2023-01-24T21:52:51.446238",
     "status": "completed"
    },
    "tags": []
   },
   "source": [
    "# 7. <span title=\"A bit spicy\" style=\"color: darkgreen \">🌶️</span> (Optional)\n",
    "\n",
    "In this problem we'll be working with a simplified version of [blackjack](https://en.wikipedia.org/wiki/Blackjack) (aka twenty-one). In this version there is one player (who you'll control) and a dealer. Play proceeds as follows:\n",
    "\n",
    "- The player is dealt two face-up cards. The dealer is dealt one face-up card.\n",
    "- The player may ask to be dealt another card ('hit') as many times as they wish. If the sum of their cards exceeds 21, they lose the round immediately.\n",
    "- The dealer then deals additional cards to himself until either:\n",
    "    - the sum of the dealer's cards exceeds 21, in which case the player wins the round\n",
    "    - the sum of the dealer's cards is greater than or equal to 17. If the player's total is greater than the dealer's, the player wins. Otherwise, the dealer wins (even in case of a tie).\n",
    "    \n",
    "When calculating the sum of cards, Jack, Queen, and King count for 10. Aces can count as 1 or 11 (when referring to a player's \"total\" above, we mean the largest total that can be made without exceeding 21. So e.g. A+8 = 19, A+8+8 = 17)\n",
    "\n",
    "For this problem, you'll write a function representing the player's decision-making strategy in this game. We've provided a very unintelligent implementation below:"
   ]
  },
  {
   "cell_type": "code",
   "execution_count": 21,
   "id": "513e2ca3",
   "metadata": {
    "execution": {
     "iopub.execute_input": "2023-01-24T21:52:51.483991Z",
     "iopub.status.busy": "2023-01-24T21:52:51.483520Z",
     "iopub.status.idle": "2023-01-24T21:52:51.489411Z",
     "shell.execute_reply": "2023-01-24T21:52:51.488200Z"
    },
    "papermill": {
     "duration": 0.021775,
     "end_time": "2023-01-24T21:52:51.491876",
     "exception": false,
     "start_time": "2023-01-24T21:52:51.470101",
     "status": "completed"
    },
    "tags": []
   },
   "outputs": [],
   "source": [
    "def should_hit(dealer_total, player_total, player_low_aces, player_high_aces):\n",
    "    \"\"\"Return True if the player should hit (request another card) given the current game\n",
    "    state, or False if the player should stay.\n",
    "    When calculating a hand's total value, we count aces as \"high\" (with value 11) if doing so\n",
    "    doesn't bring the total above 21, otherwise we count them as low (with value 1). \n",
    "    For example, if the player's hand is {A, A, A, 7}, we will count it as 11 + 1 + 1 + 7,\n",
    "    and therefore set player_total=20, player_low_aces=2, player_high_aces=1.\n",
    "    \"\"\"\n",
    "    \n",
    "    return False"
   ]
  },
  {
   "cell_type": "markdown",
   "id": "da08d9c7",
   "metadata": {
    "papermill": {
     "duration": 0.012253,
     "end_time": "2023-01-24T21:52:51.516767",
     "exception": false,
     "start_time": "2023-01-24T21:52:51.504514",
     "status": "completed"
    },
    "tags": []
   },
   "source": [
    "This very conservative agent *always* sticks with the hand of two cards that they're dealt.\n",
    "\n",
    "We'll be simulating games between your player agent and our own dealer agent by calling your function.\n",
    "\n",
    "Try running the function below to see an example of a simulated game:"
   ]
  },
  {
   "cell_type": "code",
   "execution_count": 22,
   "id": "6e3d0e66",
   "metadata": {
    "execution": {
     "iopub.execute_input": "2023-01-24T21:52:51.543365Z",
     "iopub.status.busy": "2023-01-24T21:52:51.542900Z",
     "iopub.status.idle": "2023-01-24T21:52:51.549780Z",
     "shell.execute_reply": "2023-01-24T21:52:51.547689Z"
    },
    "papermill": {
     "duration": 0.023493,
     "end_time": "2023-01-24T21:52:51.552384",
     "exception": false,
     "start_time": "2023-01-24T21:52:51.528891",
     "status": "completed"
    },
    "tags": []
   },
   "outputs": [
    {
     "name": "stdout",
     "output_type": "stream",
     "text": [
      "Player starts with Q and A (total = 21)\n",
      "Dealer starts with 2\n",
      "\n",
      "__Player's turn__\n",
      "Player stays\n",
      "\n",
      "__Dealer's turn__\n",
      "Dealer hits and receives 4. (total = 6)\n",
      "Dealer hits and receives Q. (total = 16)\n",
      "Dealer hits and receives 4. (total = 20)\n",
      "Dealer stands.\n",
      "Player wins. 21 > 20\n"
     ]
    }
   ],
   "source": [
    "q7.simulate_one_game()"
   ]
  },
  {
   "cell_type": "markdown",
   "id": "b80dc0a8",
   "metadata": {
    "papermill": {
     "duration": 0.011703,
     "end_time": "2023-01-24T21:52:51.577059",
     "exception": false,
     "start_time": "2023-01-24T21:52:51.565356",
     "status": "completed"
    },
    "tags": []
   },
   "source": [
    "The real test of your agent's mettle is their average win rate over many games. Try calling the function below to simulate 50000 games of blackjack (it may take a couple seconds):"
   ]
  },
  {
   "cell_type": "code",
   "execution_count": 23,
   "id": "bb3c916b",
   "metadata": {
    "execution": {
     "iopub.execute_input": "2023-01-24T21:52:51.603409Z",
     "iopub.status.busy": "2023-01-24T21:52:51.602970Z",
     "iopub.status.idle": "2023-01-24T21:52:53.314923Z",
     "shell.execute_reply": "2023-01-24T21:52:53.313806Z"
    },
    "papermill": {
     "duration": 1.729286,
     "end_time": "2023-01-24T21:52:53.318447",
     "exception": false,
     "start_time": "2023-01-24T21:52:51.589161",
     "status": "completed"
    },
    "tags": []
   },
   "outputs": [
    {
     "name": "stdout",
     "output_type": "stream",
     "text": [
      "Player won 19001 out of 50000 games (win rate = 38.0%)\n"
     ]
    }
   ],
   "source": [
    "q7.simulate(n_games=50000)"
   ]
  },
  {
   "cell_type": "markdown",
   "id": "27e5fce4",
   "metadata": {
    "papermill": {
     "duration": 0.011623,
     "end_time": "2023-01-24T21:52:53.342965",
     "exception": false,
     "start_time": "2023-01-24T21:52:53.331342",
     "status": "completed"
    },
    "tags": []
   },
   "source": [
    "Our dumb agent that completely ignores the game state still manages to win shockingly often!\n",
    "\n",
    "Try adding some more smarts to the `should_hit` function and see how it affects the results."
   ]
  },
  {
   "cell_type": "code",
   "execution_count": 24,
   "id": "402dce0a",
   "metadata": {
    "execution": {
     "iopub.execute_input": "2023-01-24T21:52:53.370167Z",
     "iopub.status.busy": "2023-01-24T21:52:53.369030Z",
     "iopub.status.idle": "2023-01-24T21:52:55.185085Z",
     "shell.execute_reply": "2023-01-24T21:52:55.183623Z"
    },
    "papermill": {
     "duration": 1.832148,
     "end_time": "2023-01-24T21:52:55.187685",
     "exception": false,
     "start_time": "2023-01-24T21:52:53.355537",
     "status": "completed"
    },
    "tags": []
   },
   "outputs": [
    {
     "name": "stdout",
     "output_type": "stream",
     "text": [
      "Player won 20872 out of 50000 games (win rate = 41.7%)\n"
     ]
    }
   ],
   "source": [
    "def should_hit(dealer_total, player_total, player_low_aces, player_high_aces):\n",
    "    \"\"\"Return True if the player should hit (request another card) given the current game\n",
    "    state, or False if the player should stay.\n",
    "    When calculating a hand's total value, we count aces as \"high\" (with value 11) if doing so\n",
    "    doesn't bring the total above 21, otherwise we count them as low (with value 1). \n",
    "    For example, if the player's hand is {A, A, A, 7}, we will count it as 11 + 1 + 1 + 7,\n",
    "    and therefore set player_total=20, player_low_aces=2, player_high_aces=1.\n",
    "    \"\"\"\n",
    "    if player_total < 16:\n",
    "        return True\n",
    "    if player_total < dealer_total:\n",
    "        return True\n",
    "    else:\n",
    "        return False\n",
    "\n",
    "q7.simulate(n_games=50000)"
   ]
  },
  {
   "cell_type": "markdown",
   "id": "c29276e7",
   "metadata": {
    "papermill": {
     "duration": 0.012284,
     "end_time": "2023-01-24T21:52:55.213169",
     "exception": false,
     "start_time": "2023-01-24T21:52:55.200885",
     "status": "completed"
    },
    "tags": []
   },
   "source": [
    "# Keep Going\n",
    "\n",
    "Learn about **[lists and tuples](https://www.kaggle.com/colinmorris/lists)** to handle multiple items of data in a systematic way."
   ]
  },
  {
   "cell_type": "markdown",
   "id": "7ee0015a",
   "metadata": {
    "papermill": {
     "duration": 0.012446,
     "end_time": "2023-01-24T21:52:55.238518",
     "exception": false,
     "start_time": "2023-01-24T21:52:55.226072",
     "status": "completed"
    },
    "tags": []
   },
   "source": [
    "---\n",
    "\n",
    "\n",
    "\n",
    "\n",
    "*Have questions or comments? Visit the [course discussion forum](https://www.kaggle.com/learn/python/discussion) to chat with other learners.*"
   ]
  }
 ],
 "metadata": {
  "kernelspec": {
   "display_name": "Python 3",
   "language": "python",
   "name": "python3"
  },
  "language_info": {
   "codemirror_mode": {
    "name": "ipython",
    "version": 3
   },
   "file_extension": ".py",
   "mimetype": "text/x-python",
   "name": "python",
   "nbconvert_exporter": "python",
   "pygments_lexer": "ipython3",
   "version": "3.7.12"
  },
  "papermill": {
   "default_parameters": {},
   "duration": 14.236148,
   "end_time": "2023-01-24T21:52:55.974848",
   "environment_variables": {},
   "exception": null,
   "input_path": "__notebook__.ipynb",
   "output_path": "__notebook__.ipynb",
   "parameters": {},
   "start_time": "2023-01-24T21:52:41.738700",
   "version": "2.3.4"
  }
 },
 "nbformat": 4,
 "nbformat_minor": 5
}

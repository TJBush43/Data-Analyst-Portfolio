{
 "cells": [
  {
   "cell_type": "markdown",
   "id": "1cf4a394",
   "metadata": {
    "papermill": {
     "duration": 0.006502,
     "end_time": "2023-02-27T23:09:37.954235",
     "exception": false,
     "start_time": "2023-02-27T23:09:37.947733",
     "status": "completed"
    },
    "tags": []
   },
   "source": [
    "**This notebook is an exercise in the [SQL](https://www.kaggle.com/learn/intro-to-sql) course.  You can reference the tutorial at [this link](https://www.kaggle.com/dansbecker/getting-started-with-sql-and-bigquery).**\n",
    "\n",
    "---\n"
   ]
  },
  {
   "cell_type": "markdown",
   "id": "ff5dc144",
   "metadata": {
    "papermill": {
     "duration": 0.005,
     "end_time": "2023-02-27T23:09:37.964696",
     "exception": false,
     "start_time": "2023-02-27T23:09:37.959696",
     "status": "completed"
    },
    "tags": []
   },
   "source": [
    "# Introduction\n",
    "\n",
    "The first test of your new data exploration skills uses data describing crime in the city of Chicago.\n",
    "\n",
    "Before you get started, run the following cell. It sets up the automated feedback system to review your answers."
   ]
  },
  {
   "cell_type": "code",
   "execution_count": 1,
   "id": "f72ff36d",
   "metadata": {
    "execution": {
     "iopub.execute_input": "2023-02-27T23:09:37.977722Z",
     "iopub.status.busy": "2023-02-27T23:09:37.977056Z",
     "iopub.status.idle": "2023-02-27T23:09:39.092847Z",
     "shell.execute_reply": "2023-02-27T23:09:39.091041Z"
    },
    "papermill": {
     "duration": 1.125985,
     "end_time": "2023-02-27T23:09:39.096005",
     "exception": false,
     "start_time": "2023-02-27T23:09:37.970020",
     "status": "completed"
    },
    "tags": []
   },
   "outputs": [
    {
     "name": "stdout",
     "output_type": "stream",
     "text": [
      "Using Kaggle's public dataset BigQuery integration.\n",
      "Setup Complete\n"
     ]
    }
   ],
   "source": [
    "# Set up feedack system\n",
    "from learntools.core import binder\n",
    "binder.bind(globals())\n",
    "from learntools.sql.ex1 import *\n",
    "print(\"Setup Complete\")"
   ]
  },
  {
   "cell_type": "markdown",
   "id": "ff287cc9",
   "metadata": {
    "papermill": {
     "duration": 0.00526,
     "end_time": "2023-02-27T23:09:39.106867",
     "exception": false,
     "start_time": "2023-02-27T23:09:39.101607",
     "status": "completed"
    },
    "tags": []
   },
   "source": [
    "Use the next code cell to fetch the dataset."
   ]
  },
  {
   "cell_type": "code",
   "execution_count": 2,
   "id": "3bec031f",
   "metadata": {
    "execution": {
     "iopub.execute_input": "2023-02-27T23:09:39.120222Z",
     "iopub.status.busy": "2023-02-27T23:09:39.119398Z",
     "iopub.status.idle": "2023-02-27T23:09:39.468269Z",
     "shell.execute_reply": "2023-02-27T23:09:39.467052Z"
    },
    "papermill": {
     "duration": 0.358843,
     "end_time": "2023-02-27T23:09:39.471120",
     "exception": false,
     "start_time": "2023-02-27T23:09:39.112277",
     "status": "completed"
    },
    "tags": []
   },
   "outputs": [
    {
     "name": "stdout",
     "output_type": "stream",
     "text": [
      "Using Kaggle's public dataset BigQuery integration.\n"
     ]
    }
   ],
   "source": [
    "from google.cloud import bigquery\n",
    "\n",
    "# Create a \"Client\" object\n",
    "client = bigquery.Client()\n",
    "\n",
    "# Construct a reference to the \"chicago_crime\" dataset\n",
    "dataset_ref = client.dataset(\"chicago_crime\", project=\"bigquery-public-data\")\n",
    "\n",
    "# API request - fetch the dataset\n",
    "dataset = client.get_dataset(dataset_ref)"
   ]
  },
  {
   "cell_type": "markdown",
   "id": "6b28e1fc",
   "metadata": {
    "papermill": {
     "duration": 0.005219,
     "end_time": "2023-02-27T23:09:39.482114",
     "exception": false,
     "start_time": "2023-02-27T23:09:39.476895",
     "status": "completed"
    },
    "tags": []
   },
   "source": [
    "# Exercises\n",
    "\n",
    "### 1) Count tables in the dataset\n",
    "\n",
    "How many tables are in the Chicago Crime dataset?"
   ]
  },
  {
   "cell_type": "code",
   "execution_count": 3,
   "id": "f3b7ceb9",
   "metadata": {
    "execution": {
     "iopub.execute_input": "2023-02-27T23:09:39.494929Z",
     "iopub.status.busy": "2023-02-27T23:09:39.494511Z",
     "iopub.status.idle": "2023-02-27T23:09:39.719188Z",
     "shell.execute_reply": "2023-02-27T23:09:39.717872Z"
    },
    "papermill": {
     "duration": 0.234409,
     "end_time": "2023-02-27T23:09:39.721855",
     "exception": false,
     "start_time": "2023-02-27T23:09:39.487446",
     "status": "completed"
    },
    "tags": []
   },
   "outputs": [
    {
     "name": "stdout",
     "output_type": "stream",
     "text": [
      "crime\n"
     ]
    }
   ],
   "source": [
    "# Write the code you need here to figure out the answer\n",
    "tables = list(client.list_tables(dataset))\n",
    "\n",
    "for table in tables:\n",
    "    print(table.table_id)"
   ]
  },
  {
   "cell_type": "code",
   "execution_count": 4,
   "id": "8d60d2c6",
   "metadata": {
    "execution": {
     "iopub.execute_input": "2023-02-27T23:09:39.735926Z",
     "iopub.status.busy": "2023-02-27T23:09:39.734951Z",
     "iopub.status.idle": "2023-02-27T23:09:39.746570Z",
     "shell.execute_reply": "2023-02-27T23:09:39.745348Z"
    },
    "papermill": {
     "duration": 0.021434,
     "end_time": "2023-02-27T23:09:39.749120",
     "exception": false,
     "start_time": "2023-02-27T23:09:39.727686",
     "status": "completed"
    },
    "tags": []
   },
   "outputs": [
    {
     "data": {
      "application/javascript": [
       "parent.postMessage({\"jupyterEvent\": \"custom.exercise_interaction\", \"data\": {\"outcomeType\": 1, \"valueTowardsCompletion\": 0.3333333333333333, \"interactionType\": 1, \"questionType\": 1, \"questionId\": \"1_CountTables\", \"learnToolsVersion\": \"0.3.4\", \"failureMessage\": \"\", \"exceptionClass\": \"\", \"trace\": \"\"}}, \"*\")"
      ],
      "text/plain": [
       "<IPython.core.display.Javascript object>"
      ]
     },
     "metadata": {},
     "output_type": "display_data"
    },
    {
     "data": {
      "text/markdown": [
       "<span style=\"color:#33cc33\">Correct</span>"
      ],
      "text/plain": [
       "Correct"
      ]
     },
     "metadata": {},
     "output_type": "display_data"
    }
   ],
   "source": [
    "num_tables = 1  # Store the answer as num_tables and then run this cell\n",
    "\n",
    "# Check your answer\n",
    "q_1.check()"
   ]
  },
  {
   "cell_type": "markdown",
   "id": "797c237c",
   "metadata": {
    "papermill": {
     "duration": 0.005708,
     "end_time": "2023-02-27T23:09:39.760752",
     "exception": false,
     "start_time": "2023-02-27T23:09:39.755044",
     "status": "completed"
    },
    "tags": []
   },
   "source": [
    "For a hint or the solution, uncomment the appropriate line below."
   ]
  },
  {
   "cell_type": "code",
   "execution_count": 5,
   "id": "843273fa",
   "metadata": {
    "execution": {
     "iopub.execute_input": "2023-02-27T23:09:39.774777Z",
     "iopub.status.busy": "2023-02-27T23:09:39.774322Z",
     "iopub.status.idle": "2023-02-27T23:09:39.779260Z",
     "shell.execute_reply": "2023-02-27T23:09:39.778060Z"
    },
    "papermill": {
     "duration": 0.015188,
     "end_time": "2023-02-27T23:09:39.781858",
     "exception": false,
     "start_time": "2023-02-27T23:09:39.766670",
     "status": "completed"
    },
    "tags": []
   },
   "outputs": [],
   "source": [
    "#q_1.hint()\n",
    "#q_1.solution()"
   ]
  },
  {
   "cell_type": "markdown",
   "id": "11d761ba",
   "metadata": {
    "papermill": {
     "duration": 0.005658,
     "end_time": "2023-02-27T23:09:39.793508",
     "exception": false,
     "start_time": "2023-02-27T23:09:39.787850",
     "status": "completed"
    },
    "tags": []
   },
   "source": [
    "### 2) Explore the table schema\n",
    "\n",
    "How many columns in the `crime` table have `TIMESTAMP` data?"
   ]
  },
  {
   "cell_type": "code",
   "execution_count": 6,
   "id": "74cbbb16",
   "metadata": {
    "execution": {
     "iopub.execute_input": "2023-02-27T23:09:39.808502Z",
     "iopub.status.busy": "2023-02-27T23:09:39.808061Z",
     "iopub.status.idle": "2023-02-27T23:09:40.116271Z",
     "shell.execute_reply": "2023-02-27T23:09:40.115105Z"
    },
    "papermill": {
     "duration": 0.318257,
     "end_time": "2023-02-27T23:09:40.118762",
     "exception": false,
     "start_time": "2023-02-27T23:09:39.800505",
     "status": "completed"
    },
    "tags": []
   },
   "outputs": [
    {
     "data": {
      "text/plain": [
       "[SchemaField('unique_key', 'INTEGER', 'REQUIRED', None, (), None),\n",
       " SchemaField('case_number', 'STRING', 'NULLABLE', None, (), None),\n",
       " SchemaField('date', 'TIMESTAMP', 'NULLABLE', None, (), None),\n",
       " SchemaField('block', 'STRING', 'NULLABLE', None, (), None),\n",
       " SchemaField('iucr', 'STRING', 'NULLABLE', None, (), None),\n",
       " SchemaField('primary_type', 'STRING', 'NULLABLE', None, (), None),\n",
       " SchemaField('description', 'STRING', 'NULLABLE', None, (), None),\n",
       " SchemaField('location_description', 'STRING', 'NULLABLE', None, (), None),\n",
       " SchemaField('arrest', 'BOOLEAN', 'NULLABLE', None, (), None),\n",
       " SchemaField('domestic', 'BOOLEAN', 'NULLABLE', None, (), None),\n",
       " SchemaField('beat', 'INTEGER', 'NULLABLE', None, (), None),\n",
       " SchemaField('district', 'INTEGER', 'NULLABLE', None, (), None),\n",
       " SchemaField('ward', 'INTEGER', 'NULLABLE', None, (), None),\n",
       " SchemaField('community_area', 'INTEGER', 'NULLABLE', None, (), None),\n",
       " SchemaField('fbi_code', 'STRING', 'NULLABLE', None, (), None),\n",
       " SchemaField('x_coordinate', 'FLOAT', 'NULLABLE', None, (), None),\n",
       " SchemaField('y_coordinate', 'FLOAT', 'NULLABLE', None, (), None),\n",
       " SchemaField('year', 'INTEGER', 'NULLABLE', None, (), None),\n",
       " SchemaField('updated_on', 'TIMESTAMP', 'NULLABLE', None, (), None),\n",
       " SchemaField('latitude', 'FLOAT', 'NULLABLE', None, (), None),\n",
       " SchemaField('longitude', 'FLOAT', 'NULLABLE', None, (), None),\n",
       " SchemaField('location', 'STRING', 'NULLABLE', None, (), None)]"
      ]
     },
     "execution_count": 6,
     "metadata": {},
     "output_type": "execute_result"
    }
   ],
   "source": [
    "# Write the code to figure out the answer\n",
    "table_ref = dataset_ref.table(\"crime\")\n",
    "\n",
    "table = client.get_table(table_ref)\n",
    "\n",
    "table.schema\n"
   ]
  },
  {
   "cell_type": "code",
   "execution_count": 7,
   "id": "40e81220",
   "metadata": {
    "execution": {
     "iopub.execute_input": "2023-02-27T23:09:40.134388Z",
     "iopub.status.busy": "2023-02-27T23:09:40.133992Z",
     "iopub.status.idle": "2023-02-27T23:09:40.141537Z",
     "shell.execute_reply": "2023-02-27T23:09:40.140722Z"
    },
    "papermill": {
     "duration": 0.017482,
     "end_time": "2023-02-27T23:09:40.143487",
     "exception": false,
     "start_time": "2023-02-27T23:09:40.126005",
     "status": "completed"
    },
    "tags": []
   },
   "outputs": [
    {
     "data": {
      "application/javascript": [
       "parent.postMessage({\"jupyterEvent\": \"custom.exercise_interaction\", \"data\": {\"outcomeType\": 1, \"valueTowardsCompletion\": 0.3333333333333333, \"interactionType\": 1, \"questionType\": 1, \"questionId\": \"2_CountTimestampFields\", \"learnToolsVersion\": \"0.3.4\", \"failureMessage\": \"\", \"exceptionClass\": \"\", \"trace\": \"\"}}, \"*\")"
      ],
      "text/plain": [
       "<IPython.core.display.Javascript object>"
      ]
     },
     "metadata": {},
     "output_type": "display_data"
    },
    {
     "data": {
      "text/markdown": [
       "<span style=\"color:#33cc33\">Correct</span>"
      ],
      "text/plain": [
       "Correct"
      ]
     },
     "metadata": {},
     "output_type": "display_data"
    }
   ],
   "source": [
    "num_timestamp_fields = 2 # Put your answer here\n",
    "\n",
    "# Check your answer\n",
    "q_2.check()"
   ]
  },
  {
   "cell_type": "markdown",
   "id": "4749d910",
   "metadata": {
    "papermill": {
     "duration": 0.006044,
     "end_time": "2023-02-27T23:09:40.155561",
     "exception": false,
     "start_time": "2023-02-27T23:09:40.149517",
     "status": "completed"
    },
    "tags": []
   },
   "source": [
    "For a hint or the solution, uncomment the appropriate line below."
   ]
  },
  {
   "cell_type": "code",
   "execution_count": 8,
   "id": "bef6fb43",
   "metadata": {
    "execution": {
     "iopub.execute_input": "2023-02-27T23:09:40.169859Z",
     "iopub.status.busy": "2023-02-27T23:09:40.169473Z",
     "iopub.status.idle": "2023-02-27T23:09:40.173966Z",
     "shell.execute_reply": "2023-02-27T23:09:40.172794Z"
    },
    "papermill": {
     "duration": 0.014599,
     "end_time": "2023-02-27T23:09:40.176320",
     "exception": false,
     "start_time": "2023-02-27T23:09:40.161721",
     "status": "completed"
    },
    "tags": []
   },
   "outputs": [],
   "source": [
    "#q_2.hint()\n",
    "#q_2.solution()"
   ]
  },
  {
   "cell_type": "markdown",
   "id": "bc1072fe",
   "metadata": {
    "papermill": {
     "duration": 0.005825,
     "end_time": "2023-02-27T23:09:40.188276",
     "exception": false,
     "start_time": "2023-02-27T23:09:40.182451",
     "status": "completed"
    },
    "tags": []
   },
   "source": [
    "### 3) Create a crime map\n",
    "\n",
    "If you wanted to create a map with a dot at the location of each crime, what are the names of the two fields you likely need to pull out of the `crime` table to plot the crimes on a map?"
   ]
  },
  {
   "cell_type": "code",
   "execution_count": 9,
   "id": "68363ecf",
   "metadata": {
    "execution": {
     "iopub.execute_input": "2023-02-27T23:09:40.202700Z",
     "iopub.status.busy": "2023-02-27T23:09:40.202298Z",
     "iopub.status.idle": "2023-02-27T23:09:40.978833Z",
     "shell.execute_reply": "2023-02-27T23:09:40.977973Z"
    },
    "papermill": {
     "duration": 0.786871,
     "end_time": "2023-02-27T23:09:40.981424",
     "exception": false,
     "start_time": "2023-02-27T23:09:40.194553",
     "status": "completed"
    },
    "tags": []
   },
   "outputs": [
    {
     "name": "stderr",
     "output_type": "stream",
     "text": [
      "/opt/conda/lib/python3.7/site-packages/ipykernel_launcher.py:3: UserWarning: Cannot use bqstorage_client if max_results is set, reverting to fetching data with the tabledata.list endpoint.\n",
      "  This is separate from the ipykernel package so we can avoid doing imports until\n"
     ]
    },
    {
     "data": {
      "text/html": [
       "<div>\n",
       "<style scoped>\n",
       "    .dataframe tbody tr th:only-of-type {\n",
       "        vertical-align: middle;\n",
       "    }\n",
       "\n",
       "    .dataframe tbody tr th {\n",
       "        vertical-align: top;\n",
       "    }\n",
       "\n",
       "    .dataframe thead th {\n",
       "        text-align: right;\n",
       "    }\n",
       "</style>\n",
       "<table border=\"1\" class=\"dataframe\">\n",
       "  <thead>\n",
       "    <tr style=\"text-align: right;\">\n",
       "      <th></th>\n",
       "      <th>unique_key</th>\n",
       "      <th>case_number</th>\n",
       "      <th>date</th>\n",
       "      <th>block</th>\n",
       "      <th>iucr</th>\n",
       "      <th>primary_type</th>\n",
       "      <th>description</th>\n",
       "      <th>location_description</th>\n",
       "      <th>arrest</th>\n",
       "      <th>domestic</th>\n",
       "      <th>...</th>\n",
       "      <th>ward</th>\n",
       "      <th>community_area</th>\n",
       "      <th>fbi_code</th>\n",
       "      <th>x_coordinate</th>\n",
       "      <th>y_coordinate</th>\n",
       "      <th>year</th>\n",
       "      <th>updated_on</th>\n",
       "      <th>latitude</th>\n",
       "      <th>longitude</th>\n",
       "      <th>location</th>\n",
       "    </tr>\n",
       "  </thead>\n",
       "  <tbody>\n",
       "    <tr>\n",
       "      <th>0</th>\n",
       "      <td>1945</td>\n",
       "      <td>HH769051</td>\n",
       "      <td>2002-12-24 11:58:00+00:00</td>\n",
       "      <td>104XX S PRAIRIE AVE</td>\n",
       "      <td>0110</td>\n",
       "      <td>HOMICIDE</td>\n",
       "      <td>FIRST DEGREE MURDER</td>\n",
       "      <td>HOUSE</td>\n",
       "      <td>True</td>\n",
       "      <td>True</td>\n",
       "      <td>...</td>\n",
       "      <td>9</td>\n",
       "      <td>49</td>\n",
       "      <td>01A</td>\n",
       "      <td>1179761.0</td>\n",
       "      <td>1835736.0</td>\n",
       "      <td>2002</td>\n",
       "      <td>2022-08-31 04:51:30+00:00</td>\n",
       "      <td>41.704533</td>\n",
       "      <td>-87.617352</td>\n",
       "      <td>(41.704532517, -87.61735248)</td>\n",
       "    </tr>\n",
       "    <tr>\n",
       "      <th>1</th>\n",
       "      <td>2446</td>\n",
       "      <td>HJ698541</td>\n",
       "      <td>2003-10-17 01:36:00+00:00</td>\n",
       "      <td>104XX S INDIANA AVE</td>\n",
       "      <td>0110</td>\n",
       "      <td>HOMICIDE</td>\n",
       "      <td>FIRST DEGREE MURDER</td>\n",
       "      <td>AUTO</td>\n",
       "      <td>False</td>\n",
       "      <td>False</td>\n",
       "      <td>...</td>\n",
       "      <td>9</td>\n",
       "      <td>49</td>\n",
       "      <td>01A</td>\n",
       "      <td>1179434.0</td>\n",
       "      <td>1835549.0</td>\n",
       "      <td>2003</td>\n",
       "      <td>2022-08-31 04:51:30+00:00</td>\n",
       "      <td>41.704027</td>\n",
       "      <td>-87.618556</td>\n",
       "      <td>(41.704026818, -87.618555581)</td>\n",
       "    </tr>\n",
       "    <tr>\n",
       "      <th>2</th>\n",
       "      <td>20399</td>\n",
       "      <td>HV275470</td>\n",
       "      <td>2012-05-07 02:30:00+00:00</td>\n",
       "      <td>009XX E 104TH ST</td>\n",
       "      <td>0110</td>\n",
       "      <td>HOMICIDE</td>\n",
       "      <td>FIRST DEGREE MURDER</td>\n",
       "      <td>APARTMENT</td>\n",
       "      <td>False</td>\n",
       "      <td>True</td>\n",
       "      <td>...</td>\n",
       "      <td>9</td>\n",
       "      <td>50</td>\n",
       "      <td>01A</td>\n",
       "      <td>1184238.0</td>\n",
       "      <td>1836191.0</td>\n",
       "      <td>2012</td>\n",
       "      <td>2022-08-31 04:51:30+00:00</td>\n",
       "      <td>41.705678</td>\n",
       "      <td>-87.600944</td>\n",
       "      <td>(41.705677782, -87.600944364)</td>\n",
       "    </tr>\n",
       "    <tr>\n",
       "      <th>3</th>\n",
       "      <td>2315</td>\n",
       "      <td>HJ540270</td>\n",
       "      <td>2003-08-04 08:35:00+00:00</td>\n",
       "      <td>002XX W 105TH ST</td>\n",
       "      <td>0110</td>\n",
       "      <td>HOMICIDE</td>\n",
       "      <td>FIRST DEGREE MURDER</td>\n",
       "      <td>STREET</td>\n",
       "      <td>True</td>\n",
       "      <td>False</td>\n",
       "      <td>...</td>\n",
       "      <td>34</td>\n",
       "      <td>49</td>\n",
       "      <td>01A</td>\n",
       "      <td>1176592.0</td>\n",
       "      <td>1835315.0</td>\n",
       "      <td>2003</td>\n",
       "      <td>2022-08-31 04:51:30+00:00</td>\n",
       "      <td>41.703449</td>\n",
       "      <td>-87.628969</td>\n",
       "      <td>(41.703448947, -87.628969433)</td>\n",
       "    </tr>\n",
       "    <tr>\n",
       "      <th>4</th>\n",
       "      <td>8505758</td>\n",
       "      <td>HV182710</td>\n",
       "      <td>2012-02-20 09:00:00+00:00</td>\n",
       "      <td>105XX S WENTWORTH AVE</td>\n",
       "      <td>0261</td>\n",
       "      <td>CRIM SEXUAL ASSAULT</td>\n",
       "      <td>AGGRAVATED: HANDGUN</td>\n",
       "      <td>ALLEY</td>\n",
       "      <td>False</td>\n",
       "      <td>False</td>\n",
       "      <td>...</td>\n",
       "      <td>34</td>\n",
       "      <td>49</td>\n",
       "      <td>02</td>\n",
       "      <td>1176810.0</td>\n",
       "      <td>1835237.0</td>\n",
       "      <td>2012</td>\n",
       "      <td>2018-02-10 03:50:01+00:00</td>\n",
       "      <td>41.703230</td>\n",
       "      <td>-87.628174</td>\n",
       "      <td>(41.703230009, -87.628173505)</td>\n",
       "    </tr>\n",
       "  </tbody>\n",
       "</table>\n",
       "<p>5 rows × 22 columns</p>\n",
       "</div>"
      ],
      "text/plain": [
       "   unique_key case_number                      date                  block  \\\n",
       "0        1945    HH769051 2002-12-24 11:58:00+00:00    104XX S PRAIRIE AVE   \n",
       "1        2446    HJ698541 2003-10-17 01:36:00+00:00    104XX S INDIANA AVE   \n",
       "2       20399    HV275470 2012-05-07 02:30:00+00:00       009XX E 104TH ST   \n",
       "3        2315    HJ540270 2003-08-04 08:35:00+00:00       002XX W 105TH ST   \n",
       "4     8505758    HV182710 2012-02-20 09:00:00+00:00  105XX S WENTWORTH AVE   \n",
       "\n",
       "   iucr         primary_type          description location_description  \\\n",
       "0  0110             HOMICIDE  FIRST DEGREE MURDER                HOUSE   \n",
       "1  0110             HOMICIDE  FIRST DEGREE MURDER                 AUTO   \n",
       "2  0110             HOMICIDE  FIRST DEGREE MURDER            APARTMENT   \n",
       "3  0110             HOMICIDE  FIRST DEGREE MURDER               STREET   \n",
       "4  0261  CRIM SEXUAL ASSAULT  AGGRAVATED: HANDGUN                ALLEY   \n",
       "\n",
       "   arrest  domestic  ...  ward  community_area  fbi_code  x_coordinate  \\\n",
       "0    True      True  ...     9              49       01A     1179761.0   \n",
       "1   False     False  ...     9              49       01A     1179434.0   \n",
       "2   False      True  ...     9              50       01A     1184238.0   \n",
       "3    True     False  ...    34              49       01A     1176592.0   \n",
       "4   False     False  ...    34              49        02     1176810.0   \n",
       "\n",
       "  y_coordinate  year                updated_on   latitude  longitude  \\\n",
       "0    1835736.0  2002 2022-08-31 04:51:30+00:00  41.704533 -87.617352   \n",
       "1    1835549.0  2003 2022-08-31 04:51:30+00:00  41.704027 -87.618556   \n",
       "2    1836191.0  2012 2022-08-31 04:51:30+00:00  41.705678 -87.600944   \n",
       "3    1835315.0  2003 2022-08-31 04:51:30+00:00  41.703449 -87.628969   \n",
       "4    1835237.0  2012 2018-02-10 03:50:01+00:00  41.703230 -87.628174   \n",
       "\n",
       "                        location  \n",
       "0   (41.704532517, -87.61735248)  \n",
       "1  (41.704026818, -87.618555581)  \n",
       "2  (41.705677782, -87.600944364)  \n",
       "3  (41.703448947, -87.628969433)  \n",
       "4  (41.703230009, -87.628173505)  \n",
       "\n",
       "[5 rows x 22 columns]"
      ]
     },
     "execution_count": 9,
     "metadata": {},
     "output_type": "execute_result"
    }
   ],
   "source": [
    "# Write the code here to explore the data so you can find the answer\n",
    "\n",
    "client.list_rows(table, max_results=5).to_dataframe()"
   ]
  },
  {
   "cell_type": "code",
   "execution_count": 10,
   "id": "a7b592eb",
   "metadata": {
    "execution": {
     "iopub.execute_input": "2023-02-27T23:09:40.997374Z",
     "iopub.status.busy": "2023-02-27T23:09:40.996394Z",
     "iopub.status.idle": "2023-02-27T23:09:41.005488Z",
     "shell.execute_reply": "2023-02-27T23:09:41.004433Z"
    },
    "papermill": {
     "duration": 0.01945,
     "end_time": "2023-02-27T23:09:41.007677",
     "exception": false,
     "start_time": "2023-02-27T23:09:40.988227",
     "status": "completed"
    },
    "tags": []
   },
   "outputs": [
    {
     "data": {
      "application/javascript": [
       "parent.postMessage({\"jupyterEvent\": \"custom.exercise_interaction\", \"data\": {\"outcomeType\": 1, \"valueTowardsCompletion\": 0.3333333333333333, \"interactionType\": 1, \"questionType\": 2, \"questionId\": \"3_IdentifyFieldsForPlotting\", \"learnToolsVersion\": \"0.3.4\", \"failureMessage\": \"\", \"exceptionClass\": \"\", \"trace\": \"\"}}, \"*\")"
      ],
      "text/plain": [
       "<IPython.core.display.Javascript object>"
      ]
     },
     "metadata": {},
     "output_type": "display_data"
    },
    {
     "data": {
      "text/markdown": [
       "<span style=\"color:#33cc33\">Correct</span>"
      ],
      "text/plain": [
       "Correct"
      ]
     },
     "metadata": {},
     "output_type": "display_data"
    }
   ],
   "source": [
    "fields_for_plotting = ['latitude', 'longitude'] # Put your answers here\n",
    "\n",
    "# Check your answer\n",
    "q_3.check()"
   ]
  },
  {
   "cell_type": "markdown",
   "id": "d4998227",
   "metadata": {
    "papermill": {
     "duration": 0.006516,
     "end_time": "2023-02-27T23:09:41.021175",
     "exception": false,
     "start_time": "2023-02-27T23:09:41.014659",
     "status": "completed"
    },
    "tags": []
   },
   "source": [
    "For a hint or the solution, uncomment the appropriate line below."
   ]
  },
  {
   "cell_type": "code",
   "execution_count": 11,
   "id": "2bc6f921",
   "metadata": {
    "execution": {
     "iopub.execute_input": "2023-02-27T23:09:41.036499Z",
     "iopub.status.busy": "2023-02-27T23:09:41.036041Z",
     "iopub.status.idle": "2023-02-27T23:09:41.040437Z",
     "shell.execute_reply": "2023-02-27T23:09:41.039293Z"
    },
    "papermill": {
     "duration": 0.015227,
     "end_time": "2023-02-27T23:09:41.043009",
     "exception": false,
     "start_time": "2023-02-27T23:09:41.027782",
     "status": "completed"
    },
    "tags": []
   },
   "outputs": [],
   "source": [
    "#q_3.hint()\n",
    "#q_3.solution()"
   ]
  },
  {
   "cell_type": "markdown",
   "id": "8bab4eb4",
   "metadata": {
    "papermill": {
     "duration": 0.006727,
     "end_time": "2023-02-27T23:09:41.056492",
     "exception": false,
     "start_time": "2023-02-27T23:09:41.049765",
     "status": "completed"
    },
    "tags": []
   },
   "source": [
    "Thinking about the question above, there are a few columns that appear to have geographic data. Look at a few values (with the `list_rows()` command) to see if you can determine their relationship.  Two columns will still be hard to interpret. But it should be obvious how the `location` column relates to `latitude` and `longitude`."
   ]
  },
  {
   "cell_type": "code",
   "execution_count": 12,
   "id": "f7627873",
   "metadata": {
    "execution": {
     "iopub.execute_input": "2023-02-27T23:09:41.072296Z",
     "iopub.status.busy": "2023-02-27T23:09:41.071590Z",
     "iopub.status.idle": "2023-02-27T23:09:41.076340Z",
     "shell.execute_reply": "2023-02-27T23:09:41.075572Z"
    },
    "papermill": {
     "duration": 0.01526,
     "end_time": "2023-02-27T23:09:41.078502",
     "exception": false,
     "start_time": "2023-02-27T23:09:41.063242",
     "status": "completed"
    },
    "tags": []
   },
   "outputs": [],
   "source": [
    "# Scratch space for your code"
   ]
  },
  {
   "cell_type": "markdown",
   "id": "484109f9",
   "metadata": {
    "papermill": {
     "duration": 0.006393,
     "end_time": "2023-02-27T23:09:41.091638",
     "exception": false,
     "start_time": "2023-02-27T23:09:41.085245",
     "status": "completed"
    },
    "tags": []
   },
   "source": [
    "# Keep going\n",
    "\n",
    "You've looked at the schema, but you haven't yet done anything exciting with the data itself. Things get more interesting when you get to the data, so keep going to **[write your first SQL query](https://www.kaggle.com/dansbecker/select-from-where).**"
   ]
  },
  {
   "cell_type": "markdown",
   "id": "6f2f1015",
   "metadata": {
    "papermill": {
     "duration": 0.00629,
     "end_time": "2023-02-27T23:09:41.104647",
     "exception": false,
     "start_time": "2023-02-27T23:09:41.098357",
     "status": "completed"
    },
    "tags": []
   },
   "source": [
    "---\n",
    "\n",
    "\n",
    "\n",
    "\n",
    "*Have questions or comments? Visit the [course discussion forum](https://www.kaggle.com/learn/intro-to-sql/discussion) to chat with other learners.*"
   ]
  }
 ],
 "metadata": {
  "kernelspec": {
   "display_name": "Python 3",
   "language": "python",
   "name": "python3"
  },
  "language_info": {
   "codemirror_mode": {
    "name": "ipython",
    "version": 3
   },
   "file_extension": ".py",
   "mimetype": "text/x-python",
   "name": "python",
   "nbconvert_exporter": "python",
   "pygments_lexer": "ipython3",
   "version": "3.7.12"
  },
  "papermill": {
   "default_parameters": {},
   "duration": 14.473453,
   "end_time": "2023-02-27T23:09:41.834635",
   "environment_variables": {},
   "exception": null,
   "input_path": "__notebook__.ipynb",
   "output_path": "__notebook__.ipynb",
   "parameters": {},
   "start_time": "2023-02-27T23:09:27.361182",
   "version": "2.4.0"
  }
 },
 "nbformat": 4,
 "nbformat_minor": 5
}

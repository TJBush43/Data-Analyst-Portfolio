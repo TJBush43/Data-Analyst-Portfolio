{
 "cells": [
  {
   "cell_type": "markdown",
   "id": "0aa232ee",
   "metadata": {
    "papermill": {
     "duration": 0.00695,
     "end_time": "2023-02-14T21:49:19.167960",
     "exception": false,
     "start_time": "2023-02-14T21:49:19.161010",
     "status": "completed"
    },
    "tags": []
   },
   "source": [
    "**This notebook is an exercise in the [Python](https://www.kaggle.com/learn/python) course.  You can reference the tutorial at [this link](https://www.kaggle.com/colinmorris/strings-and-dictionaries).**\n",
    "\n",
    "---\n"
   ]
  },
  {
   "cell_type": "markdown",
   "id": "5488a852",
   "metadata": {
    "papermill": {
     "duration": 0.005236,
     "end_time": "2023-02-14T21:49:19.179093",
     "exception": false,
     "start_time": "2023-02-14T21:49:19.173857",
     "status": "completed"
    },
    "tags": []
   },
   "source": [
    "You are almost done with the course. Nice job!\n",
    "\n",
    "We have a couple more interesting problems for you before you go. \n",
    "\n",
    "As always, run the setup code below before working on the questions."
   ]
  },
  {
   "cell_type": "code",
   "execution_count": 1,
   "id": "2c0a0cbc",
   "metadata": {
    "execution": {
     "iopub.execute_input": "2023-02-14T21:49:19.192659Z",
     "iopub.status.busy": "2023-02-14T21:49:19.191736Z",
     "iopub.status.idle": "2023-02-14T21:49:19.247471Z",
     "shell.execute_reply": "2023-02-14T21:49:19.246585Z"
    },
    "papermill": {
     "duration": 0.06573,
     "end_time": "2023-02-14T21:49:19.250355",
     "exception": false,
     "start_time": "2023-02-14T21:49:19.184625",
     "status": "completed"
    },
    "tags": []
   },
   "outputs": [
    {
     "name": "stdout",
     "output_type": "stream",
     "text": [
      "Setup complete.\n"
     ]
    }
   ],
   "source": [
    "from learntools.core import binder; binder.bind(globals())\n",
    "from learntools.python.ex6 import *\n",
    "print('Setup complete.')"
   ]
  },
  {
   "cell_type": "markdown",
   "id": "08faa12b",
   "metadata": {
    "papermill": {
     "duration": 0.005367,
     "end_time": "2023-02-14T21:49:19.261465",
     "exception": false,
     "start_time": "2023-02-14T21:49:19.256098",
     "status": "completed"
    },
    "tags": []
   },
   "source": [
    "Let's start with a string lightning round to warm up. What are the lengths of the strings below?\n",
    "\n",
    "For each of the five strings below, predict what `len()` would return when passed that string. Use the variable `length` to record your answer, then run the cell to check whether you were right.  \n",
    "\n",
    "# 0a."
   ]
  },
  {
   "cell_type": "code",
   "execution_count": 2,
   "id": "5f8574b5",
   "metadata": {
    "execution": {
     "iopub.execute_input": "2023-02-14T21:49:19.275172Z",
     "iopub.status.busy": "2023-02-14T21:49:19.274444Z",
     "iopub.status.idle": "2023-02-14T21:49:19.286406Z",
     "shell.execute_reply": "2023-02-14T21:49:19.284887Z"
    },
    "papermill": {
     "duration": 0.021684,
     "end_time": "2023-02-14T21:49:19.288928",
     "exception": false,
     "start_time": "2023-02-14T21:49:19.267244",
     "status": "completed"
    },
    "tags": []
   },
   "outputs": [
    {
     "data": {
      "application/javascript": [
       "parent.postMessage({\"jupyterEvent\": \"custom.exercise_interaction\", \"data\": {\"outcomeType\": 1, \"valueTowardsCompletion\": 0.3333333333333333, \"interactionType\": 1, \"questionType\": 1, \"questionId\": \"0.1_ZA\", \"learnToolsVersion\": \"0.3.4\", \"failureMessage\": \"\", \"exceptionClass\": \"\", \"trace\": \"\"}}, \"*\")"
      ],
      "text/plain": [
       "<IPython.core.display.Javascript object>"
      ]
     },
     "metadata": {},
     "output_type": "display_data"
    },
    {
     "data": {
      "text/markdown": [
       "<span style=\"color:#33cc33\">Correct:</span> \n",
       "\n",
       "The empty string has length zero. Note that the empty string is also the only string that Python considers as False when converting to boolean."
      ],
      "text/plain": [
       "Correct: \n",
       "\n",
       "The empty string has length zero. Note that the empty string is also the only string that Python considers as False when converting to boolean."
      ]
     },
     "metadata": {},
     "output_type": "display_data"
    }
   ],
   "source": [
    "a = \"\"\n",
    "length = 0\n",
    "q0.a.check()"
   ]
  },
  {
   "cell_type": "markdown",
   "id": "4207163e",
   "metadata": {
    "papermill": {
     "duration": 0.005607,
     "end_time": "2023-02-14T21:49:19.301279",
     "exception": false,
     "start_time": "2023-02-14T21:49:19.295672",
     "status": "completed"
    },
    "tags": []
   },
   "source": [
    "# 0b."
   ]
  },
  {
   "cell_type": "code",
   "execution_count": 3,
   "id": "0f021067",
   "metadata": {
    "execution": {
     "iopub.execute_input": "2023-02-14T21:49:19.314725Z",
     "iopub.status.busy": "2023-02-14T21:49:19.314276Z",
     "iopub.status.idle": "2023-02-14T21:49:19.322922Z",
     "shell.execute_reply": "2023-02-14T21:49:19.321773Z"
    },
    "papermill": {
     "duration": 0.018271,
     "end_time": "2023-02-14T21:49:19.325323",
     "exception": false,
     "start_time": "2023-02-14T21:49:19.307052",
     "status": "completed"
    },
    "tags": []
   },
   "outputs": [
    {
     "data": {
      "application/javascript": [
       "parent.postMessage({\"jupyterEvent\": \"custom.exercise_interaction\", \"data\": {\"outcomeType\": 1, \"valueTowardsCompletion\": 0.3333333333333333, \"interactionType\": 1, \"questionType\": 1, \"questionId\": \"0.2_ZB\", \"learnToolsVersion\": \"0.3.4\", \"failureMessage\": \"\", \"exceptionClass\": \"\", \"trace\": \"\"}}, \"*\")"
      ],
      "text/plain": [
       "<IPython.core.display.Javascript object>"
      ]
     },
     "metadata": {},
     "output_type": "display_data"
    },
    {
     "data": {
      "text/markdown": [
       "<span style=\"color:#33cc33\">Correct:</span> \n",
       "\n",
       "Keep in mind Python includes spaces (and punctuation) when counting string length."
      ],
      "text/plain": [
       "Correct: \n",
       "\n",
       "Keep in mind Python includes spaces (and punctuation) when counting string length."
      ]
     },
     "metadata": {},
     "output_type": "display_data"
    }
   ],
   "source": [
    "b = \"it's ok\"\n",
    "length = 7\n",
    "q0.b.check()"
   ]
  },
  {
   "cell_type": "markdown",
   "id": "6f2c8f7e",
   "metadata": {
    "papermill": {
     "duration": 0.005756,
     "end_time": "2023-02-14T21:49:19.337316",
     "exception": false,
     "start_time": "2023-02-14T21:49:19.331560",
     "status": "completed"
    },
    "tags": []
   },
   "source": [
    "# 0c."
   ]
  },
  {
   "cell_type": "code",
   "execution_count": 4,
   "id": "73671da6",
   "metadata": {
    "execution": {
     "iopub.execute_input": "2023-02-14T21:49:19.351620Z",
     "iopub.status.busy": "2023-02-14T21:49:19.351213Z",
     "iopub.status.idle": "2023-02-14T21:49:19.359493Z",
     "shell.execute_reply": "2023-02-14T21:49:19.358616Z"
    },
    "papermill": {
     "duration": 0.018131,
     "end_time": "2023-02-14T21:49:19.361735",
     "exception": false,
     "start_time": "2023-02-14T21:49:19.343604",
     "status": "completed"
    },
    "tags": []
   },
   "outputs": [
    {
     "data": {
      "application/javascript": [
       "parent.postMessage({\"jupyterEvent\": \"custom.exercise_interaction\", \"data\": {\"outcomeType\": 1, \"valueTowardsCompletion\": 0.3333333333333333, \"interactionType\": 1, \"questionType\": 1, \"questionId\": \"0.3_ZC\", \"learnToolsVersion\": \"0.3.4\", \"failureMessage\": \"\", \"exceptionClass\": \"\", \"trace\": \"\"}}, \"*\")"
      ],
      "text/plain": [
       "<IPython.core.display.Javascript object>"
      ]
     },
     "metadata": {},
     "output_type": "display_data"
    },
    {
     "data": {
      "text/markdown": [
       "<span style=\"color:#33cc33\">Correct:</span> \n",
       "\n",
       "Even though we use different syntax to create it, the string `c` is identical to `b`. In particular, note that the backslash is not part of the string, so it doesn't contribute to its length."
      ],
      "text/plain": [
       "Correct: \n",
       "\n",
       "Even though we use different syntax to create it, the string `c` is identical to `b`. In particular, note that the backslash is not part of the string, so it doesn't contribute to its length."
      ]
     },
     "metadata": {},
     "output_type": "display_data"
    }
   ],
   "source": [
    "c = 'it\\'s ok'\n",
    "length = 7\n",
    "q0.c.check()"
   ]
  },
  {
   "cell_type": "markdown",
   "id": "3ef5f78f",
   "metadata": {
    "papermill": {
     "duration": 0.006161,
     "end_time": "2023-02-14T21:49:19.374413",
     "exception": false,
     "start_time": "2023-02-14T21:49:19.368252",
     "status": "completed"
    },
    "tags": []
   },
   "source": [
    "# 0d."
   ]
  },
  {
   "cell_type": "code",
   "execution_count": 5,
   "id": "9c8666d1",
   "metadata": {
    "execution": {
     "iopub.execute_input": "2023-02-14T21:49:19.388863Z",
     "iopub.status.busy": "2023-02-14T21:49:19.388445Z",
     "iopub.status.idle": "2023-02-14T21:49:19.398061Z",
     "shell.execute_reply": "2023-02-14T21:49:19.396981Z"
    },
    "papermill": {
     "duration": 0.019437,
     "end_time": "2023-02-14T21:49:19.400259",
     "exception": false,
     "start_time": "2023-02-14T21:49:19.380822",
     "status": "completed"
    },
    "tags": []
   },
   "outputs": [
    {
     "data": {
      "application/javascript": [
       "parent.postMessage({\"jupyterEvent\": \"custom.exercise_interaction\", \"data\": {\"outcomeType\": 1, \"valueTowardsCompletion\": 0.3333333333333333, \"interactionType\": 1, \"questionType\": 1, \"questionId\": \"0.4_ZD\", \"learnToolsVersion\": \"0.3.4\", \"failureMessage\": \"\", \"exceptionClass\": \"\", \"trace\": \"\"}}, \"*\")"
      ],
      "text/plain": [
       "<IPython.core.display.Javascript object>"
      ]
     },
     "metadata": {},
     "output_type": "display_data"
    },
    {
     "data": {
      "text/markdown": [
       "<span style=\"color:#33cc33\">Correct:</span> \n",
       "\n",
       "The fact that this string was created using triple-quote syntax doesn't make any difference in terms of its content or length. This string is exactly the same as `'hey'`."
      ],
      "text/plain": [
       "Correct: \n",
       "\n",
       "The fact that this string was created using triple-quote syntax doesn't make any difference in terms of its content or length. This string is exactly the same as `'hey'`."
      ]
     },
     "metadata": {},
     "output_type": "display_data"
    }
   ],
   "source": [
    "d = \"\"\"hey\"\"\"\n",
    "length = 3\n",
    "q0.d.check()"
   ]
  },
  {
   "cell_type": "markdown",
   "id": "ccaad5d2",
   "metadata": {
    "papermill": {
     "duration": 0.006325,
     "end_time": "2023-02-14T21:49:19.413468",
     "exception": false,
     "start_time": "2023-02-14T21:49:19.407143",
     "status": "completed"
    },
    "tags": []
   },
   "source": [
    "# 0e."
   ]
  },
  {
   "cell_type": "code",
   "execution_count": 6,
   "id": "773e13b6",
   "metadata": {
    "execution": {
     "iopub.execute_input": "2023-02-14T21:49:19.429011Z",
     "iopub.status.busy": "2023-02-14T21:49:19.428588Z",
     "iopub.status.idle": "2023-02-14T21:49:19.437180Z",
     "shell.execute_reply": "2023-02-14T21:49:19.436397Z"
    },
    "papermill": {
     "duration": 0.018958,
     "end_time": "2023-02-14T21:49:19.439091",
     "exception": false,
     "start_time": "2023-02-14T21:49:19.420133",
     "status": "completed"
    },
    "tags": []
   },
   "outputs": [
    {
     "data": {
      "application/javascript": [
       "parent.postMessage({\"jupyterEvent\": \"custom.exercise_interaction\", \"data\": {\"outcomeType\": 1, \"valueTowardsCompletion\": 0.3333333333333333, \"interactionType\": 1, \"questionType\": 1, \"questionId\": \"0.5_ZE\", \"learnToolsVersion\": \"0.3.4\", \"failureMessage\": \"\", \"exceptionClass\": \"\", \"trace\": \"\"}}, \"*\")"
      ],
      "text/plain": [
       "<IPython.core.display.Javascript object>"
      ]
     },
     "metadata": {},
     "output_type": "display_data"
    },
    {
     "data": {
      "text/markdown": [
       "<span style=\"color:#33cc33\">Correct:</span> \n",
       "\n",
       "The newline character is just a single character! (Even though we represent it to Python using a combination of two characters.)"
      ],
      "text/plain": [
       "Correct: \n",
       "\n",
       "The newline character is just a single character! (Even though we represent it to Python using a combination of two characters.)"
      ]
     },
     "metadata": {},
     "output_type": "display_data"
    }
   ],
   "source": [
    "e = '\\n'\n",
    "length = 1\n",
    "q0.e.check()"
   ]
  },
  {
   "cell_type": "markdown",
   "id": "da08bb09",
   "metadata": {
    "papermill": {
     "duration": 0.006695,
     "end_time": "2023-02-14T21:49:19.452887",
     "exception": false,
     "start_time": "2023-02-14T21:49:19.446192",
     "status": "completed"
    },
    "tags": []
   },
   "source": [
    "# 1.\n",
    "\n",
    "There is a saying that \"Data scientists spend 80% of their time cleaning data, and 20% of their time complaining about cleaning data.\" Let's see if you can write a function to help clean US zip code data. Given a string, it should return whether or not that string represents a valid zip code. For our purposes, a valid zip code is any string consisting of exactly 5 digits.\n",
    "\n",
    "HINT: `str` has a method that will be useful here. Use `help(str)` to review a list of string methods."
   ]
  },
  {
   "cell_type": "code",
   "execution_count": 7,
   "id": "3e933a33",
   "metadata": {
    "execution": {
     "iopub.execute_input": "2023-02-14T21:49:19.468772Z",
     "iopub.status.busy": "2023-02-14T21:49:19.468332Z",
     "iopub.status.idle": "2023-02-14T21:49:19.478276Z",
     "shell.execute_reply": "2023-02-14T21:49:19.476907Z"
    },
    "papermill": {
     "duration": 0.020984,
     "end_time": "2023-02-14T21:49:19.480808",
     "exception": false,
     "start_time": "2023-02-14T21:49:19.459824",
     "status": "completed"
    },
    "tags": []
   },
   "outputs": [
    {
     "data": {
      "application/javascript": [
       "parent.postMessage({\"jupyterEvent\": \"custom.exercise_interaction\", \"data\": {\"outcomeType\": 1, \"valueTowardsCompletion\": 0.3333333333333333, \"interactionType\": 1, \"questionType\": 2, \"questionId\": \"1_ZipValidator\", \"learnToolsVersion\": \"0.3.4\", \"failureMessage\": \"\", \"exceptionClass\": \"\", \"trace\": \"\"}}, \"*\")"
      ],
      "text/plain": [
       "<IPython.core.display.Javascript object>"
      ]
     },
     "metadata": {},
     "output_type": "display_data"
    },
    {
     "data": {
      "text/markdown": [
       "<span style=\"color:#33cc33\">Correct</span>"
      ],
      "text/plain": [
       "Correct"
      ]
     },
     "metadata": {},
     "output_type": "display_data"
    }
   ],
   "source": [
    "def is_valid_zip(zip_code):\n",
    "    \"\"\"Returns whether the input string is a valid (5 digit) zip code\n",
    "    \"\"\"\n",
    "    return len(zip_code) == 5 and zip_code.isdigit()\n",
    "\n",
    "# Check your answer\n",
    "q1.check()"
   ]
  },
  {
   "cell_type": "code",
   "execution_count": 8,
   "id": "6eba94f2",
   "metadata": {
    "execution": {
     "iopub.execute_input": "2023-02-14T21:49:19.497845Z",
     "iopub.status.busy": "2023-02-14T21:49:19.497472Z",
     "iopub.status.idle": "2023-02-14T21:49:19.501736Z",
     "shell.execute_reply": "2023-02-14T21:49:19.500644Z"
    },
    "papermill": {
     "duration": 0.015785,
     "end_time": "2023-02-14T21:49:19.503991",
     "exception": false,
     "start_time": "2023-02-14T21:49:19.488206",
     "status": "completed"
    },
    "tags": []
   },
   "outputs": [],
   "source": [
    "#q1.hint()\n",
    "#q1.solution()"
   ]
  },
  {
   "cell_type": "markdown",
   "id": "32ba4e0b",
   "metadata": {
    "papermill": {
     "duration": 0.006945,
     "end_time": "2023-02-14T21:49:19.518251",
     "exception": false,
     "start_time": "2023-02-14T21:49:19.511306",
     "status": "completed"
    },
    "tags": []
   },
   "source": [
    "# 2.\n",
    "\n",
    "A researcher has gathered thousands of news articles. But she wants to focus her attention on articles including a specific word. Complete the function below to help her filter her list of articles.\n",
    "\n",
    "Your function should meet the following criteria:\n",
    "\n",
    "- Do not include documents where the keyword string shows up only as a part of a larger word. For example, if she were looking for the keyword “closed”, you would not include the string “enclosed.” \n",
    "- She does not want you to distinguish upper case from lower case letters. So the phrase “Closed the case.” would be included when the keyword is “closed”\n",
    "- Do not let periods or commas affect what is matched. “It is closed.” would be included when the keyword is “closed”. But you can assume there are no other types of punctuation."
   ]
  },
  {
   "cell_type": "code",
   "execution_count": 9,
   "id": "a6e6388d",
   "metadata": {
    "execution": {
     "iopub.execute_input": "2023-02-14T21:49:19.534287Z",
     "iopub.status.busy": "2023-02-14T21:49:19.533586Z",
     "iopub.status.idle": "2023-02-14T21:49:19.551734Z",
     "shell.execute_reply": "2023-02-14T21:49:19.550831Z"
    },
    "papermill": {
     "duration": 0.028403,
     "end_time": "2023-02-14T21:49:19.553743",
     "exception": false,
     "start_time": "2023-02-14T21:49:19.525340",
     "status": "completed"
    },
    "tags": []
   },
   "outputs": [
    {
     "data": {
      "application/javascript": [
       "parent.postMessage({\"jupyterEvent\": \"custom.exercise_interaction\", \"data\": {\"outcomeType\": 1, \"valueTowardsCompletion\": 0.3333333333333333, \"interactionType\": 1, \"questionType\": 2, \"questionId\": \"2_WordSearch\", \"learnToolsVersion\": \"0.3.4\", \"failureMessage\": \"\", \"exceptionClass\": \"\", \"trace\": \"\"}}, \"*\")"
      ],
      "text/plain": [
       "<IPython.core.display.Javascript object>"
      ]
     },
     "metadata": {},
     "output_type": "display_data"
    },
    {
     "data": {
      "text/markdown": [
       "<span style=\"color:#33cc33\">Correct</span>"
      ],
      "text/plain": [
       "Correct"
      ]
     },
     "metadata": {},
     "output_type": "display_data"
    }
   ],
   "source": [
    "def word_search(doc_list, keyword):\n",
    "    \"\"\"\n",
    "    Takes a list of documents (each document is a string) and a keyword. \n",
    "    Returns list of the index values into the original list for all documents \n",
    "    containing the keyword.\n",
    "\n",
    "    Example:\n",
    "    doc_list = [\"The Learn Python Challenge Casino.\", \"They bought a car\", \"Casinoville\"]\n",
    "    >>> word_search(doc_list, 'casino')\n",
    "    >>> [0]\n",
    "    \"\"\"\n",
    "    index_list = []\n",
    "    \n",
    "    for i, doc in enumerate(doc_list):\n",
    "        words = doc.split()\n",
    "        normal = [word.rstrip('.,').lower() for word in words]\n",
    "        \n",
    "        if keyword.lower() in normal:\n",
    "            index_list.append(i)\n",
    "            \n",
    "    return(index_list)\n",
    "# Check your answer\n",
    "q2.check()"
   ]
  },
  {
   "cell_type": "code",
   "execution_count": 10,
   "id": "293af868",
   "metadata": {
    "execution": {
     "iopub.execute_input": "2023-02-14T21:49:19.573855Z",
     "iopub.status.busy": "2023-02-14T21:49:19.572422Z",
     "iopub.status.idle": "2023-02-14T21:49:19.578299Z",
     "shell.execute_reply": "2023-02-14T21:49:19.577057Z"
    },
    "papermill": {
     "duration": 0.019563,
     "end_time": "2023-02-14T21:49:19.580752",
     "exception": false,
     "start_time": "2023-02-14T21:49:19.561189",
     "status": "completed"
    },
    "tags": []
   },
   "outputs": [],
   "source": [
    "#q2.hint()\n",
    "#q2.solution()"
   ]
  },
  {
   "cell_type": "markdown",
   "id": "5f72c43a",
   "metadata": {
    "papermill": {
     "duration": 0.008498,
     "end_time": "2023-02-14T21:49:19.600484",
     "exception": false,
     "start_time": "2023-02-14T21:49:19.591986",
     "status": "completed"
    },
    "tags": []
   },
   "source": [
    "# 3.\n",
    "\n",
    "Now the researcher wants to supply multiple keywords to search for. Complete the function below to help her.\n",
    "\n",
    "(You're encouraged to use the `word_search` function you just wrote when implementing this function. Reusing code in this way makes your programs more robust and readable - and it saves typing!)"
   ]
  },
  {
   "cell_type": "code",
   "execution_count": 11,
   "id": "5ce036a0",
   "metadata": {
    "execution": {
     "iopub.execute_input": "2023-02-14T21:49:19.619831Z",
     "iopub.status.busy": "2023-02-14T21:49:19.619443Z",
     "iopub.status.idle": "2023-02-14T21:49:19.631132Z",
     "shell.execute_reply": "2023-02-14T21:49:19.629907Z"
    },
    "papermill": {
     "duration": 0.026061,
     "end_time": "2023-02-14T21:49:19.634403",
     "exception": false,
     "start_time": "2023-02-14T21:49:19.608342",
     "status": "completed"
    },
    "tags": []
   },
   "outputs": [
    {
     "data": {
      "application/javascript": [
       "parent.postMessage({\"jupyterEvent\": \"custom.exercise_interaction\", \"data\": {\"outcomeType\": 1, \"valueTowardsCompletion\": 0.3333333333333333, \"interactionType\": 1, \"questionType\": 2, \"questionId\": \"3_MultiWordSearch\", \"learnToolsVersion\": \"0.3.4\", \"failureMessage\": \"\", \"exceptionClass\": \"\", \"trace\": \"\"}}, \"*\")"
      ],
      "text/plain": [
       "<IPython.core.display.Javascript object>"
      ]
     },
     "metadata": {},
     "output_type": "display_data"
    },
    {
     "data": {
      "text/markdown": [
       "<span style=\"color:#33cc33\">Correct</span>"
      ],
      "text/plain": [
       "Correct"
      ]
     },
     "metadata": {},
     "output_type": "display_data"
    }
   ],
   "source": [
    "def multi_word_search(doc_list, keywords):\n",
    "    \"\"\"\n",
    "    Takes list of documents (each document is a string) and a list of keywords.  \n",
    "    Returns a dictionary where each key is a keyword, and the value is a list of indices\n",
    "    (from doc_list) of the documents containing that keyword\n",
    "\n",
    "    >>> doc_list = [\"The Learn Python Challenge Casino.\", \"They bought a car and a casino\", \"Casinoville\"]\n",
    "    >>> keywords = ['casino', 'they']\n",
    "    >>> multi_word_search(doc_list, keywords)\n",
    "    {'casino': [0, 1], 'they': [1]}\n",
    "    \"\"\"\n",
    "    keyword_list = {}\n",
    "    \n",
    "    for keyword in keywords:\n",
    "        keyword_list[keyword] = word_search(doc_list, keyword)\n",
    "    \n",
    "    return keyword_list\n",
    "\n",
    "# Check your answer\n",
    "q3.check()"
   ]
  },
  {
   "cell_type": "code",
   "execution_count": 12,
   "id": "d2bc5efe",
   "metadata": {
    "execution": {
     "iopub.execute_input": "2023-02-14T21:49:19.652032Z",
     "iopub.status.busy": "2023-02-14T21:49:19.651573Z",
     "iopub.status.idle": "2023-02-14T21:49:19.656658Z",
     "shell.execute_reply": "2023-02-14T21:49:19.655444Z"
    },
    "papermill": {
     "duration": 0.016886,
     "end_time": "2023-02-14T21:49:19.659039",
     "exception": false,
     "start_time": "2023-02-14T21:49:19.642153",
     "status": "completed"
    },
    "tags": []
   },
   "outputs": [],
   "source": [
    "#q3.solution()"
   ]
  },
  {
   "cell_type": "markdown",
   "id": "09ca4abc",
   "metadata": {
    "papermill": {
     "duration": 0.007726,
     "end_time": "2023-02-14T21:49:19.674519",
     "exception": false,
     "start_time": "2023-02-14T21:49:19.666793",
     "status": "completed"
    },
    "tags": []
   },
   "source": [
    "# Keep Going\n",
    "\n",
    "You've learned a lot. But even the best programmers rely heavily on \"libraries\" of code from other programmers. You'll learn about that in **[the last lesson](https://www.kaggle.com/colinmorris/working-with-external-libraries)**.\n"
   ]
  },
  {
   "cell_type": "markdown",
   "id": "b6846b57",
   "metadata": {
    "papermill": {
     "duration": 0.007634,
     "end_time": "2023-02-14T21:49:19.690041",
     "exception": false,
     "start_time": "2023-02-14T21:49:19.682407",
     "status": "completed"
    },
    "tags": []
   },
   "source": [
    "---\n",
    "\n",
    "\n",
    "\n",
    "\n",
    "*Have questions or comments? Visit the [course discussion forum](https://www.kaggle.com/learn/python/discussion) to chat with other learners.*"
   ]
  }
 ],
 "metadata": {
  "kernelspec": {
   "display_name": "Python 3",
   "language": "python",
   "name": "python3"
  },
  "language_info": {
   "codemirror_mode": {
    "name": "ipython",
    "version": 3
   },
   "file_extension": ".py",
   "mimetype": "text/x-python",
   "name": "python",
   "nbconvert_exporter": "python",
   "pygments_lexer": "ipython3",
   "version": "3.7.12"
  },
  "papermill": {
   "default_parameters": {},
   "duration": 9.869629,
   "end_time": "2023-02-14T21:49:20.421659",
   "environment_variables": {},
   "exception": null,
   "input_path": "__notebook__.ipynb",
   "output_path": "__notebook__.ipynb",
   "parameters": {},
   "start_time": "2023-02-14T21:49:10.552030",
   "version": "2.3.4"
  }
 },
 "nbformat": 4,
 "nbformat_minor": 5
}

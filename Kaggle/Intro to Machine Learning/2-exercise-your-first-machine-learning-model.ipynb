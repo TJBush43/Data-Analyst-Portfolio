{
 "cells": [
  {
   "cell_type": "markdown",
   "id": "703e38c0",
   "metadata": {
    "papermill": {
     "duration": 0.006523,
     "end_time": "2023-03-31T00:30:04.203581",
     "exception": false,
     "start_time": "2023-03-31T00:30:04.197058",
     "status": "completed"
    },
    "tags": []
   },
   "source": [
    "**This notebook is an exercise in the [Introduction to Machine Learning](https://www.kaggle.com/learn/intro-to-machine-learning) course.  You can reference the tutorial at [this link](https://www.kaggle.com/dansbecker/your-first-machine-learning-model).**\n",
    "\n",
    "---\n"
   ]
  },
  {
   "cell_type": "markdown",
   "id": "51200e2a",
   "metadata": {
    "papermill": {
     "duration": 0.004999,
     "end_time": "2023-03-31T00:30:04.214045",
     "exception": false,
     "start_time": "2023-03-31T00:30:04.209046",
     "status": "completed"
    },
    "tags": []
   },
   "source": [
    "## Recap\n",
    "So far, you have loaded your data and reviewed it with the following code. Run this cell to set up your coding environment where the previous step left off."
   ]
  },
  {
   "cell_type": "code",
   "execution_count": 1,
   "id": "83330905",
   "metadata": {
    "execution": {
     "iopub.execute_input": "2023-03-31T00:30:04.227424Z",
     "iopub.status.busy": "2023-03-31T00:30:04.226968Z",
     "iopub.status.idle": "2023-03-31T00:30:05.661058Z",
     "shell.execute_reply": "2023-03-31T00:30:05.659522Z"
    },
    "papermill": {
     "duration": 1.444689,
     "end_time": "2023-03-31T00:30:05.664469",
     "exception": false,
     "start_time": "2023-03-31T00:30:04.219780",
     "status": "completed"
    },
    "tags": []
   },
   "outputs": [
    {
     "name": "stdout",
     "output_type": "stream",
     "text": [
      "Setup Complete\n"
     ]
    }
   ],
   "source": [
    "# Code you have previously used to load data\n",
    "import pandas as pd\n",
    "\n",
    "# Path of the file to read\n",
    "iowa_file_path = '../input/home-data-for-ml-course/train.csv'\n",
    "\n",
    "home_data = pd.read_csv(iowa_file_path)\n",
    "\n",
    "# Set up code checking\n",
    "from learntools.core import binder\n",
    "binder.bind(globals())\n",
    "from learntools.machine_learning.ex3 import *\n",
    "\n",
    "print(\"Setup Complete\")"
   ]
  },
  {
   "cell_type": "markdown",
   "id": "bc942a99",
   "metadata": {
    "papermill": {
     "duration": 0.00522,
     "end_time": "2023-03-31T00:30:05.675389",
     "exception": false,
     "start_time": "2023-03-31T00:30:05.670169",
     "status": "completed"
    },
    "tags": []
   },
   "source": [
    "# Exercises\n",
    "\n",
    "## Step 1: Specify Prediction Target\n",
    "Select the target variable, which corresponds to the sales price. Save this to a new variable called `y`. You'll need to print a list of the columns to find the name of the column you need.\n"
   ]
  },
  {
   "cell_type": "code",
   "execution_count": 2,
   "id": "92066382",
   "metadata": {
    "execution": {
     "iopub.execute_input": "2023-03-31T00:30:05.688278Z",
     "iopub.status.busy": "2023-03-31T00:30:05.687463Z",
     "iopub.status.idle": "2023-03-31T00:30:05.697997Z",
     "shell.execute_reply": "2023-03-31T00:30:05.696525Z"
    },
    "papermill": {
     "duration": 0.020025,
     "end_time": "2023-03-31T00:30:05.700774",
     "exception": false,
     "start_time": "2023-03-31T00:30:05.680749",
     "status": "completed"
    },
    "tags": []
   },
   "outputs": [
    {
     "data": {
      "text/plain": [
       "Index(['Id', 'MSSubClass', 'MSZoning', 'LotFrontage', 'LotArea', 'Street',\n",
       "       'Alley', 'LotShape', 'LandContour', 'Utilities', 'LotConfig',\n",
       "       'LandSlope', 'Neighborhood', 'Condition1', 'Condition2', 'BldgType',\n",
       "       'HouseStyle', 'OverallQual', 'OverallCond', 'YearBuilt', 'YearRemodAdd',\n",
       "       'RoofStyle', 'RoofMatl', 'Exterior1st', 'Exterior2nd', 'MasVnrType',\n",
       "       'MasVnrArea', 'ExterQual', 'ExterCond', 'Foundation', 'BsmtQual',\n",
       "       'BsmtCond', 'BsmtExposure', 'BsmtFinType1', 'BsmtFinSF1',\n",
       "       'BsmtFinType2', 'BsmtFinSF2', 'BsmtUnfSF', 'TotalBsmtSF', 'Heating',\n",
       "       'HeatingQC', 'CentralAir', 'Electrical', '1stFlrSF', '2ndFlrSF',\n",
       "       'LowQualFinSF', 'GrLivArea', 'BsmtFullBath', 'BsmtHalfBath', 'FullBath',\n",
       "       'HalfBath', 'BedroomAbvGr', 'KitchenAbvGr', 'KitchenQual',\n",
       "       'TotRmsAbvGrd', 'Functional', 'Fireplaces', 'FireplaceQu', 'GarageType',\n",
       "       'GarageYrBlt', 'GarageFinish', 'GarageCars', 'GarageArea', 'GarageQual',\n",
       "       'GarageCond', 'PavedDrive', 'WoodDeckSF', 'OpenPorchSF',\n",
       "       'EnclosedPorch', '3SsnPorch', 'ScreenPorch', 'PoolArea', 'PoolQC',\n",
       "       'Fence', 'MiscFeature', 'MiscVal', 'MoSold', 'YrSold', 'SaleType',\n",
       "       'SaleCondition', 'SalePrice'],\n",
       "      dtype='object')"
      ]
     },
     "execution_count": 2,
     "metadata": {},
     "output_type": "execute_result"
    }
   ],
   "source": [
    "# print the list of columns in the dataset to find the name of the prediction target\n",
    "home_data.columns"
   ]
  },
  {
   "cell_type": "code",
   "execution_count": 3,
   "id": "5d229c9d",
   "metadata": {
    "execution": {
     "iopub.execute_input": "2023-03-31T00:30:05.714354Z",
     "iopub.status.busy": "2023-03-31T00:30:05.713182Z",
     "iopub.status.idle": "2023-03-31T00:30:05.729569Z",
     "shell.execute_reply": "2023-03-31T00:30:05.728170Z"
    },
    "papermill": {
     "duration": 0.025864,
     "end_time": "2023-03-31T00:30:05.732198",
     "exception": false,
     "start_time": "2023-03-31T00:30:05.706334",
     "status": "completed"
    },
    "tags": []
   },
   "outputs": [
    {
     "data": {
      "application/javascript": [
       "parent.postMessage({\"jupyterEvent\": \"custom.exercise_interaction\", \"data\": {\"outcomeType\": 1, \"valueTowardsCompletion\": 0.25, \"interactionType\": 1, \"questionType\": 2, \"questionId\": \"1_SetTarget\", \"learnToolsVersion\": \"0.3.4\", \"failureMessage\": \"\", \"exceptionClass\": \"\", \"trace\": \"\"}}, \"*\")"
      ],
      "text/plain": [
       "<IPython.core.display.Javascript object>"
      ]
     },
     "metadata": {},
     "output_type": "display_data"
    },
    {
     "data": {
      "text/markdown": [
       "<span style=\"color:#33cc33\">Correct</span>"
      ],
      "text/plain": [
       "Correct"
      ]
     },
     "metadata": {},
     "output_type": "display_data"
    }
   ],
   "source": [
    "y = home_data.SalePrice\n",
    "\n",
    "# Check your answer\n",
    "step_1.check()"
   ]
  },
  {
   "cell_type": "code",
   "execution_count": 4,
   "id": "f16c9f56",
   "metadata": {
    "collapsed": true,
    "execution": {
     "iopub.execute_input": "2023-03-31T00:30:05.746046Z",
     "iopub.status.busy": "2023-03-31T00:30:05.745273Z",
     "iopub.status.idle": "2023-03-31T00:30:05.750923Z",
     "shell.execute_reply": "2023-03-31T00:30:05.749565Z"
    },
    "jupyter": {
     "outputs_hidden": true
    },
    "papermill": {
     "duration": 0.015736,
     "end_time": "2023-03-31T00:30:05.753905",
     "exception": false,
     "start_time": "2023-03-31T00:30:05.738169",
     "status": "completed"
    },
    "tags": []
   },
   "outputs": [],
   "source": [
    "# The lines below will show you a hint or the solution.\n",
    "# step_1.hint() \n",
    "# step_1.solution()"
   ]
  },
  {
   "cell_type": "markdown",
   "id": "968e987b",
   "metadata": {
    "papermill": {
     "duration": 0.005779,
     "end_time": "2023-03-31T00:30:05.766828",
     "exception": false,
     "start_time": "2023-03-31T00:30:05.761049",
     "status": "completed"
    },
    "tags": []
   },
   "source": [
    "## Step 2: Create X\n",
    "Now you will create a DataFrame called `X` holding the predictive features.\n",
    "\n",
    "Since you want only some columns from the original data, you'll first create a list with the names of the columns you want in `X`.\n",
    "\n",
    "You'll use just the following columns in the list (you can copy and paste the whole list to save some typing, though you'll still need to add quotes):\n",
    "  * LotArea\n",
    "  * YearBuilt\n",
    "  * 1stFlrSF\n",
    "  * 2ndFlrSF\n",
    "  * FullBath\n",
    "  * BedroomAbvGr\n",
    "  * TotRmsAbvGrd\n",
    "\n",
    "After you've created that list of features, use it to create the DataFrame that you'll use to fit the model."
   ]
  },
  {
   "cell_type": "code",
   "execution_count": 5,
   "id": "c8ba08e8",
   "metadata": {
    "execution": {
     "iopub.execute_input": "2023-03-31T00:30:05.781288Z",
     "iopub.status.busy": "2023-03-31T00:30:05.780836Z",
     "iopub.status.idle": "2023-03-31T00:30:05.795510Z",
     "shell.execute_reply": "2023-03-31T00:30:05.794185Z"
    },
    "papermill": {
     "duration": 0.024446,
     "end_time": "2023-03-31T00:30:05.797988",
     "exception": false,
     "start_time": "2023-03-31T00:30:05.773542",
     "status": "completed"
    },
    "tags": []
   },
   "outputs": [
    {
     "data": {
      "application/javascript": [
       "parent.postMessage({\"jupyterEvent\": \"custom.exercise_interaction\", \"data\": {\"outcomeType\": 1, \"valueTowardsCompletion\": 0.25, \"interactionType\": 1, \"questionType\": 2, \"questionId\": \"2_SelectPredictionData\", \"learnToolsVersion\": \"0.3.4\", \"failureMessage\": \"\", \"exceptionClass\": \"\", \"trace\": \"\"}}, \"*\")"
      ],
      "text/plain": [
       "<IPython.core.display.Javascript object>"
      ]
     },
     "metadata": {},
     "output_type": "display_data"
    },
    {
     "data": {
      "text/markdown": [
       "<span style=\"color:#33cc33\">Correct</span>"
      ],
      "text/plain": [
       "Correct"
      ]
     },
     "metadata": {},
     "output_type": "display_data"
    }
   ],
   "source": [
    "# Create the list of features below\n",
    "feature_names = ['LotArea', 'YearBuilt', '1stFlrSF', '2ndFlrSF' ,'FullBath', 'BedroomAbvGr', 'TotRmsAbvGrd']\n",
    "\n",
    "# Select data corresponding to features in feature_names\n",
    "X = home_data[feature_names]\n",
    "\n",
    "# Check your answer\n",
    "step_2.check()"
   ]
  },
  {
   "cell_type": "code",
   "execution_count": 6,
   "id": "702b6061",
   "metadata": {
    "collapsed": true,
    "execution": {
     "iopub.execute_input": "2023-03-31T00:30:05.811951Z",
     "iopub.status.busy": "2023-03-31T00:30:05.811508Z",
     "iopub.status.idle": "2023-03-31T00:30:05.816592Z",
     "shell.execute_reply": "2023-03-31T00:30:05.815208Z"
    },
    "jupyter": {
     "outputs_hidden": true
    },
    "papermill": {
     "duration": 0.015629,
     "end_time": "2023-03-31T00:30:05.819597",
     "exception": false,
     "start_time": "2023-03-31T00:30:05.803968",
     "status": "completed"
    },
    "tags": []
   },
   "outputs": [],
   "source": [
    "# step_2.hint()\n",
    "# step_2.solution()"
   ]
  },
  {
   "cell_type": "markdown",
   "id": "2eb6d9c6",
   "metadata": {
    "papermill": {
     "duration": 0.005727,
     "end_time": "2023-03-31T00:30:05.831773",
     "exception": false,
     "start_time": "2023-03-31T00:30:05.826046",
     "status": "completed"
    },
    "tags": []
   },
   "source": [
    "## Review Data\n",
    "Before building a model, take a quick look at **X** to verify it looks sensible"
   ]
  },
  {
   "cell_type": "code",
   "execution_count": 7,
   "id": "6f89e898",
   "metadata": {
    "execution": {
     "iopub.execute_input": "2023-03-31T00:30:05.846432Z",
     "iopub.status.busy": "2023-03-31T00:30:05.845959Z",
     "iopub.status.idle": "2023-03-31T00:30:05.888380Z",
     "shell.execute_reply": "2023-03-31T00:30:05.887155Z"
    },
    "papermill": {
     "duration": 0.053127,
     "end_time": "2023-03-31T00:30:05.891017",
     "exception": false,
     "start_time": "2023-03-31T00:30:05.837890",
     "status": "completed"
    },
    "tags": []
   },
   "outputs": [
    {
     "name": "stdout",
     "output_type": "stream",
     "text": [
      "             LotArea    YearBuilt     1stFlrSF     2ndFlrSF     FullBath  \\\n",
      "count    1460.000000  1460.000000  1460.000000  1460.000000  1460.000000   \n",
      "mean    10516.828082  1971.267808  1162.626712   346.992466     1.565068   \n",
      "std      9981.264932    30.202904   386.587738   436.528436     0.550916   \n",
      "min      1300.000000  1872.000000   334.000000     0.000000     0.000000   \n",
      "25%      7553.500000  1954.000000   882.000000     0.000000     1.000000   \n",
      "50%      9478.500000  1973.000000  1087.000000     0.000000     2.000000   \n",
      "75%     11601.500000  2000.000000  1391.250000   728.000000     2.000000   \n",
      "max    215245.000000  2010.000000  4692.000000  2065.000000     3.000000   \n",
      "\n",
      "       BedroomAbvGr  TotRmsAbvGrd  \n",
      "count   1460.000000   1460.000000  \n",
      "mean       2.866438      6.517808  \n",
      "std        0.815778      1.625393  \n",
      "min        0.000000      2.000000  \n",
      "25%        2.000000      5.000000  \n",
      "50%        3.000000      6.000000  \n",
      "75%        3.000000      7.000000  \n",
      "max        8.000000     14.000000  \n",
      "\n",
      "   LotArea  YearBuilt  1stFlrSF  2ndFlrSF  FullBath  BedroomAbvGr  \\\n",
      "0     8450       2003       856       854         2             3   \n",
      "1     9600       1976      1262         0         2             3   \n",
      "2    11250       2001       920       866         2             3   \n",
      "3     9550       1915       961       756         1             3   \n",
      "4    14260       2000      1145      1053         2             4   \n",
      "\n",
      "   TotRmsAbvGrd  \n",
      "0             8  \n",
      "1             6  \n",
      "2             6  \n",
      "3             7  \n",
      "4             9  \n"
     ]
    }
   ],
   "source": [
    "# Review data\n",
    "# print description or statistics from X\n",
    "print(X.describe())\n",
    "print()\n",
    "# print the top few lines\n",
    "print(X.head())"
   ]
  },
  {
   "cell_type": "markdown",
   "id": "3c175c26",
   "metadata": {
    "papermill": {
     "duration": 0.005724,
     "end_time": "2023-03-31T00:30:05.902886",
     "exception": false,
     "start_time": "2023-03-31T00:30:05.897162",
     "status": "completed"
    },
    "tags": []
   },
   "source": [
    "## Step 3: Specify and Fit Model\n",
    "Create a `DecisionTreeRegressor` and save it iowa_model. Ensure you've done the relevant import from sklearn to run this command.\n",
    "\n",
    "Then fit the model you just created using the data in `X` and `y` that you saved above."
   ]
  },
  {
   "cell_type": "code",
   "execution_count": 8,
   "id": "c8350699",
   "metadata": {
    "execution": {
     "iopub.execute_input": "2023-03-31T00:30:05.916970Z",
     "iopub.status.busy": "2023-03-31T00:30:05.916566Z",
     "iopub.status.idle": "2023-03-31T00:30:05.937197Z",
     "shell.execute_reply": "2023-03-31T00:30:05.935850Z"
    },
    "papermill": {
     "duration": 0.030985,
     "end_time": "2023-03-31T00:30:05.939950",
     "exception": false,
     "start_time": "2023-03-31T00:30:05.908965",
     "status": "completed"
    },
    "tags": []
   },
   "outputs": [
    {
     "data": {
      "application/javascript": [
       "parent.postMessage({\"jupyterEvent\": \"custom.exercise_interaction\", \"data\": {\"outcomeType\": 1, \"valueTowardsCompletion\": 0.25, \"interactionType\": 1, \"questionType\": 2, \"questionId\": \"3_CreateModel\", \"learnToolsVersion\": \"0.3.4\", \"failureMessage\": \"\", \"exceptionClass\": \"\", \"trace\": \"\"}}, \"*\")"
      ],
      "text/plain": [
       "<IPython.core.display.Javascript object>"
      ]
     },
     "metadata": {},
     "output_type": "display_data"
    },
    {
     "data": {
      "text/markdown": [
       "<span style=\"color:#33cc33\">Correct</span>"
      ],
      "text/plain": [
       "Correct"
      ]
     },
     "metadata": {},
     "output_type": "display_data"
    }
   ],
   "source": [
    "from sklearn.tree import DecisionTreeRegressor\n",
    "#specify the model. \n",
    "#For model reproducibility, set a numeric value for random_state when specifying the model\n",
    "iowa_model = DecisionTreeRegressor(random_state=1)\n",
    "\n",
    "# Fit the model\n",
    "iowa_model.fit(X, y)\n",
    "\n",
    "# Check your answer\n",
    "step_3.check()"
   ]
  },
  {
   "cell_type": "code",
   "execution_count": 9,
   "id": "f3b18751",
   "metadata": {
    "collapsed": true,
    "execution": {
     "iopub.execute_input": "2023-03-31T00:30:05.955414Z",
     "iopub.status.busy": "2023-03-31T00:30:05.954266Z",
     "iopub.status.idle": "2023-03-31T00:30:05.959058Z",
     "shell.execute_reply": "2023-03-31T00:30:05.958084Z"
    },
    "jupyter": {
     "outputs_hidden": true
    },
    "papermill": {
     "duration": 0.015141,
     "end_time": "2023-03-31T00:30:05.961548",
     "exception": false,
     "start_time": "2023-03-31T00:30:05.946407",
     "status": "completed"
    },
    "tags": []
   },
   "outputs": [],
   "source": [
    "# step_3.hint()\n",
    "# step_3.solution()"
   ]
  },
  {
   "cell_type": "markdown",
   "id": "4eb2a9a8",
   "metadata": {
    "papermill": {
     "duration": 0.006114,
     "end_time": "2023-03-31T00:30:05.974122",
     "exception": false,
     "start_time": "2023-03-31T00:30:05.968008",
     "status": "completed"
    },
    "tags": []
   },
   "source": [
    "## Step 4: Make Predictions\n",
    "Make predictions with the model's `predict` command using `X` as the data. Save the results to a variable called `predictions`."
   ]
  },
  {
   "cell_type": "code",
   "execution_count": 10,
   "id": "548768c6",
   "metadata": {
    "execution": {
     "iopub.execute_input": "2023-03-31T00:30:05.990004Z",
     "iopub.status.busy": "2023-03-31T00:30:05.989327Z",
     "iopub.status.idle": "2023-03-31T00:30:06.004491Z",
     "shell.execute_reply": "2023-03-31T00:30:06.002947Z"
    },
    "papermill": {
     "duration": 0.026199,
     "end_time": "2023-03-31T00:30:06.007414",
     "exception": false,
     "start_time": "2023-03-31T00:30:05.981215",
     "status": "completed"
    },
    "tags": []
   },
   "outputs": [
    {
     "name": "stdout",
     "output_type": "stream",
     "text": [
      "[208500. 181500. 223500. ... 266500. 142125. 147500.]\n"
     ]
    },
    {
     "data": {
      "application/javascript": [
       "parent.postMessage({\"jupyterEvent\": \"custom.exercise_interaction\", \"data\": {\"outcomeType\": 1, \"valueTowardsCompletion\": 0.25, \"interactionType\": 1, \"questionType\": 2, \"questionId\": \"4_MakePredictions\", \"learnToolsVersion\": \"0.3.4\", \"failureMessage\": \"\", \"exceptionClass\": \"\", \"trace\": \"\"}}, \"*\")"
      ],
      "text/plain": [
       "<IPython.core.display.Javascript object>"
      ]
     },
     "metadata": {},
     "output_type": "display_data"
    },
    {
     "data": {
      "text/markdown": [
       "<span style=\"color:#33cc33\">Correct</span>"
      ],
      "text/plain": [
       "Correct"
      ]
     },
     "metadata": {},
     "output_type": "display_data"
    }
   ],
   "source": [
    "predictions = iowa_model.predict(X)\n",
    "print(predictions)\n",
    "\n",
    "# Check your answer\n",
    "step_4.check()"
   ]
  },
  {
   "cell_type": "code",
   "execution_count": 11,
   "id": "57e978b3",
   "metadata": {
    "collapsed": true,
    "execution": {
     "iopub.execute_input": "2023-03-31T00:30:06.024282Z",
     "iopub.status.busy": "2023-03-31T00:30:06.023419Z",
     "iopub.status.idle": "2023-03-31T00:30:06.028398Z",
     "shell.execute_reply": "2023-03-31T00:30:06.027456Z"
    },
    "jupyter": {
     "outputs_hidden": true
    },
    "papermill": {
     "duration": 0.016044,
     "end_time": "2023-03-31T00:30:06.030931",
     "exception": false,
     "start_time": "2023-03-31T00:30:06.014887",
     "status": "completed"
    },
    "tags": []
   },
   "outputs": [],
   "source": [
    "# step_4.hint()\n",
    "# step_4.solution()"
   ]
  },
  {
   "cell_type": "markdown",
   "id": "17e87ebc",
   "metadata": {
    "papermill": {
     "duration": 0.007447,
     "end_time": "2023-03-31T00:30:06.045305",
     "exception": false,
     "start_time": "2023-03-31T00:30:06.037858",
     "status": "completed"
    },
    "tags": []
   },
   "source": [
    "## Think About Your Results\n",
    "\n",
    "Use the `head` method to compare the top few predictions to the actual home values (in `y`) for those same homes. Anything surprising?\n"
   ]
  },
  {
   "cell_type": "code",
   "execution_count": 12,
   "id": "b8c193bb",
   "metadata": {
    "execution": {
     "iopub.execute_input": "2023-03-31T00:30:06.061937Z",
     "iopub.status.busy": "2023-03-31T00:30:06.061033Z",
     "iopub.status.idle": "2023-03-31T00:30:06.071886Z",
     "shell.execute_reply": "2023-03-31T00:30:06.070188Z"
    },
    "papermill": {
     "duration": 0.023558,
     "end_time": "2023-03-31T00:30:06.075611",
     "exception": false,
     "start_time": "2023-03-31T00:30:06.052053",
     "status": "completed"
    },
    "tags": []
   },
   "outputs": [
    {
     "name": "stdout",
     "output_type": "stream",
     "text": [
      "[208500. 181500. 223500. 140000. 250000.]\n",
      "\n",
      "0    208500\n",
      "1    181500\n",
      "2    223500\n",
      "3    140000\n",
      "4    250000\n",
      "Name: SalePrice, dtype: int64\n"
     ]
    }
   ],
   "source": [
    "# You can write code in this cell\n",
    "print(iowa_model.predict(X.head()))\n",
    "print()\n",
    "print(home_data.SalePrice.head())"
   ]
  },
  {
   "cell_type": "markdown",
   "id": "539f2ee8",
   "metadata": {
    "papermill": {
     "duration": 0.006588,
     "end_time": "2023-03-31T00:30:06.089934",
     "exception": false,
     "start_time": "2023-03-31T00:30:06.083346",
     "status": "completed"
    },
    "tags": []
   },
   "source": [
    "It's natural to ask how accurate the model's predictions will be and how you can improve that. That will be you're next step.\n",
    "\n",
    "# Keep Going\n",
    "\n",
    "You are ready for **[Model Validation](https://www.kaggle.com/dansbecker/model-validation).**\n"
   ]
  },
  {
   "cell_type": "markdown",
   "id": "0ff4d55c",
   "metadata": {
    "papermill": {
     "duration": 0.006534,
     "end_time": "2023-03-31T00:30:06.104064",
     "exception": false,
     "start_time": "2023-03-31T00:30:06.097530",
     "status": "completed"
    },
    "tags": []
   },
   "source": [
    "---\n",
    "\n",
    "\n",
    "\n",
    "\n",
    "*Have questions or comments? Visit the [course discussion forum](https://www.kaggle.com/learn/intro-to-machine-learning/discussion) to chat with other learners.*"
   ]
  }
 ],
 "metadata": {
  "kernelspec": {
   "display_name": "Python 3",
   "language": "python",
   "name": "python3"
  },
  "language_info": {
   "codemirror_mode": {
    "name": "ipython",
    "version": 3
   },
   "file_extension": ".py",
   "mimetype": "text/x-python",
   "name": "python",
   "nbconvert_exporter": "python",
   "pygments_lexer": "ipython3",
   "version": "3.7.12"
  },
  "papermill": {
   "default_parameters": {},
   "duration": 13.736853,
   "end_time": "2023-03-31T00:30:06.934582",
   "environment_variables": {},
   "exception": null,
   "input_path": "__notebook__.ipynb",
   "output_path": "__notebook__.ipynb",
   "parameters": {},
   "start_time": "2023-03-31T00:29:53.197729",
   "version": "2.4.0"
  }
 },
 "nbformat": 4,
 "nbformat_minor": 5
}

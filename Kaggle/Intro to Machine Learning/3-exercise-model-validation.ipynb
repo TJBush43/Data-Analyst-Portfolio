{
 "cells": [
  {
   "cell_type": "markdown",
   "id": "68a9f332",
   "metadata": {
    "papermill": {
     "duration": 0.00566,
     "end_time": "2023-03-31T01:51:59.152283",
     "exception": false,
     "start_time": "2023-03-31T01:51:59.146623",
     "status": "completed"
    },
    "tags": []
   },
   "source": [
    "**This notebook is an exercise in the [Introduction to Machine Learning](https://www.kaggle.com/learn/intro-to-machine-learning) course.  You can reference the tutorial at [this link](https://www.kaggle.com/dansbecker/model-validation).**\n",
    "\n",
    "---\n"
   ]
  },
  {
   "cell_type": "markdown",
   "id": "8a394cd8",
   "metadata": {
    "papermill": {
     "duration": 0.004059,
     "end_time": "2023-03-31T01:51:59.161021",
     "exception": false,
     "start_time": "2023-03-31T01:51:59.156962",
     "status": "completed"
    },
    "tags": []
   },
   "source": [
    "## Recap\n",
    "You've built a model. In this exercise you will test how good your model is.\n",
    "\n",
    "Run the cell below to set up your coding environment where the previous exercise left off."
   ]
  },
  {
   "cell_type": "code",
   "execution_count": 1,
   "id": "1640b217",
   "metadata": {
    "execution": {
     "iopub.execute_input": "2023-03-31T01:51:59.172467Z",
     "iopub.status.busy": "2023-03-31T01:51:59.171541Z",
     "iopub.status.idle": "2023-03-31T01:52:00.561899Z",
     "shell.execute_reply": "2023-03-31T01:52:00.560852Z"
    },
    "papermill": {
     "duration": 1.399281,
     "end_time": "2023-03-31T01:52:00.564641",
     "exception": false,
     "start_time": "2023-03-31T01:51:59.165360",
     "status": "completed"
    },
    "tags": []
   },
   "outputs": [
    {
     "name": "stdout",
     "output_type": "stream",
     "text": [
      "First in-sample predictions: [208500. 181500. 223500. 140000. 250000.]\n",
      "Actual target values for those homes: [208500, 181500, 223500, 140000, 250000]\n",
      "Setup Complete\n"
     ]
    }
   ],
   "source": [
    "# Code you have previously used to load data\n",
    "import pandas as pd\n",
    "from sklearn.tree import DecisionTreeRegressor\n",
    "\n",
    "# Path of the file to read\n",
    "iowa_file_path = '../input/home-data-for-ml-course/train.csv'\n",
    "\n",
    "home_data = pd.read_csv(iowa_file_path)\n",
    "y = home_data.SalePrice\n",
    "feature_columns = ['LotArea', 'YearBuilt', '1stFlrSF', '2ndFlrSF', 'FullBath', 'BedroomAbvGr', 'TotRmsAbvGrd']\n",
    "X = home_data[feature_columns]\n",
    "\n",
    "# Specify Model\n",
    "iowa_model = DecisionTreeRegressor()\n",
    "# Fit Model\n",
    "iowa_model.fit(X, y)\n",
    "\n",
    "print(\"First in-sample predictions:\", iowa_model.predict(X.head()))\n",
    "print(\"Actual target values for those homes:\", y.head().tolist())\n",
    "\n",
    "# Set up code checking\n",
    "from learntools.core import binder\n",
    "binder.bind(globals())\n",
    "from learntools.machine_learning.ex4 import *\n",
    "print(\"Setup Complete\")"
   ]
  },
  {
   "cell_type": "markdown",
   "id": "8fe3c24c",
   "metadata": {
    "papermill": {
     "duration": 0.004295,
     "end_time": "2023-03-31T01:52:00.573785",
     "exception": false,
     "start_time": "2023-03-31T01:52:00.569490",
     "status": "completed"
    },
    "tags": []
   },
   "source": [
    "# Exercises\n",
    "\n",
    "## Step 1: Split Your Data\n",
    "Use the `train_test_split` function to split up your data.\n",
    "\n",
    "Give it the argument `random_state=1` so the `check` functions know what to expect when verifying your code.\n",
    "\n",
    "Recall, your features are loaded in the DataFrame **X** and your target is loaded in **y**.\n"
   ]
  },
  {
   "cell_type": "code",
   "execution_count": 2,
   "id": "e1b9e689",
   "metadata": {
    "execution": {
     "iopub.execute_input": "2023-03-31T01:52:00.585032Z",
     "iopub.status.busy": "2023-03-31T01:52:00.584616Z",
     "iopub.status.idle": "2023-03-31T01:52:00.600364Z",
     "shell.execute_reply": "2023-03-31T01:52:00.599144Z"
    },
    "papermill": {
     "duration": 0.024432,
     "end_time": "2023-03-31T01:52:00.602860",
     "exception": false,
     "start_time": "2023-03-31T01:52:00.578428",
     "status": "completed"
    },
    "tags": []
   },
   "outputs": [
    {
     "data": {
      "application/javascript": [
       "parent.postMessage({\"jupyterEvent\": \"custom.exercise_interaction\", \"data\": {\"outcomeType\": 1, \"valueTowardsCompletion\": 0.25, \"interactionType\": 1, \"questionType\": 2, \"questionId\": \"1_SplitData\", \"learnToolsVersion\": \"0.3.4\", \"failureMessage\": \"\", \"exceptionClass\": \"\", \"trace\": \"\"}}, \"*\")"
      ],
      "text/plain": [
       "<IPython.core.display.Javascript object>"
      ]
     },
     "metadata": {},
     "output_type": "display_data"
    },
    {
     "data": {
      "text/markdown": [
       "<span style=\"color:#33cc33\">Correct</span>"
      ],
      "text/plain": [
       "Correct"
      ]
     },
     "metadata": {},
     "output_type": "display_data"
    }
   ],
   "source": [
    "# Import the train_test_split function and uncomment\n",
    "from sklearn.model_selection import train_test_split\n",
    "\n",
    "# fill in and uncomment\n",
    "train_X, val_X, train_y, val_y = train_test_split(X, y, random_state = 1)\n",
    "\n",
    "# Check your answer\n",
    "step_1.check()"
   ]
  },
  {
   "cell_type": "code",
   "execution_count": 3,
   "id": "95b43bf2",
   "metadata": {
    "execution": {
     "iopub.execute_input": "2023-03-31T01:52:00.615207Z",
     "iopub.status.busy": "2023-03-31T01:52:00.614018Z",
     "iopub.status.idle": "2023-03-31T01:52:00.619490Z",
     "shell.execute_reply": "2023-03-31T01:52:00.618266Z"
    },
    "papermill": {
     "duration": 0.014215,
     "end_time": "2023-03-31T01:52:00.621994",
     "exception": false,
     "start_time": "2023-03-31T01:52:00.607779",
     "status": "completed"
    },
    "tags": []
   },
   "outputs": [],
   "source": [
    "# The lines below will show you a hint or the solution.\n",
    "# step_1.hint() \n",
    "# step_1.solution()\n"
   ]
  },
  {
   "cell_type": "markdown",
   "id": "635978d1",
   "metadata": {
    "papermill": {
     "duration": 0.004601,
     "end_time": "2023-03-31T01:52:00.631675",
     "exception": false,
     "start_time": "2023-03-31T01:52:00.627074",
     "status": "completed"
    },
    "tags": []
   },
   "source": [
    "## Step 2: Specify and Fit the Model\n",
    "\n",
    "Create a `DecisionTreeRegressor` model and fit it to the relevant data.\n",
    "Set `random_state` to 1 again when creating the model."
   ]
  },
  {
   "cell_type": "code",
   "execution_count": 4,
   "id": "407cd7cf",
   "metadata": {
    "execution": {
     "iopub.execute_input": "2023-03-31T01:52:00.643319Z",
     "iopub.status.busy": "2023-03-31T01:52:00.642849Z",
     "iopub.status.idle": "2023-03-31T01:52:00.673200Z",
     "shell.execute_reply": "2023-03-31T01:52:00.671941Z"
    },
    "papermill": {
     "duration": 0.039056,
     "end_time": "2023-03-31T01:52:00.675535",
     "exception": false,
     "start_time": "2023-03-31T01:52:00.636479",
     "status": "completed"
    },
    "tags": []
   },
   "outputs": [
    {
     "name": "stdout",
     "output_type": "stream",
     "text": [
      "[186500. 184000. 130000.  92000. 164500. 220000. 335000. 144152. 215000.\n",
      " 262000.]\n",
      "[186500. 184000. 130000.  92000. 164500. 220000. 335000. 144152. 215000.\n",
      " 262000.]\n"
     ]
    },
    {
     "data": {
      "application/javascript": [
       "parent.postMessage({\"jupyterEvent\": \"custom.exercise_interaction\", \"data\": {\"outcomeType\": 1, \"valueTowardsCompletion\": 0.25, \"interactionType\": 1, \"questionType\": 2, \"questionId\": \"2_FitModelWithTrain\", \"learnToolsVersion\": \"0.3.4\", \"failureMessage\": \"\", \"exceptionClass\": \"\", \"trace\": \"\"}}, \"*\")"
      ],
      "text/plain": [
       "<IPython.core.display.Javascript object>"
      ]
     },
     "metadata": {},
     "output_type": "display_data"
    },
    {
     "data": {
      "text/markdown": [
       "<span style=\"color:#33cc33\">Correct</span>"
      ],
      "text/plain": [
       "Correct"
      ]
     },
     "metadata": {},
     "output_type": "display_data"
    }
   ],
   "source": [
    "# You imported DecisionTreeRegressor in your last exercise\n",
    "# and that code has been copied to the setup code above. So, no need to\n",
    "# import it again\n",
    "\n",
    "# Specify the model\n",
    "iowa_model = DecisionTreeRegressor(random_state= 1)\n",
    "\n",
    "# Fit iowa_model with the training data.\n",
    "iowa_model.fit(train_X, train_y)\n",
    "\n",
    "# Check your answer\n",
    "step_2.check()"
   ]
  },
  {
   "cell_type": "code",
   "execution_count": 5,
   "id": "bf996650",
   "metadata": {
    "execution": {
     "iopub.execute_input": "2023-03-31T01:52:00.687706Z",
     "iopub.status.busy": "2023-03-31T01:52:00.687323Z",
     "iopub.status.idle": "2023-03-31T01:52:00.692590Z",
     "shell.execute_reply": "2023-03-31T01:52:00.691290Z"
    },
    "papermill": {
     "duration": 0.014376,
     "end_time": "2023-03-31T01:52:00.695078",
     "exception": false,
     "start_time": "2023-03-31T01:52:00.680702",
     "status": "completed"
    },
    "tags": []
   },
   "outputs": [],
   "source": [
    "# step_2.hint()\n",
    "# step_2.solution()"
   ]
  },
  {
   "cell_type": "markdown",
   "id": "b843f029",
   "metadata": {
    "papermill": {
     "duration": 0.004991,
     "end_time": "2023-03-31T01:52:00.705355",
     "exception": false,
     "start_time": "2023-03-31T01:52:00.700364",
     "status": "completed"
    },
    "tags": []
   },
   "source": [
    "## Step 3: Make Predictions with Validation data\n"
   ]
  },
  {
   "cell_type": "code",
   "execution_count": 6,
   "id": "5c3be2c3",
   "metadata": {
    "execution": {
     "iopub.execute_input": "2023-03-31T01:52:00.717828Z",
     "iopub.status.busy": "2023-03-31T01:52:00.717437Z",
     "iopub.status.idle": "2023-03-31T01:52:00.729847Z",
     "shell.execute_reply": "2023-03-31T01:52:00.728969Z"
    },
    "papermill": {
     "duration": 0.021304,
     "end_time": "2023-03-31T01:52:00.731904",
     "exception": false,
     "start_time": "2023-03-31T01:52:00.710600",
     "status": "completed"
    },
    "tags": []
   },
   "outputs": [
    {
     "data": {
      "application/javascript": [
       "parent.postMessage({\"jupyterEvent\": \"custom.exercise_interaction\", \"data\": {\"outcomeType\": 1, \"valueTowardsCompletion\": 0.25, \"interactionType\": 1, \"questionType\": 2, \"questionId\": \"3_ValPreds\", \"learnToolsVersion\": \"0.3.4\", \"failureMessage\": \"\", \"exceptionClass\": \"\", \"trace\": \"\"}}, \"*\")"
      ],
      "text/plain": [
       "<IPython.core.display.Javascript object>"
      ]
     },
     "metadata": {},
     "output_type": "display_data"
    },
    {
     "data": {
      "text/markdown": [
       "<span style=\"color:#33cc33\">Correct</span>"
      ],
      "text/plain": [
       "Correct"
      ]
     },
     "metadata": {},
     "output_type": "display_data"
    }
   ],
   "source": [
    "# Predict with all validation observations\n",
    "val_predictions = iowa_model.predict(val_X)\n",
    "\n",
    "# Check your answer\n",
    "step_3.check()"
   ]
  },
  {
   "cell_type": "code",
   "execution_count": 7,
   "id": "17d7afe1",
   "metadata": {
    "execution": {
     "iopub.execute_input": "2023-03-31T01:52:00.744876Z",
     "iopub.status.busy": "2023-03-31T01:52:00.744400Z",
     "iopub.status.idle": "2023-03-31T01:52:00.749659Z",
     "shell.execute_reply": "2023-03-31T01:52:00.748280Z"
    },
    "papermill": {
     "duration": 0.014924,
     "end_time": "2023-03-31T01:52:00.752327",
     "exception": false,
     "start_time": "2023-03-31T01:52:00.737403",
     "status": "completed"
    },
    "tags": []
   },
   "outputs": [],
   "source": [
    "# step_3.hint()\n",
    "# step_3.solution()"
   ]
  },
  {
   "cell_type": "markdown",
   "id": "8a914d0d",
   "metadata": {
    "papermill": {
     "duration": 0.005043,
     "end_time": "2023-03-31T01:52:00.763080",
     "exception": false,
     "start_time": "2023-03-31T01:52:00.758037",
     "status": "completed"
    },
    "tags": []
   },
   "source": [
    "Inspect your predictions and actual values from validation data."
   ]
  },
  {
   "cell_type": "code",
   "execution_count": 8,
   "id": "e839e820",
   "metadata": {
    "execution": {
     "iopub.execute_input": "2023-03-31T01:52:00.775860Z",
     "iopub.status.busy": "2023-03-31T01:52:00.775452Z",
     "iopub.status.idle": "2023-03-31T01:52:00.784557Z",
     "shell.execute_reply": "2023-03-31T01:52:00.783218Z"
    },
    "papermill": {
     "duration": 0.018988,
     "end_time": "2023-03-31T01:52:00.787392",
     "exception": false,
     "start_time": "2023-03-31T01:52:00.768404",
     "status": "completed"
    },
    "tags": []
   },
   "outputs": [
    {
     "name": "stdout",
     "output_type": "stream",
     "text": [
      "[186500. 184000. 130000.  92000. 164500.]\n",
      "258     231500\n",
      "267     179500\n",
      "288     122000\n",
      "649      84500\n",
      "1233    142000\n",
      "Name: SalePrice, dtype: int64\n"
     ]
    }
   ],
   "source": [
    "# print the top few validation predictions\n",
    "print(iowa_model.predict(val_X.head()))\n",
    "# print the top few actual prices from validation data\n",
    "print(val_y.head())"
   ]
  },
  {
   "cell_type": "markdown",
   "id": "71f119d4",
   "metadata": {
    "papermill": {
     "duration": 0.005317,
     "end_time": "2023-03-31T01:52:00.799278",
     "exception": false,
     "start_time": "2023-03-31T01:52:00.793961",
     "status": "completed"
    },
    "tags": []
   },
   "source": [
    "What do you notice that is different from what you saw with in-sample predictions (which are printed after the top code cell in this page).\n",
    "\n",
    "Do you remember why validation predictions differ from in-sample (or training) predictions? This is an important idea from the last lesson.\n",
    "\n",
    "## Step 4: Calculate the Mean Absolute Error in Validation Data\n"
   ]
  },
  {
   "cell_type": "code",
   "execution_count": 9,
   "id": "2987e01b",
   "metadata": {
    "execution": {
     "iopub.execute_input": "2023-03-31T01:52:00.812400Z",
     "iopub.status.busy": "2023-03-31T01:52:00.811994Z",
     "iopub.status.idle": "2023-03-31T01:52:00.824467Z",
     "shell.execute_reply": "2023-03-31T01:52:00.822701Z"
    },
    "papermill": {
     "duration": 0.02187,
     "end_time": "2023-03-31T01:52:00.826734",
     "exception": false,
     "start_time": "2023-03-31T01:52:00.804864",
     "status": "completed"
    },
    "tags": []
   },
   "outputs": [
    {
     "name": "stdout",
     "output_type": "stream",
     "text": [
      "29652.931506849316\n"
     ]
    },
    {
     "data": {
      "application/javascript": [
       "parent.postMessage({\"jupyterEvent\": \"custom.exercise_interaction\", \"data\": {\"outcomeType\": 1, \"valueTowardsCompletion\": 0.25, \"interactionType\": 1, \"questionType\": 1, \"questionId\": \"4_MAE\", \"learnToolsVersion\": \"0.3.4\", \"failureMessage\": \"\", \"exceptionClass\": \"\", \"trace\": \"\"}}, \"*\")"
      ],
      "text/plain": [
       "<IPython.core.display.Javascript object>"
      ]
     },
     "metadata": {},
     "output_type": "display_data"
    },
    {
     "data": {
      "text/markdown": [
       "<span style=\"color:#33cc33\">Correct</span>"
      ],
      "text/plain": [
       "Correct"
      ]
     },
     "metadata": {},
     "output_type": "display_data"
    }
   ],
   "source": [
    "from sklearn.metrics import mean_absolute_error\n",
    "val_mae = mean_absolute_error(val_y , val_predictions)\n",
    "# uncomment following line to see the validation_mae\n",
    "print(val_mae)\n",
    "\n",
    "# Check your answer\n",
    "step_4.check()"
   ]
  },
  {
   "cell_type": "code",
   "execution_count": 10,
   "id": "956027ba",
   "metadata": {
    "execution": {
     "iopub.execute_input": "2023-03-31T01:52:00.840291Z",
     "iopub.status.busy": "2023-03-31T01:52:00.839813Z",
     "iopub.status.idle": "2023-03-31T01:52:00.844508Z",
     "shell.execute_reply": "2023-03-31T01:52:00.843334Z"
    },
    "papermill": {
     "duration": 0.01428,
     "end_time": "2023-03-31T01:52:00.846831",
     "exception": false,
     "start_time": "2023-03-31T01:52:00.832551",
     "status": "completed"
    },
    "tags": []
   },
   "outputs": [],
   "source": [
    "# step_4.hint()\n",
    "# step_4.solution()"
   ]
  },
  {
   "cell_type": "markdown",
   "id": "65e05cc9",
   "metadata": {
    "papermill": {
     "duration": 0.005587,
     "end_time": "2023-03-31T01:52:00.858585",
     "exception": false,
     "start_time": "2023-03-31T01:52:00.852998",
     "status": "completed"
    },
    "tags": []
   },
   "source": [
    "Is that MAE good?  There isn't a general rule for what values are good that applies across applications. But you'll see how to use (and improve) this number in the next step.\n",
    "\n",
    "# Keep Going\n",
    "\n",
    "You are ready for **[Underfitting and Overfitting](https://www.kaggle.com/dansbecker/underfitting-and-overfitting).**\n"
   ]
  },
  {
   "cell_type": "markdown",
   "id": "bceb32fd",
   "metadata": {
    "papermill": {
     "duration": 0.005476,
     "end_time": "2023-03-31T01:52:00.869883",
     "exception": false,
     "start_time": "2023-03-31T01:52:00.864407",
     "status": "completed"
    },
    "tags": []
   },
   "source": [
    "---\n",
    "\n",
    "\n",
    "\n",
    "\n",
    "*Have questions or comments? Visit the [course discussion forum](https://www.kaggle.com/learn/intro-to-machine-learning/discussion) to chat with other learners.*"
   ]
  }
 ],
 "metadata": {
  "kernelspec": {
   "display_name": "Python 3",
   "language": "python",
   "name": "python3"
  },
  "language_info": {
   "codemirror_mode": {
    "name": "ipython",
    "version": 3
   },
   "file_extension": ".py",
   "mimetype": "text/x-python",
   "name": "python",
   "nbconvert_exporter": "python",
   "pygments_lexer": "ipython3",
   "version": "3.7.12"
  },
  "papermill": {
   "default_parameters": {},
   "duration": 16.147583,
   "end_time": "2023-03-31T01:52:04.125371",
   "environment_variables": {},
   "exception": null,
   "input_path": "__notebook__.ipynb",
   "output_path": "__notebook__.ipynb",
   "parameters": {},
   "start_time": "2023-03-31T01:51:47.977788",
   "version": "2.4.0"
  }
 },
 "nbformat": 4,
 "nbformat_minor": 5
}

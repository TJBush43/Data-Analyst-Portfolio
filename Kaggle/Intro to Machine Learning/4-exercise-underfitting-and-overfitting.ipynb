{
 "cells": [
  {
   "cell_type": "markdown",
   "id": "5d9aadf6",
   "metadata": {
    "papermill": {
     "duration": 0.003404,
     "end_time": "2023-10-06T19:12:57.008098",
     "exception": false,
     "start_time": "2023-10-06T19:12:57.004694",
     "status": "completed"
    },
    "tags": []
   },
   "source": [
    "**This notebook is an exercise in the [Introduction to Machine Learning](https://www.kaggle.com/learn/intro-to-machine-learning) course.  You can reference the tutorial at [this link](https://www.kaggle.com/dansbecker/underfitting-and-overfitting).**\n",
    "\n",
    "---\n"
   ]
  },
  {
   "cell_type": "markdown",
   "id": "21c40a54",
   "metadata": {
    "papermill": {
     "duration": 0.002813,
     "end_time": "2023-10-06T19:12:57.016067",
     "exception": false,
     "start_time": "2023-10-06T19:12:57.013254",
     "status": "completed"
    },
    "tags": []
   },
   "source": [
    "## Recap\n",
    "You've built your first model, and now it's time to optimize the size of the tree to make better predictions. Run this cell to set up your coding environment where the previous step left off."
   ]
  },
  {
   "cell_type": "code",
   "execution_count": 1,
   "id": "57f626b3",
   "metadata": {
    "execution": {
     "iopub.execute_input": "2023-10-06T19:12:57.024419Z",
     "iopub.status.busy": "2023-10-06T19:12:57.023528Z",
     "iopub.status.idle": "2023-10-06T19:12:58.856476Z",
     "shell.execute_reply": "2023-10-06T19:12:58.855416Z"
    },
    "papermill": {
     "duration": 1.839567,
     "end_time": "2023-10-06T19:12:58.858593",
     "exception": false,
     "start_time": "2023-10-06T19:12:57.019026",
     "status": "completed"
    },
    "tags": []
   },
   "outputs": [
    {
     "name": "stdout",
     "output_type": "stream",
     "text": [
      "Validation MAE: 29,653\n",
      "\n",
      "Setup complete\n"
     ]
    }
   ],
   "source": [
    "# Code you have previously used to load data\n",
    "import pandas as pd\n",
    "from sklearn.metrics import mean_absolute_error\n",
    "from sklearn.model_selection import train_test_split\n",
    "from sklearn.tree import DecisionTreeRegressor\n",
    "\n",
    "\n",
    "# Path of the file to read\n",
    "iowa_file_path = '../input/home-data-for-ml-course/train.csv'\n",
    "\n",
    "home_data = pd.read_csv(iowa_file_path)\n",
    "# Create target object and call it y\n",
    "y = home_data.SalePrice\n",
    "# Create X\n",
    "features = ['LotArea', 'YearBuilt', '1stFlrSF', '2ndFlrSF', 'FullBath', 'BedroomAbvGr', 'TotRmsAbvGrd']\n",
    "X = home_data[features]\n",
    "\n",
    "# Split into validation and training data\n",
    "train_X, val_X, train_y, val_y = train_test_split(X, y, random_state=1)\n",
    "\n",
    "# Specify Model\n",
    "iowa_model = DecisionTreeRegressor(random_state=1)\n",
    "# Fit Model\n",
    "iowa_model.fit(train_X, train_y)\n",
    "\n",
    "# Make validation predictions and calculate mean absolute error\n",
    "val_predictions = iowa_model.predict(val_X)\n",
    "val_mae = mean_absolute_error(val_predictions, val_y)\n",
    "print(\"Validation MAE: {:,.0f}\".format(val_mae))\n",
    "\n",
    "# Set up code checking\n",
    "from learntools.core import binder\n",
    "binder.bind(globals())\n",
    "from learntools.machine_learning.ex5 import *\n",
    "print(\"\\nSetup complete\")"
   ]
  },
  {
   "cell_type": "markdown",
   "id": "a2e4b6d9",
   "metadata": {
    "papermill": {
     "duration": 0.00275,
     "end_time": "2023-10-06T19:12:58.864596",
     "exception": false,
     "start_time": "2023-10-06T19:12:58.861846",
     "status": "completed"
    },
    "tags": []
   },
   "source": [
    "# Exercises\n",
    "You could write the function `get_mae` yourself. For now, we'll supply it. This is the same function you read about in the previous lesson. Just run the cell below."
   ]
  },
  {
   "cell_type": "code",
   "execution_count": 2,
   "id": "f6d386af",
   "metadata": {
    "execution": {
     "iopub.execute_input": "2023-10-06T19:12:58.872202Z",
     "iopub.status.busy": "2023-10-06T19:12:58.871846Z",
     "iopub.status.idle": "2023-10-06T19:12:58.876777Z",
     "shell.execute_reply": "2023-10-06T19:12:58.875675Z"
    },
    "papermill": {
     "duration": 0.011286,
     "end_time": "2023-10-06T19:12:58.878709",
     "exception": false,
     "start_time": "2023-10-06T19:12:58.867423",
     "status": "completed"
    },
    "tags": []
   },
   "outputs": [],
   "source": [
    "def get_mae(max_leaf_nodes, train_X, val_X, train_y, val_y):\n",
    "    model = DecisionTreeRegressor(max_leaf_nodes=max_leaf_nodes, random_state=0)\n",
    "    model.fit(train_X, train_y)\n",
    "    preds_val = model.predict(val_X)\n",
    "    mae = mean_absolute_error(val_y, preds_val)\n",
    "    return(mae)"
   ]
  },
  {
   "cell_type": "markdown",
   "id": "b3ddd113",
   "metadata": {
    "papermill": {
     "duration": 0.002883,
     "end_time": "2023-10-06T19:12:58.884735",
     "exception": false,
     "start_time": "2023-10-06T19:12:58.881852",
     "status": "completed"
    },
    "tags": []
   },
   "source": [
    "## Step 1: Compare Different Tree Sizes\n",
    "Write a loop that tries the following values for *max_leaf_nodes* from a set of possible values.\n",
    "\n",
    "Call the *get_mae* function on each value of max_leaf_nodes. Store the output in some way that allows you to select the value of `max_leaf_nodes` that gives the most accurate model on your data."
   ]
  },
  {
   "cell_type": "code",
   "execution_count": 3,
   "id": "cd8c620a",
   "metadata": {
    "execution": {
     "iopub.execute_input": "2023-10-06T19:12:58.893445Z",
     "iopub.status.busy": "2023-10-06T19:12:58.891694Z",
     "iopub.status.idle": "2023-10-06T19:12:58.939036Z",
     "shell.execute_reply": "2023-10-06T19:12:58.937981Z"
    },
    "papermill": {
     "duration": 0.053261,
     "end_time": "2023-10-06T19:12:58.940827",
     "exception": false,
     "start_time": "2023-10-06T19:12:58.887566",
     "status": "completed"
    },
    "tags": []
   },
   "outputs": [
    {
     "name": "stdout",
     "output_type": "stream",
     "text": [
      "Max Leaf Nodes:  100\n"
     ]
    },
    {
     "data": {
      "application/javascript": [
       "parent.postMessage({\"jupyterEvent\": \"custom.exercise_interaction\", \"data\": {\"outcomeType\": 1, \"valueTowardsCompletion\": 0.5, \"interactionType\": 1, \"questionType\": 1, \"questionId\": \"1_BestTreeSize\", \"learnToolsVersion\": \"0.3.4\", \"failureMessage\": \"\", \"exceptionClass\": \"\", \"trace\": \"\"}}, \"*\")"
      ],
      "text/plain": [
       "<IPython.core.display.Javascript object>"
      ]
     },
     "metadata": {},
     "output_type": "display_data"
    },
    {
     "data": {
      "text/markdown": [
       "<span style=\"color:#33cc33\">Correct</span>"
      ],
      "text/plain": [
       "Correct"
      ]
     },
     "metadata": {},
     "output_type": "display_data"
    }
   ],
   "source": [
    "candidate_max_leaf_nodes = [5, 25, 50, 100, 250, 500]\n",
    "# Write loop to find the ideal tree size from candidate_max_leaf_nodes\n",
    "\n",
    "my_mae = {max_leaf_nodes: get_mae(max_leaf_nodes, train_X, val_X, train_y, val_y) for max_leaf_nodes in candidate_max_leaf_nodes}\n",
    "# Store the best value of max_leaf_nodes (it will be either 5, 25, 50, 100, 250 or 500)\n",
    "best_tree_size = min(my_mae, key=my_mae.get)\n",
    "print(\"Max Leaf Nodes:  %d\" %(best_tree_size))\n",
    "# Check your answer\n",
    "step_1.check()"
   ]
  },
  {
   "cell_type": "code",
   "execution_count": 4,
   "id": "1f5ab3f4",
   "metadata": {
    "execution": {
     "iopub.execute_input": "2023-10-06T19:12:58.949147Z",
     "iopub.status.busy": "2023-10-06T19:12:58.948538Z",
     "iopub.status.idle": "2023-10-06T19:12:58.951991Z",
     "shell.execute_reply": "2023-10-06T19:12:58.951341Z"
    },
    "papermill": {
     "duration": 0.009355,
     "end_time": "2023-10-06T19:12:58.953639",
     "exception": false,
     "start_time": "2023-10-06T19:12:58.944284",
     "status": "completed"
    },
    "tags": []
   },
   "outputs": [],
   "source": [
    "# The lines below will show you a hint or the solution.\n",
    "#step_1.hint() \n",
    "#step_1.solution()"
   ]
  },
  {
   "cell_type": "markdown",
   "id": "07066aa9",
   "metadata": {
    "papermill": {
     "duration": 0.003045,
     "end_time": "2023-10-06T19:12:58.960108",
     "exception": false,
     "start_time": "2023-10-06T19:12:58.957063",
     "status": "completed"
    },
    "tags": []
   },
   "source": [
    "## Step 2: Fit Model Using All Data\n",
    "You know the best tree size. If you were going to deploy this model in practice, you would make it even more accurate by using all of the data and keeping that tree size.  That is, you don't need to hold out the validation data now that you've made all your modeling decisions."
   ]
  },
  {
   "cell_type": "markdown",
   "id": "a259f5af",
   "metadata": {
    "jupyter": {
     "source_hidden": true
    },
    "papermill": {
     "duration": 0.002899,
     "end_time": "2023-10-06T19:12:58.966198",
     "exception": false,
     "start_time": "2023-10-06T19:12:58.963299",
     "status": "completed"
    },
    "tags": []
   },
   "source": []
  },
  {
   "cell_type": "code",
   "execution_count": 5,
   "id": "0dedb998",
   "metadata": {
    "execution": {
     "iopub.execute_input": "2023-10-06T19:12:58.974139Z",
     "iopub.status.busy": "2023-10-06T19:12:58.973399Z",
     "iopub.status.idle": "2023-10-06T19:12:58.988605Z",
     "shell.execute_reply": "2023-10-06T19:12:58.987547Z"
    },
    "papermill": {
     "duration": 0.021363,
     "end_time": "2023-10-06T19:12:58.990609",
     "exception": false,
     "start_time": "2023-10-06T19:12:58.969246",
     "status": "completed"
    },
    "tags": []
   },
   "outputs": [
    {
     "data": {
      "application/javascript": [
       "parent.postMessage({\"jupyterEvent\": \"custom.exercise_interaction\", \"data\": {\"outcomeType\": 1, \"valueTowardsCompletion\": 0.5, \"interactionType\": 1, \"questionType\": 2, \"questionId\": \"2_FitModelWithAllData\", \"learnToolsVersion\": \"0.3.4\", \"failureMessage\": \"\", \"exceptionClass\": \"\", \"trace\": \"\"}}, \"*\")"
      ],
      "text/plain": [
       "<IPython.core.display.Javascript object>"
      ]
     },
     "metadata": {},
     "output_type": "display_data"
    },
    {
     "data": {
      "text/markdown": [
       "<span style=\"color:#33cc33\">Correct</span>"
      ],
      "text/plain": [
       "Correct"
      ]
     },
     "metadata": {},
     "output_type": "display_data"
    }
   ],
   "source": [
    "# Fill in argument to make optimal size and uncomment\n",
    "final_model = DecisionTreeRegressor(max_leaf_nodes=best_tree_size, random_state=0)\n",
    "\n",
    "# fit the final model and uncomment the next two lines\n",
    "final_model.fit(X, y)\n",
    "\n",
    "# Check your answer\n",
    "step_2.check()"
   ]
  },
  {
   "cell_type": "code",
   "execution_count": 6,
   "id": "94651ae3",
   "metadata": {
    "execution": {
     "iopub.execute_input": "2023-10-06T19:12:58.999303Z",
     "iopub.status.busy": "2023-10-06T19:12:58.998423Z",
     "iopub.status.idle": "2023-10-06T19:12:59.002688Z",
     "shell.execute_reply": "2023-10-06T19:12:59.001987Z"
    },
    "papermill": {
     "duration": 0.010373,
     "end_time": "2023-10-06T19:12:59.004368",
     "exception": false,
     "start_time": "2023-10-06T19:12:58.993995",
     "status": "completed"
    },
    "tags": []
   },
   "outputs": [],
   "source": [
    "#step_2.hint()\n",
    "#step_2.solution()"
   ]
  },
  {
   "cell_type": "markdown",
   "id": "747ac313",
   "metadata": {
    "papermill": {
     "duration": 0.003244,
     "end_time": "2023-10-06T19:12:59.011321",
     "exception": false,
     "start_time": "2023-10-06T19:12:59.008077",
     "status": "completed"
    },
    "tags": []
   },
   "source": [
    "You've tuned this model and improved your results. But we are still using Decision Tree models, which are not very sophisticated by modern machine learning standards. In the next step you will learn to use Random Forests to improve your models even more.\n",
    "\n",
    "# Keep Going\n",
    "\n",
    "You are ready for **[Random Forests](https://www.kaggle.com/dansbecker/random-forests).**\n"
   ]
  },
  {
   "cell_type": "markdown",
   "id": "773ea5e1",
   "metadata": {
    "papermill": {
     "duration": 0.003079,
     "end_time": "2023-10-06T19:12:59.017813",
     "exception": false,
     "start_time": "2023-10-06T19:12:59.014734",
     "status": "completed"
    },
    "tags": []
   },
   "source": [
    "---\n",
    "\n",
    "\n",
    "\n",
    "\n",
    "*Have questions or comments? Visit the [course discussion forum](https://www.kaggle.com/learn/intro-to-machine-learning/discussion) to chat with other learners.*"
   ]
  }
 ],
 "metadata": {
  "kernelspec": {
   "display_name": "Python 3",
   "language": "python",
   "name": "python3"
  },
  "language_info": {
   "codemirror_mode": {
    "name": "ipython",
    "version": 3
   },
   "file_extension": ".py",
   "mimetype": "text/x-python",
   "name": "python",
   "nbconvert_exporter": "python",
   "pygments_lexer": "ipython3",
   "version": "3.10.12"
  },
  "papermill": {
   "default_parameters": {},
   "duration": 5.501225,
   "end_time": "2023-10-06T19:12:59.540395",
   "environment_variables": {},
   "exception": null,
   "input_path": "__notebook__.ipynb",
   "output_path": "__notebook__.ipynb",
   "parameters": {},
   "start_time": "2023-10-06T19:12:54.039170",
   "version": "2.4.0"
  }
 },
 "nbformat": 4,
 "nbformat_minor": 5
}

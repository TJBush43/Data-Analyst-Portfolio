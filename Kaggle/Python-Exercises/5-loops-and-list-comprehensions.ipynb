{
 "cells": [
  {
   "cell_type": "markdown",
   "id": "a6b62fef",
   "metadata": {
    "papermill": {
     "duration": 0.006507,
     "end_time": "2023-01-24T23:55:05.872688",
     "exception": false,
     "start_time": "2023-01-24T23:55:05.866181",
     "status": "completed"
    },
    "tags": []
   },
   "source": [
    "**This notebook is an exercise in the [Python](https://www.kaggle.com/learn/python) course.  You can reference the tutorial at [this link](https://www.kaggle.com/colinmorris/loops-and-list-comprehensions).**\n",
    "\n",
    "---\n"
   ]
  },
  {
   "cell_type": "markdown",
   "id": "7973fae7",
   "metadata": {
    "papermill": {
     "duration": 0.004997,
     "end_time": "2023-01-24T23:55:05.883233",
     "exception": false,
     "start_time": "2023-01-24T23:55:05.878236",
     "status": "completed"
    },
    "tags": []
   },
   "source": [
    "With all you've learned, you can start writing much more interesting programs. See if you can solve the problems below.\n",
    "\n",
    "As always, run the setup code below before working on the questions."
   ]
  },
  {
   "cell_type": "code",
   "execution_count": 1,
   "id": "d9ec9e6b",
   "metadata": {
    "execution": {
     "iopub.execute_input": "2023-01-24T23:55:05.896135Z",
     "iopub.status.busy": "2023-01-24T23:55:05.895357Z",
     "iopub.status.idle": "2023-01-24T23:55:05.947245Z",
     "shell.execute_reply": "2023-01-24T23:55:05.946121Z"
    },
    "papermill": {
     "duration": 0.061186,
     "end_time": "2023-01-24T23:55:05.949725",
     "exception": false,
     "start_time": "2023-01-24T23:55:05.888539",
     "status": "completed"
    },
    "tags": []
   },
   "outputs": [
    {
     "name": "stdout",
     "output_type": "stream",
     "text": [
      "Setup complete.\n"
     ]
    }
   ],
   "source": [
    "from learntools.core import binder; binder.bind(globals())\n",
    "from learntools.python.ex5 import *\n",
    "print('Setup complete.')"
   ]
  },
  {
   "cell_type": "markdown",
   "id": "741f5cb4",
   "metadata": {
    "papermill": {
     "duration": 0.005235,
     "end_time": "2023-01-24T23:55:05.960595",
     "exception": false,
     "start_time": "2023-01-24T23:55:05.955360",
     "status": "completed"
    },
    "tags": []
   },
   "source": [
    "# 1.\n",
    "\n",
    "Have you ever felt debugging involved a bit of luck? The following program has a bug. Try to identify the bug and fix it."
   ]
  },
  {
   "cell_type": "code",
   "execution_count": 2,
   "id": "d4f3621a",
   "metadata": {
    "execution": {
     "iopub.execute_input": "2023-01-24T23:55:05.973278Z",
     "iopub.status.busy": "2023-01-24T23:55:05.972688Z",
     "iopub.status.idle": "2023-01-24T23:55:05.978361Z",
     "shell.execute_reply": "2023-01-24T23:55:05.977325Z"
    },
    "papermill": {
     "duration": 0.014777,
     "end_time": "2023-01-24T23:55:05.980563",
     "exception": false,
     "start_time": "2023-01-24T23:55:05.965786",
     "status": "completed"
    },
    "tags": []
   },
   "outputs": [],
   "source": [
    "def has_lucky_number(nums):\n",
    "    \"\"\"Return whether the given list of numbers is lucky. A lucky list contains\n",
    "    at least one number divisible by 7.\n",
    "    \"\"\"\n",
    "    for num in nums:\n",
    "        if num % 7 == 0:\n",
    "            return True\n",
    "        else:\n",
    "            return False"
   ]
  },
  {
   "cell_type": "markdown",
   "id": "42468e43",
   "metadata": {
    "papermill": {
     "duration": 0.005264,
     "end_time": "2023-01-24T23:55:05.991409",
     "exception": false,
     "start_time": "2023-01-24T23:55:05.986145",
     "status": "completed"
    },
    "tags": []
   },
   "source": [
    "Try to identify the bug and fix it in the cell below:"
   ]
  },
  {
   "cell_type": "code",
   "execution_count": 3,
   "id": "e9b5527d",
   "metadata": {
    "execution": {
     "iopub.execute_input": "2023-01-24T23:55:06.004218Z",
     "iopub.status.busy": "2023-01-24T23:55:06.003757Z",
     "iopub.status.idle": "2023-01-24T23:55:06.015858Z",
     "shell.execute_reply": "2023-01-24T23:55:06.014718Z"
    },
    "papermill": {
     "duration": 0.02127,
     "end_time": "2023-01-24T23:55:06.018012",
     "exception": false,
     "start_time": "2023-01-24T23:55:05.996742",
     "status": "completed"
    },
    "tags": []
   },
   "outputs": [
    {
     "data": {
      "application/javascript": [
       "parent.postMessage({\"jupyterEvent\": \"custom.exercise_interaction\", \"data\": {\"outcomeType\": 1, \"valueTowardsCompletion\": 0.25, \"interactionType\": 1, \"questionType\": 2, \"questionId\": \"1_EarlyExitDebugging\", \"learnToolsVersion\": \"0.3.4\", \"failureMessage\": \"\", \"exceptionClass\": \"\", \"trace\": \"\"}}, \"*\")"
      ],
      "text/plain": [
       "<IPython.core.display.Javascript object>"
      ]
     },
     "metadata": {},
     "output_type": "display_data"
    },
    {
     "data": {
      "text/markdown": [
       "<span style=\"color:#33cc33\">Correct:</span> \n",
       "\n",
       "Remember that `return` causes a function to exit immediately. So our original implementation always ran for just one iteration. We can only return `False` if we've looked at every element of the list (and confirmed that none of them are lucky). Though we can return early if the answer is `True`:\n",
       "\n",
       "```python\n",
       "def has_lucky_number(nums):\n",
       "    for num in nums:\n",
       "        if num % 7 == 0:\n",
       "            return True\n",
       "    # We've exhausted the list without finding a lucky number\n",
       "    return False\n",
       "```\n",
       "\n",
       "Here's a one-line version using a list comprehension with Python's `any` function (you can read about what it does by calling `help(any)`):\n",
       "\n",
       "```python\n",
       "def has_lucky_number(nums):\n",
       "    return any([num % 7 == 0 for num in nums])\n",
       "```\n"
      ],
      "text/plain": [
       "Correct: \n",
       "\n",
       "Remember that `return` causes a function to exit immediately. So our original implementation always ran for just one iteration. We can only return `False` if we've looked at every element of the list (and confirmed that none of them are lucky). Though we can return early if the answer is `True`:\n",
       "\n",
       "```python\n",
       "def has_lucky_number(nums):\n",
       "    for num in nums:\n",
       "        if num % 7 == 0:\n",
       "            return True\n",
       "    # We've exhausted the list without finding a lucky number\n",
       "    return False\n",
       "```\n",
       "\n",
       "Here's a one-line version using a list comprehension with Python's `any` function (you can read about what it does by calling `help(any)`):\n",
       "\n",
       "```python\n",
       "def has_lucky_number(nums):\n",
       "    return any([num % 7 == 0 for num in nums])\n",
       "```"
      ]
     },
     "metadata": {},
     "output_type": "display_data"
    }
   ],
   "source": [
    "def has_lucky_number(nums):\n",
    "    \"\"\"Return whether the given list of numbers is lucky. A lucky list contains\n",
    "    at least one number divisible by 7.\n",
    "    \"\"\"\n",
    "    for num in nums:\n",
    "        if num % 7 == 0:\n",
    "            return True\n",
    "    \n",
    "    return False\n",
    "\n",
    "# Check your answer\n",
    "q1.check()"
   ]
  },
  {
   "cell_type": "code",
   "execution_count": 4,
   "id": "b978d07e",
   "metadata": {
    "execution": {
     "iopub.execute_input": "2023-01-24T23:55:06.031142Z",
     "iopub.status.busy": "2023-01-24T23:55:06.030684Z",
     "iopub.status.idle": "2023-01-24T23:55:06.035498Z",
     "shell.execute_reply": "2023-01-24T23:55:06.034230Z"
    },
    "papermill": {
     "duration": 0.014009,
     "end_time": "2023-01-24T23:55:06.037716",
     "exception": false,
     "start_time": "2023-01-24T23:55:06.023707",
     "status": "completed"
    },
    "tags": []
   },
   "outputs": [],
   "source": [
    "#q1.hint()\n",
    "#q1.solution()"
   ]
  },
  {
   "cell_type": "markdown",
   "id": "305b9f7a",
   "metadata": {
    "papermill": {
     "duration": 0.005442,
     "end_time": "2023-01-24T23:55:06.049038",
     "exception": false,
     "start_time": "2023-01-24T23:55:06.043596",
     "status": "completed"
    },
    "tags": []
   },
   "source": [
    "# 2.\n",
    "Look at the Python expression below. What do you think we'll get when we run it? When you've made your prediction, uncomment the code and run the cell to see if you were right."
   ]
  },
  {
   "cell_type": "code",
   "execution_count": null,
   "id": "8421a655",
   "metadata": {
    "papermill": {
     "duration": 0.00527,
     "end_time": "2023-01-24T23:55:06.059752",
     "exception": false,
     "start_time": "2023-01-24T23:55:06.054482",
     "status": "completed"
    },
    "tags": []
   },
   "outputs": [],
   "source": []
  },
  {
   "cell_type": "markdown",
   "id": "d6c44b09",
   "metadata": {
    "papermill": {
     "duration": 0.005339,
     "end_time": "2023-01-24T23:55:06.070472",
     "exception": false,
     "start_time": "2023-01-24T23:55:06.065133",
     "status": "completed"
    },
    "tags": []
   },
   "source": [
    "R and Python have some libraries (like numpy and pandas) compare each element of the list to 2 (i.e. do an 'element-wise' comparison) and give us a list of booleans like `[False, False, True, True]`. \n",
    "\n",
    "Implement a function that reproduces this behaviour, returning a list of booleans corresponding to whether the corresponding element is greater than n."
   ]
  },
  {
   "cell_type": "code",
   "execution_count": 5,
   "id": "025408cf",
   "metadata": {
    "execution": {
     "iopub.execute_input": "2023-01-24T23:55:06.083324Z",
     "iopub.status.busy": "2023-01-24T23:55:06.082902Z",
     "iopub.status.idle": "2023-01-24T23:55:06.092548Z",
     "shell.execute_reply": "2023-01-24T23:55:06.091454Z"
    },
    "papermill": {
     "duration": 0.018866,
     "end_time": "2023-01-24T23:55:06.094753",
     "exception": false,
     "start_time": "2023-01-24T23:55:06.075887",
     "status": "completed"
    },
    "tags": []
   },
   "outputs": [
    {
     "data": {
      "application/javascript": [
       "parent.postMessage({\"jupyterEvent\": \"custom.exercise_interaction\", \"data\": {\"outcomeType\": 1, \"valueTowardsCompletion\": 0.25, \"interactionType\": 1, \"questionType\": 2, \"questionId\": \"2_ElementWiseComparison\", \"learnToolsVersion\": \"0.3.4\", \"failureMessage\": \"\", \"exceptionClass\": \"\", \"trace\": \"\"}}, \"*\")"
      ],
      "text/plain": [
       "<IPython.core.display.Javascript object>"
      ]
     },
     "metadata": {},
     "output_type": "display_data"
    },
    {
     "data": {
      "text/markdown": [
       "<span style=\"color:#33cc33\">Correct:</span> \n",
       "\n",
       "Here's one solution:\n",
       "```python\n",
       "def elementwise_greater_than(L, thresh):\n",
       "    res = []\n",
       "    for ele in L:\n",
       "        res.append(ele > thresh)\n",
       "    return res\n",
       "```\n",
       "\n",
       "And here's the list comprehension version:\n",
       "```python\n",
       "def elementwise_greater_than(L, thresh):\n",
       "    return [ele > thresh for ele in L]\n",
       "```\n"
      ],
      "text/plain": [
       "Correct: \n",
       "\n",
       "Here's one solution:\n",
       "```python\n",
       "def elementwise_greater_than(L, thresh):\n",
       "    res = []\n",
       "    for ele in L:\n",
       "        res.append(ele > thresh)\n",
       "    return res\n",
       "```\n",
       "\n",
       "And here's the list comprehension version:\n",
       "```python\n",
       "def elementwise_greater_than(L, thresh):\n",
       "    return [ele > thresh for ele in L]\n",
       "```"
      ]
     },
     "metadata": {},
     "output_type": "display_data"
    }
   ],
   "source": [
    "def elementwise_greater_than(L, thresh):\n",
    "    \"\"\"Return a list with the same length as L, where the value at index i is \n",
    "    True if L[i] is greater than thresh, and False otherwise.\n",
    "    \n",
    "    >>> elementwise_greater_than([1, 2, 3, 4], 2)\n",
    "    [False, False, True, True]\n",
    "    \"\"\"\n",
    "    newList = []\n",
    "    for i in L:\n",
    "        newList.append(i > thresh)\n",
    "    return newList\n",
    "\n",
    "# Check your answer\n",
    "q2.check()"
   ]
  },
  {
   "cell_type": "code",
   "execution_count": 6,
   "id": "2e04858f",
   "metadata": {
    "execution": {
     "iopub.execute_input": "2023-01-24T23:55:06.108328Z",
     "iopub.status.busy": "2023-01-24T23:55:06.107903Z",
     "iopub.status.idle": "2023-01-24T23:55:06.112604Z",
     "shell.execute_reply": "2023-01-24T23:55:06.111515Z"
    },
    "papermill": {
     "duration": 0.014221,
     "end_time": "2023-01-24T23:55:06.114900",
     "exception": false,
     "start_time": "2023-01-24T23:55:06.100679",
     "status": "completed"
    },
    "tags": []
   },
   "outputs": [],
   "source": [
    "#q2.solution()"
   ]
  },
  {
   "cell_type": "markdown",
   "id": "b120e67a",
   "metadata": {
    "papermill": {
     "duration": 0.006998,
     "end_time": "2023-01-24T23:55:06.127892",
     "exception": false,
     "start_time": "2023-01-24T23:55:06.120894",
     "status": "completed"
    },
    "tags": []
   },
   "source": [
    "# 3.\n",
    "\n",
    "Complete the body of the function below according to its docstring."
   ]
  },
  {
   "cell_type": "code",
   "execution_count": 7,
   "id": "2d97be3b",
   "metadata": {
    "execution": {
     "iopub.execute_input": "2023-01-24T23:55:06.142064Z",
     "iopub.status.busy": "2023-01-24T23:55:06.141157Z",
     "iopub.status.idle": "2023-01-24T23:55:06.150962Z",
     "shell.execute_reply": "2023-01-24T23:55:06.149291Z"
    },
    "papermill": {
     "duration": 0.0206,
     "end_time": "2023-01-24T23:55:06.154420",
     "exception": false,
     "start_time": "2023-01-24T23:55:06.133820",
     "status": "completed"
    },
    "tags": []
   },
   "outputs": [
    {
     "data": {
      "application/javascript": [
       "parent.postMessage({\"jupyterEvent\": \"custom.exercise_interaction\", \"data\": {\"outcomeType\": 1, \"valueTowardsCompletion\": 0.25, \"interactionType\": 1, \"questionType\": 2, \"questionId\": \"3_BoringMenu\", \"learnToolsVersion\": \"0.3.4\", \"failureMessage\": \"\", \"exceptionClass\": \"\", \"trace\": \"\"}}, \"*\")"
      ],
      "text/plain": [
       "<IPython.core.display.Javascript object>"
      ]
     },
     "metadata": {},
     "output_type": "display_data"
    },
    {
     "data": {
      "text/markdown": [
       "<span style=\"color:#33cc33\">Correct:</span> \n",
       "\n",
       "\n",
       "\n",
       "```python\n",
       "def menu_is_boring(meals):\n",
       "    # Iterate over all indices of the list, except the last one\n",
       "    for i in range(len(meals)-1):\n",
       "        if meals[i] == meals[i+1]:\n",
       "            return True\n",
       "    return False\n",
       "```\n",
       "\n",
       "The key to our solution is the call to `range`. `range(len(meals))` would give us all the indices of `meals`. If we had used that range, the last iteration of the loop would be comparing the last element to the element after it, which is... `IndexError`! `range(len(meals)-1)` gives us all the indices except the index of the last element.\n",
       "\n",
       "But don't we need to check if `meals` is empty? Turns out that `range(0) == range(-1)` - they're both empty. So if `meals` has length 0 or 1, we just won't do any iterations of our for loop.\n"
      ],
      "text/plain": [
       "Correct: \n",
       "\n",
       "\n",
       "\n",
       "```python\n",
       "def menu_is_boring(meals):\n",
       "    # Iterate over all indices of the list, except the last one\n",
       "    for i in range(len(meals)-1):\n",
       "        if meals[i] == meals[i+1]:\n",
       "            return True\n",
       "    return False\n",
       "```\n",
       "\n",
       "The key to our solution is the call to `range`. `range(len(meals))` would give us all the indices of `meals`. If we had used that range, the last iteration of the loop would be comparing the last element to the element after it, which is... `IndexError`! `range(len(meals)-1)` gives us all the indices except the index of the last element.\n",
       "\n",
       "But don't we need to check if `meals` is empty? Turns out that `range(0) == range(-1)` - they're both empty. So if `meals` has length 0 or 1, we just won't do any iterations of our for loop."
      ]
     },
     "metadata": {},
     "output_type": "display_data"
    }
   ],
   "source": [
    "def menu_is_boring(meals):\n",
    "    \"\"\"Given a list of meals served over some period of time, return True if the\n",
    "    same meal has ever been served two days in a row, and False otherwise.\n",
    "    \"\"\"\n",
    "    for meal in range(len(meals)-1):\n",
    "        if meals[meal+1] == meals[meal]:\n",
    "            return True\n",
    "    return False\n",
    "\n",
    "# Check your answer\n",
    "q3.check()"
   ]
  },
  {
   "cell_type": "code",
   "execution_count": 8,
   "id": "0e594b44",
   "metadata": {
    "execution": {
     "iopub.execute_input": "2023-01-24T23:55:06.168531Z",
     "iopub.status.busy": "2023-01-24T23:55:06.168185Z",
     "iopub.status.idle": "2023-01-24T23:55:06.171643Z",
     "shell.execute_reply": "2023-01-24T23:55:06.170872Z"
    },
    "papermill": {
     "duration": 0.012932,
     "end_time": "2023-01-24T23:55:06.173681",
     "exception": false,
     "start_time": "2023-01-24T23:55:06.160749",
     "status": "completed"
    },
    "tags": []
   },
   "outputs": [],
   "source": [
    "#q3.hint()\n",
    "#q3.solution()"
   ]
  },
  {
   "cell_type": "markdown",
   "id": "04f0f4c9",
   "metadata": {
    "papermill": {
     "duration": 0.00602,
     "end_time": "2023-01-24T23:55:06.186114",
     "exception": false,
     "start_time": "2023-01-24T23:55:06.180094",
     "status": "completed"
    },
    "tags": []
   },
   "source": [
    "# 4. <span title=\"A bit spicy\" style=\"color: darkgreen \">🌶️</span>\n",
    "\n",
    "Next to the Blackjack table, the Python Challenge Casino has a slot machine. You can get a result from the slot machine by calling `play_slot_machine()`. The number it returns is your winnings in dollars. Usually it returns 0.  But sometimes you'll get lucky and get a big payday. Try running it below:"
   ]
  },
  {
   "cell_type": "code",
   "execution_count": 9,
   "id": "738f40bc",
   "metadata": {
    "execution": {
     "iopub.execute_input": "2023-01-24T23:55:06.200510Z",
     "iopub.status.busy": "2023-01-24T23:55:06.199697Z",
     "iopub.status.idle": "2023-01-24T23:55:06.206153Z",
     "shell.execute_reply": "2023-01-24T23:55:06.205291Z"
    },
    "papermill": {
     "duration": 0.016077,
     "end_time": "2023-01-24T23:55:06.208281",
     "exception": false,
     "start_time": "2023-01-24T23:55:06.192204",
     "status": "completed"
    },
    "tags": []
   },
   "outputs": [
    {
     "data": {
      "text/plain": [
       "1.5"
      ]
     },
     "execution_count": 9,
     "metadata": {},
     "output_type": "execute_result"
    }
   ],
   "source": [
    "play_slot_machine()"
   ]
  },
  {
   "cell_type": "markdown",
   "id": "8f5f92e3",
   "metadata": {
    "papermill": {
     "duration": 0.006095,
     "end_time": "2023-01-24T23:55:06.220561",
     "exception": false,
     "start_time": "2023-01-24T23:55:06.214466",
     "status": "completed"
    },
    "tags": []
   },
   "source": [
    "By the way, did we mention that each play costs $1? Don't worry, we'll send you the bill later.\n",
    "\n",
    "On average, how much money can you expect to gain (or lose) every time you play the machine?  The casino keeps it a secret, but you can estimate the average value of each pull using a technique called the **Monte Carlo method**. To estimate the average outcome, we simulate the scenario many times, and return the average result.\n",
    "\n",
    "Complete the following function to calculate the average value per play of the slot machine."
   ]
  },
  {
   "cell_type": "code",
   "execution_count": 10,
   "id": "0fef6727",
   "metadata": {
    "execution": {
     "iopub.execute_input": "2023-01-24T23:55:06.234531Z",
     "iopub.status.busy": "2023-01-24T23:55:06.234111Z",
     "iopub.status.idle": "2023-01-24T23:55:06.245829Z",
     "shell.execute_reply": "2023-01-24T23:55:06.245065Z"
    },
    "papermill": {
     "duration": 0.021239,
     "end_time": "2023-01-24T23:55:06.247946",
     "exception": false,
     "start_time": "2023-01-24T23:55:06.226707",
     "status": "completed"
    },
    "tags": []
   },
   "outputs": [
    {
     "data": {
      "text/plain": [
       "0.03855"
      ]
     },
     "execution_count": 10,
     "metadata": {},
     "output_type": "execute_result"
    }
   ],
   "source": [
    "def estimate_average_slot_payout(n_runs):\n",
    "    \"\"\"Run the slot machine n_runs times and return the average net profit per run.\n",
    "    Example calls (note that return value is nondeterministic!):\n",
    "    >>> estimate_average_slot_payout(1)\n",
    "    -1\n",
    "    >>> estimate_average_slot_payout(1)\n",
    "    0.5\n",
    "    \"\"\"\n",
    "    winnings = [play_slot_machine()-1 for i in range(n_runs)]\n",
    "    avg = sum(winnings) / n_runs\n",
    "    return avg\n",
    "\n",
    "estimate_average_slot_payout(10000)\n",
    "    "
   ]
  },
  {
   "cell_type": "markdown",
   "id": "26ab98c0",
   "metadata": {
    "papermill": {
     "duration": 0.006203,
     "end_time": "2023-01-24T23:55:06.260742",
     "exception": false,
     "start_time": "2023-01-24T23:55:06.254539",
     "status": "completed"
    },
    "tags": []
   },
   "source": [
    "When you think you know the expected value per spin, run the code cell below to view the solution and get credit for answering the question."
   ]
  },
  {
   "cell_type": "code",
   "execution_count": 11,
   "id": "3e85ba5f",
   "metadata": {
    "execution": {
     "iopub.execute_input": "2023-01-24T23:55:06.275594Z",
     "iopub.status.busy": "2023-01-24T23:55:06.275188Z",
     "iopub.status.idle": "2023-01-24T23:55:06.284363Z",
     "shell.execute_reply": "2023-01-24T23:55:06.283274Z"
    },
    "papermill": {
     "duration": 0.019531,
     "end_time": "2023-01-24T23:55:06.286843",
     "exception": false,
     "start_time": "2023-01-24T23:55:06.267312",
     "status": "completed"
    },
    "tags": []
   },
   "outputs": [
    {
     "data": {
      "application/javascript": [
       "parent.postMessage({\"jupyterEvent\": \"custom.exercise_interaction\", \"data\": {\"interactionType\": 3, \"questionType\": 4, \"questionId\": \"4_ExpectedSlotsPayout\", \"learnToolsVersion\": \"0.3.4\", \"valueTowardsCompletion\": 0.0, \"failureMessage\": \"\", \"exceptionClass\": \"\", \"trace\": \"\", \"outcomeType\": 4}}, \"*\")"
      ],
      "text/plain": [
       "<IPython.core.display.Javascript object>"
      ]
     },
     "metadata": {},
     "output_type": "display_data"
    },
    {
     "data": {
      "text/markdown": [
       "<span style=\"color:#33cc99\">Solution:</span> \n",
       "    \n",
       "The exact expected value of one pull of the slot machine is 0.025 - i.e. a little more than 2 cents.  See?  Not every game in the Python Challenge Casino is rigged against the player!\n",
       "\n",
       "In order to get this answer, you'll need to implement the `estimate_average_slot_payout(n_runs)` function to simulate pulling the slot machine `n_runs` times.  It should return the payout averaged over those `n_runs`.\n",
       "\n",
       "Then, once the function is defined, in order to estimate the average slot payout, we need only call the function.\n",
       "\n",
       "Because of the high variance of the outcome (there are some very rare high payout results that significantly affect the average) you might need to run your function with a very high value of `n_runs` to get a stable answer close to the true expectation.  For instance, you might use a value for `n_runs` of 1000000.\n",
       "\n",
       "Here's an example for how the function could look:\n",
       "```python\n",
       "def estimate_average_slot_payout(n_runs):\n",
       "    # Play slot machine n_runs times, calculate payout of each\n",
       "    payouts = [play_slot_machine()-1 for i in range(n_runs)]\n",
       "    # Calculate the average value\n",
       "    avg_payout = sum(payouts) / n_runs\n",
       "    return avg_payout\n",
       "    \n",
       "estimate_average_slot_payout(10000000)\n",
       "\n",
       "```\n",
       "\n",
       "This should return an answer close to 0.025!\n",
       "            \n"
      ],
      "text/plain": [
       "Solution: \n",
       "    \n",
       "The exact expected value of one pull of the slot machine is 0.025 - i.e. a little more than 2 cents.  See?  Not every game in the Python Challenge Casino is rigged against the player!\n",
       "\n",
       "In order to get this answer, you'll need to implement the `estimate_average_slot_payout(n_runs)` function to simulate pulling the slot machine `n_runs` times.  It should return the payout averaged over those `n_runs`.\n",
       "\n",
       "Then, once the function is defined, in order to estimate the average slot payout, we need only call the function.\n",
       "\n",
       "Because of the high variance of the outcome (there are some very rare high payout results that significantly affect the average) you might need to run your function with a very high value of `n_runs` to get a stable answer close to the true expectation.  For instance, you might use a value for `n_runs` of 1000000.\n",
       "\n",
       "Here's an example for how the function could look:\n",
       "```python\n",
       "def estimate_average_slot_payout(n_runs):\n",
       "    # Play slot machine n_runs times, calculate payout of each\n",
       "    payouts = [play_slot_machine()-1 for i in range(n_runs)]\n",
       "    # Calculate the average value\n",
       "    avg_payout = sum(payouts) / n_runs\n",
       "    return avg_payout\n",
       "    \n",
       "estimate_average_slot_payout(10000000)\n",
       "\n",
       "```\n",
       "\n",
       "This should return an answer close to 0.025!\n",
       "            "
      ]
     },
     "metadata": {},
     "output_type": "display_data"
    }
   ],
   "source": [
    "# Check your answer (Run this code cell to receive credit!)\n",
    "q4.solution()"
   ]
  },
  {
   "cell_type": "markdown",
   "id": "76d1cf99",
   "metadata": {
    "papermill": {
     "duration": 0.006534,
     "end_time": "2023-01-24T23:55:06.300119",
     "exception": false,
     "start_time": "2023-01-24T23:55:06.293585",
     "status": "completed"
    },
    "tags": []
   },
   "source": [
    "# Keep Going\n",
    "\n",
    "Many programmers report that dictionaries are their favorite data structure. You'll get to **[learn about them](https://www.kaggle.com/colinmorris/strings-and-dictionaries)** (as well as strings) in the next lesson."
   ]
  },
  {
   "cell_type": "markdown",
   "id": "208dbb42",
   "metadata": {
    "papermill": {
     "duration": 0.006441,
     "end_time": "2023-01-24T23:55:06.313376",
     "exception": false,
     "start_time": "2023-01-24T23:55:06.306935",
     "status": "completed"
    },
    "tags": []
   },
   "source": [
    "---\n",
    "\n",
    "\n",
    "\n",
    "\n",
    "*Have questions or comments? Visit the [course discussion forum](https://www.kaggle.com/learn/python/discussion) to chat with other learners.*"
   ]
  }
 ],
 "metadata": {
  "kernelspec": {
   "display_name": "Python 3",
   "language": "python",
   "name": "python3"
  },
  "language_info": {
   "codemirror_mode": {
    "name": "ipython",
    "version": 3
   },
   "file_extension": ".py",
   "mimetype": "text/x-python",
   "name": "python",
   "nbconvert_exporter": "python",
   "pygments_lexer": "ipython3",
   "version": "3.7.12"
  },
  "papermill": {
   "default_parameters": {},
   "duration": 9.45299,
   "end_time": "2023-01-24T23:55:06.946142",
   "environment_variables": {},
   "exception": null,
   "input_path": "__notebook__.ipynb",
   "output_path": "__notebook__.ipynb",
   "parameters": {},
   "start_time": "2023-01-24T23:54:57.493152",
   "version": "2.3.4"
  }
 },
 "nbformat": 4,
 "nbformat_minor": 5
}

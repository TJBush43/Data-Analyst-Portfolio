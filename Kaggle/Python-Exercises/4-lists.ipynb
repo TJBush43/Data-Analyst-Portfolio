{
 "cells": [
  {
   "cell_type": "markdown",
   "id": "20a092e0",
   "metadata": {
    "papermill": {
     "duration": 0.005992,
     "end_time": "2023-01-24T23:05:16.853705",
     "exception": false,
     "start_time": "2023-01-24T23:05:16.847713",
     "status": "completed"
    },
    "tags": []
   },
   "source": [
    "**This notebook is an exercise in the [Python](https://www.kaggle.com/learn/python) course.  You can reference the tutorial at [this link](https://www.kaggle.com/colinmorris/lists).**\n",
    "\n",
    "---\n"
   ]
  },
  {
   "cell_type": "markdown",
   "id": "e9dff344",
   "metadata": {
    "papermill": {
     "duration": 0.004597,
     "end_time": "2023-01-24T23:05:16.863541",
     "exception": false,
     "start_time": "2023-01-24T23:05:16.858944",
     "status": "completed"
    },
    "tags": []
   },
   "source": [
    "Things get more interesting with lists. You'll apply your new knowledge to solve the questions below. Remember to run the following cell first."
   ]
  },
  {
   "cell_type": "code",
   "execution_count": 1,
   "id": "f6359413",
   "metadata": {
    "execution": {
     "iopub.execute_input": "2023-01-24T23:05:16.876178Z",
     "iopub.status.busy": "2023-01-24T23:05:16.875122Z",
     "iopub.status.idle": "2023-01-24T23:05:16.928830Z",
     "shell.execute_reply": "2023-01-24T23:05:16.927941Z"
    },
    "papermill": {
     "duration": 0.064319,
     "end_time": "2023-01-24T23:05:16.932713",
     "exception": false,
     "start_time": "2023-01-24T23:05:16.868394",
     "status": "completed"
    },
    "tags": []
   },
   "outputs": [
    {
     "name": "stdout",
     "output_type": "stream",
     "text": [
      "Setup complete.\n"
     ]
    }
   ],
   "source": [
    "from learntools.core import binder; binder.bind(globals())\n",
    "from learntools.python.ex4 import *\n",
    "print('Setup complete.')"
   ]
  },
  {
   "cell_type": "markdown",
   "id": "9b888d11",
   "metadata": {
    "papermill": {
     "duration": 0.004801,
     "end_time": "2023-01-24T23:05:16.943332",
     "exception": false,
     "start_time": "2023-01-24T23:05:16.938531",
     "status": "completed"
    },
    "tags": []
   },
   "source": [
    "# 1.\n",
    "\n",
    "Complete the function below according to its docstring."
   ]
  },
  {
   "cell_type": "code",
   "execution_count": 2,
   "id": "bdd69f73",
   "metadata": {
    "execution": {
     "iopub.execute_input": "2023-01-24T23:05:16.955369Z",
     "iopub.status.busy": "2023-01-24T23:05:16.954690Z",
     "iopub.status.idle": "2023-01-24T23:05:16.965740Z",
     "shell.execute_reply": "2023-01-24T23:05:16.964671Z"
    },
    "papermill": {
     "duration": 0.019686,
     "end_time": "2023-01-24T23:05:16.968016",
     "exception": false,
     "start_time": "2023-01-24T23:05:16.948330",
     "status": "completed"
    },
    "tags": []
   },
   "outputs": [
    {
     "data": {
      "application/javascript": [
       "parent.postMessage({\"jupyterEvent\": \"custom.exercise_interaction\", \"data\": {\"outcomeType\": 1, \"valueTowardsCompletion\": 0.2, \"interactionType\": 1, \"questionType\": 2, \"questionId\": \"1_SelectSecondItem\", \"learnToolsVersion\": \"0.3.4\", \"failureMessage\": \"\", \"exceptionClass\": \"\", \"trace\": \"\"}}, \"*\")"
      ],
      "text/plain": [
       "<IPython.core.display.Javascript object>"
      ]
     },
     "metadata": {},
     "output_type": "display_data"
    },
    {
     "data": {
      "text/markdown": [
       "<span style=\"color:#33cc33\">Correct</span>"
      ],
      "text/plain": [
       "Correct"
      ]
     },
     "metadata": {},
     "output_type": "display_data"
    }
   ],
   "source": [
    "def select_second(L):\n",
    "    \"\"\"Return the second element of the given list. If the list has no second\n",
    "    element, return None.\n",
    "    \"\"\"\n",
    "    if len(L) < 2:\n",
    "        return None\n",
    "    return L[1]\n",
    "\n",
    "# Check your answer\n",
    "q1.check()"
   ]
  },
  {
   "cell_type": "code",
   "execution_count": 3,
   "id": "1d5bbe73",
   "metadata": {
    "execution": {
     "iopub.execute_input": "2023-01-24T23:05:16.980618Z",
     "iopub.status.busy": "2023-01-24T23:05:16.979898Z",
     "iopub.status.idle": "2023-01-24T23:05:16.983641Z",
     "shell.execute_reply": "2023-01-24T23:05:16.982845Z"
    },
    "papermill": {
     "duration": 0.012635,
     "end_time": "2023-01-24T23:05:16.985858",
     "exception": false,
     "start_time": "2023-01-24T23:05:16.973223",
     "status": "completed"
    },
    "tags": []
   },
   "outputs": [],
   "source": [
    "#q1.hint()\n",
    "#q1.solution()"
   ]
  },
  {
   "cell_type": "markdown",
   "id": "2c2e1226",
   "metadata": {
    "papermill": {
     "duration": 0.005198,
     "end_time": "2023-01-24T23:05:16.996392",
     "exception": false,
     "start_time": "2023-01-24T23:05:16.991194",
     "status": "completed"
    },
    "tags": []
   },
   "source": [
    "# 2.\n",
    "\n",
    "You are analyzing sports teams.  Members of each team are stored in a list. The Coach is the first name in the list, the captain is the second name in the list, and other players are listed after that. \n",
    "These lists are stored in another list, which starts with the best team and proceeds through the list to the worst team last.  Complete the function below to select the **captain** of the worst team."
   ]
  },
  {
   "cell_type": "code",
   "execution_count": 4,
   "id": "2b5fbd03",
   "metadata": {
    "execution": {
     "iopub.execute_input": "2023-01-24T23:05:17.009605Z",
     "iopub.status.busy": "2023-01-24T23:05:17.008752Z",
     "iopub.status.idle": "2023-01-24T23:05:17.017383Z",
     "shell.execute_reply": "2023-01-24T23:05:17.016617Z"
    },
    "papermill": {
     "duration": 0.017671,
     "end_time": "2023-01-24T23:05:17.019485",
     "exception": false,
     "start_time": "2023-01-24T23:05:17.001814",
     "status": "completed"
    },
    "tags": []
   },
   "outputs": [
    {
     "data": {
      "application/javascript": [
       "parent.postMessage({\"jupyterEvent\": \"custom.exercise_interaction\", \"data\": {\"outcomeType\": 1, \"valueTowardsCompletion\": 0.2, \"interactionType\": 1, \"questionType\": 2, \"questionId\": \"2_LosingTeamCaptain\", \"learnToolsVersion\": \"0.3.4\", \"failureMessage\": \"\", \"exceptionClass\": \"\", \"trace\": \"\"}}, \"*\")"
      ],
      "text/plain": [
       "<IPython.core.display.Javascript object>"
      ]
     },
     "metadata": {},
     "output_type": "display_data"
    },
    {
     "data": {
      "text/markdown": [
       "<span style=\"color:#33cc33\">Correct</span>"
      ],
      "text/plain": [
       "Correct"
      ]
     },
     "metadata": {},
     "output_type": "display_data"
    }
   ],
   "source": [
    "def losing_team_captain(teams):\n",
    "    \"\"\"Given a list of teams, where each team is a list of names, return the 2nd player (captain)\n",
    "    from the last listed team\n",
    "    \"\"\"\n",
    "    return teams[-1][1]\n",
    "\n",
    "# Check your answer\n",
    "q2.check()"
   ]
  },
  {
   "cell_type": "code",
   "execution_count": 5,
   "id": "dcafff12",
   "metadata": {
    "execution": {
     "iopub.execute_input": "2023-01-24T23:05:17.032688Z",
     "iopub.status.busy": "2023-01-24T23:05:17.032197Z",
     "iopub.status.idle": "2023-01-24T23:05:17.036253Z",
     "shell.execute_reply": "2023-01-24T23:05:17.035377Z"
    },
    "papermill": {
     "duration": 0.013307,
     "end_time": "2023-01-24T23:05:17.038391",
     "exception": false,
     "start_time": "2023-01-24T23:05:17.025084",
     "status": "completed"
    },
    "tags": []
   },
   "outputs": [],
   "source": [
    "#q2.hint()\n",
    "#q2.solution()"
   ]
  },
  {
   "cell_type": "markdown",
   "id": "83190986",
   "metadata": {
    "papermill": {
     "duration": 0.005247,
     "end_time": "2023-01-24T23:05:17.049226",
     "exception": false,
     "start_time": "2023-01-24T23:05:17.043979",
     "status": "completed"
    },
    "tags": []
   },
   "source": [
    "# 3.\n",
    "\n",
    "The next iteration of Mario Kart will feature an extra-infuriating new item, the *Purple Shell*. When used, it warps the last place racer into first place and the first place racer into last place. Complete the function below to implement the Purple Shell's effect."
   ]
  },
  {
   "cell_type": "code",
   "execution_count": 6,
   "id": "d7c51e7f",
   "metadata": {
    "execution": {
     "iopub.execute_input": "2023-01-24T23:05:17.062562Z",
     "iopub.status.busy": "2023-01-24T23:05:17.061804Z",
     "iopub.status.idle": "2023-01-24T23:05:17.073625Z",
     "shell.execute_reply": "2023-01-24T23:05:17.072228Z"
    },
    "papermill": {
     "duration": 0.023479,
     "end_time": "2023-01-24T23:05:17.078415",
     "exception": false,
     "start_time": "2023-01-24T23:05:17.054936",
     "status": "completed"
    },
    "tags": []
   },
   "outputs": [
    {
     "data": {
      "application/javascript": [
       "parent.postMessage({\"jupyterEvent\": \"custom.exercise_interaction\", \"data\": {\"outcomeType\": 1, \"valueTowardsCompletion\": 0.2, \"interactionType\": 1, \"questionType\": 2, \"questionId\": \"3_PurpleShell\", \"learnToolsVersion\": \"0.3.4\", \"failureMessage\": \"\", \"exceptionClass\": \"\", \"trace\": \"\"}}, \"*\")"
      ],
      "text/plain": [
       "<IPython.core.display.Javascript object>"
      ]
     },
     "metadata": {},
     "output_type": "display_data"
    },
    {
     "data": {
      "text/markdown": [
       "<span style=\"color:#33cc33\">Correct</span>"
      ],
      "text/plain": [
       "Correct"
      ]
     },
     "metadata": {},
     "output_type": "display_data"
    }
   ],
   "source": [
    "def purple_shell(racers):\n",
    "    \"\"\"Given a list of racers, set the first place racer (at the front of the list) to last\n",
    "    place and vice versa.\n",
    "    \n",
    "    >>> r = [\"Mario\", \"Bowser\", \"Luigi\"]\n",
    "    >>> purple_shell(r)\n",
    "    >>> r\n",
    "    [\"Luigi\", \"Bowser\", \"Mario\"]\n",
    "    \"\"\"\n",
    "    tmp = racers[0]\n",
    "    racers[0] = racers[-1]\n",
    "    racers[-1] = tmp\n",
    "    return\n",
    "    \n",
    "    \n",
    "\n",
    "# Check your answer\n",
    "q3.check()"
   ]
  },
  {
   "cell_type": "code",
   "execution_count": 7,
   "id": "13ffc8d9",
   "metadata": {
    "execution": {
     "iopub.execute_input": "2023-01-24T23:05:17.094089Z",
     "iopub.status.busy": "2023-01-24T23:05:17.093035Z",
     "iopub.status.idle": "2023-01-24T23:05:17.098443Z",
     "shell.execute_reply": "2023-01-24T23:05:17.096998Z"
    },
    "papermill": {
     "duration": 0.015529,
     "end_time": "2023-01-24T23:05:17.101045",
     "exception": false,
     "start_time": "2023-01-24T23:05:17.085516",
     "status": "completed"
    },
    "tags": []
   },
   "outputs": [],
   "source": [
    "#q3.hint()\n",
    "#q3.solution()"
   ]
  },
  {
   "cell_type": "markdown",
   "id": "85ec5628",
   "metadata": {
    "papermill": {
     "duration": 0.00684,
     "end_time": "2023-01-24T23:05:17.116830",
     "exception": false,
     "start_time": "2023-01-24T23:05:17.109990",
     "status": "completed"
    },
    "tags": []
   },
   "source": [
    "# 4.\n",
    "\n",
    "What are the lengths of the following lists? Fill in the variable `lengths` with your predictions. (Try to make a prediction for each list *without* just calling `len()` on it.)"
   ]
  },
  {
   "cell_type": "code",
   "execution_count": 8,
   "id": "047f9768",
   "metadata": {
    "execution": {
     "iopub.execute_input": "2023-01-24T23:05:17.132162Z",
     "iopub.status.busy": "2023-01-24T23:05:17.131313Z",
     "iopub.status.idle": "2023-01-24T23:05:17.142981Z",
     "shell.execute_reply": "2023-01-24T23:05:17.141559Z"
    },
    "papermill": {
     "duration": 0.02298,
     "end_time": "2023-01-24T23:05:17.145496",
     "exception": false,
     "start_time": "2023-01-24T23:05:17.122516",
     "status": "completed"
    },
    "tags": []
   },
   "outputs": [
    {
     "data": {
      "application/javascript": [
       "parent.postMessage({\"jupyterEvent\": \"custom.exercise_interaction\", \"data\": {\"outcomeType\": 1, \"valueTowardsCompletion\": 0.2, \"interactionType\": 1, \"questionType\": 1, \"questionId\": \"4_UnderstandLen\", \"learnToolsVersion\": \"0.3.4\", \"failureMessage\": \"\", \"exceptionClass\": \"\", \"trace\": \"\"}}, \"*\")"
      ],
      "text/plain": [
       "<IPython.core.display.Javascript object>"
      ]
     },
     "metadata": {},
     "output_type": "display_data"
    },
    {
     "data": {
      "text/markdown": [
       "<span style=\"color:#33cc33\">Correct:</span> \n",
       "\n",
       "\n",
       "- a: There are three items in this list. Nothing tricky yet.\n",
       "- b: The list `[2, 3]` counts as a single item. It has one item before it. So we have 2 items in the list\n",
       "- c: The empty list has 0 items\n",
       "- d: The expression is the same as the list `[2, 3]`, which has length 2."
      ],
      "text/plain": [
       "Correct: \n",
       "\n",
       "\n",
       "- a: There are three items in this list. Nothing tricky yet.\n",
       "- b: The list `[2, 3]` counts as a single item. It has one item before it. So we have 2 items in the list\n",
       "- c: The empty list has 0 items\n",
       "- d: The expression is the same as the list `[2, 3]`, which has length 2."
      ]
     },
     "metadata": {},
     "output_type": "display_data"
    }
   ],
   "source": [
    "a = [1, 2, 3]\n",
    "b = [1, [2, 3]]\n",
    "c = []\n",
    "d = [1, 2, 3][1:]\n",
    "\n",
    "# Put your predictions in the list below. Lengths should contain 4 numbers, the\n",
    "# first being the length of a, the second being the length of b and so on.\n",
    "lengths = [3, 2, 0, 2]\n",
    "\n",
    "# Check your answer\n",
    "q4.check()"
   ]
  },
  {
   "cell_type": "code",
   "execution_count": 9,
   "id": "7591cf43",
   "metadata": {
    "execution": {
     "iopub.execute_input": "2023-01-24T23:05:17.159118Z",
     "iopub.status.busy": "2023-01-24T23:05:17.158726Z",
     "iopub.status.idle": "2023-01-24T23:05:17.163426Z",
     "shell.execute_reply": "2023-01-24T23:05:17.162259Z"
    },
    "papermill": {
     "duration": 0.014299,
     "end_time": "2023-01-24T23:05:17.165919",
     "exception": false,
     "start_time": "2023-01-24T23:05:17.151620",
     "status": "completed"
    },
    "tags": []
   },
   "outputs": [],
   "source": [
    "# line below provides some explanation\n",
    "#q4.solution()"
   ]
  },
  {
   "cell_type": "markdown",
   "id": "432ca44f",
   "metadata": {
    "papermill": {
     "duration": 0.006007,
     "end_time": "2023-01-24T23:05:17.178228",
     "exception": false,
     "start_time": "2023-01-24T23:05:17.172221",
     "status": "completed"
    },
    "tags": []
   },
   "source": [
    "# 5. <span title=\"A bit spicy\" style=\"color: darkgreen \">🌶️</span>\n",
    "\n",
    "We're using lists to record people who attended our party and what order they arrived in. For example, the following list represents a party with 7 guests, in which Adela showed up first and Ford was the last to arrive:\n",
    "\n",
    "    party_attendees = ['Adela', 'Fleda', 'Owen', 'May', 'Mona', 'Gilbert', 'Ford']\n",
    "\n",
    "A guest is considered 'fashionably late' if they arrived after at least half of the party's guests. However, they must not be the very last guest (that's taking it too far). In the above example, Mona and Gilbert are the only guests who were fashionably late.\n",
    "\n",
    "Complete the function below which takes a list of party attendees as well as a person, and tells us whether that person is fashionably late."
   ]
  },
  {
   "cell_type": "code",
   "execution_count": 10,
   "id": "d4ad720e",
   "metadata": {
    "execution": {
     "iopub.execute_input": "2023-01-24T23:05:17.191961Z",
     "iopub.status.busy": "2023-01-24T23:05:17.191474Z",
     "iopub.status.idle": "2023-01-24T23:05:17.202439Z",
     "shell.execute_reply": "2023-01-24T23:05:17.201561Z"
    },
    "papermill": {
     "duration": 0.020728,
     "end_time": "2023-01-24T23:05:17.204906",
     "exception": false,
     "start_time": "2023-01-24T23:05:17.184178",
     "status": "completed"
    },
    "tags": []
   },
   "outputs": [
    {
     "data": {
      "application/javascript": [
       "parent.postMessage({\"jupyterEvent\": \"custom.exercise_interaction\", \"data\": {\"outcomeType\": 1, \"valueTowardsCompletion\": 0.2, \"interactionType\": 1, \"questionType\": 2, \"questionId\": \"5_FashionablyLate\", \"learnToolsVersion\": \"0.3.4\", \"failureMessage\": \"\", \"exceptionClass\": \"\", \"trace\": \"\"}}, \"*\")"
      ],
      "text/plain": [
       "<IPython.core.display.Javascript object>"
      ]
     },
     "metadata": {},
     "output_type": "display_data"
    },
    {
     "data": {
      "text/markdown": [
       "<span style=\"color:#33cc33\">Correct</span>"
      ],
      "text/plain": [
       "Correct"
      ]
     },
     "metadata": {},
     "output_type": "display_data"
    }
   ],
   "source": [
    "def fashionably_late(arrivals, name):\n",
    "    \"\"\"Given an ordered list of arrivals to the party and a name, return whether the guest with that\n",
    "    name was fashionably late.\n",
    "    \"\"\"\n",
    "    arrivalIndex = arrivals.index(name)\n",
    "    length = len(arrivals)\n",
    "    fashionable = length / 2\n",
    "    if (arrivalIndex >= fashionable and name != arrivals[-1]):\n",
    "        return True \n",
    "    if (arrivalIndex < fashionable):\n",
    "        return False\n",
    "    if (name == arrivals[-1]):\n",
    "        return False \n",
    "\n",
    "# Check your answer\n",
    "q5.check()"
   ]
  },
  {
   "cell_type": "code",
   "execution_count": 11,
   "id": "afe23793",
   "metadata": {
    "collapsed": true,
    "execution": {
     "iopub.execute_input": "2023-01-24T23:05:17.220352Z",
     "iopub.status.busy": "2023-01-24T23:05:17.219674Z",
     "iopub.status.idle": "2023-01-24T23:05:17.223418Z",
     "shell.execute_reply": "2023-01-24T23:05:17.222668Z"
    },
    "jupyter": {
     "outputs_hidden": true
    },
    "papermill": {
     "duration": 0.013461,
     "end_time": "2023-01-24T23:05:17.225514",
     "exception": false,
     "start_time": "2023-01-24T23:05:17.212053",
     "status": "completed"
    },
    "tags": []
   },
   "outputs": [],
   "source": [
    "#q5.hint()\n",
    "#q5.solution()"
   ]
  },
  {
   "cell_type": "markdown",
   "id": "e2bcb078",
   "metadata": {
    "papermill": {
     "duration": 0.005796,
     "end_time": "2023-01-24T23:05:17.237510",
     "exception": false,
     "start_time": "2023-01-24T23:05:17.231714",
     "status": "completed"
    },
    "tags": []
   },
   "source": [
    "# Keep Going\n",
    "\n",
    "That's it for lists and tuples! Now you have the baseline knowledge to **[learn about loops](https://www.kaggle.com/colinmorris/loops-and-list-comprehensions)**, which is where lists and tuples get really interesting. "
   ]
  },
  {
   "cell_type": "markdown",
   "id": "87049efa",
   "metadata": {
    "papermill": {
     "duration": 0.00585,
     "end_time": "2023-01-24T23:05:17.249473",
     "exception": false,
     "start_time": "2023-01-24T23:05:17.243623",
     "status": "completed"
    },
    "tags": []
   },
   "source": [
    "---\n",
    "\n",
    "\n",
    "\n",
    "\n",
    "*Have questions or comments? Visit the [course discussion forum](https://www.kaggle.com/learn/python/discussion) to chat with other learners.*"
   ]
  }
 ],
 "metadata": {
  "kernelspec": {
   "display_name": "Python 3",
   "language": "python",
   "name": "python3"
  },
  "language_info": {
   "codemirror_mode": {
    "name": "ipython",
    "version": 3
   },
   "file_extension": ".py",
   "mimetype": "text/x-python",
   "name": "python",
   "nbconvert_exporter": "python",
   "pygments_lexer": "ipython3",
   "version": "3.7.12"
  },
  "papermill": {
   "default_parameters": {},
   "duration": 9.873522,
   "end_time": "2023-01-24T23:05:17.877066",
   "environment_variables": {},
   "exception": null,
   "input_path": "__notebook__.ipynb",
   "output_path": "__notebook__.ipynb",
   "parameters": {},
   "start_time": "2023-01-24T23:05:08.003544",
   "version": "2.3.4"
  }
 },
 "nbformat": 4,
 "nbformat_minor": 5
}

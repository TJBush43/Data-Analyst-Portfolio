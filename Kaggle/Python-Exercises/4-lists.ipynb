{
 "cells": [
  {
   "cell_type": "markdown",
   "id": "c5619113",
   "metadata": {
    "papermill": {
     "duration": 0.006127,
     "end_time": "2023-01-24T22:48:25.109955",
     "exception": false,
     "start_time": "2023-01-24T22:48:25.103828",
     "status": "completed"
    },
    "tags": []
   },
   "source": [
    "**This notebook is an exercise in the [Python](https://www.kaggle.com/learn/python) course.  You can reference the tutorial at [this link](https://www.kaggle.com/colinmorris/lists).**\n",
    "\n",
    "---\n"
   ]
  },
  {
   "cell_type": "markdown",
   "id": "23940862",
   "metadata": {
    "papermill": {
     "duration": 0.00469,
     "end_time": "2023-01-24T22:48:25.119796",
     "exception": false,
     "start_time": "2023-01-24T22:48:25.115106",
     "status": "completed"
    },
    "tags": []
   },
   "source": [
    "Things get more interesting with lists. You'll apply your new knowledge to solve the questions below. Remember to run the following cell first."
   ]
  },
  {
   "cell_type": "code",
   "execution_count": 1,
   "id": "457e76ad",
   "metadata": {
    "execution": {
     "iopub.execute_input": "2023-01-24T22:48:25.132822Z",
     "iopub.status.busy": "2023-01-24T22:48:25.132025Z",
     "iopub.status.idle": "2023-01-24T22:48:25.193486Z",
     "shell.execute_reply": "2023-01-24T22:48:25.191957Z"
    },
    "papermill": {
     "duration": 0.072254,
     "end_time": "2023-01-24T22:48:25.197388",
     "exception": false,
     "start_time": "2023-01-24T22:48:25.125134",
     "status": "completed"
    },
    "tags": []
   },
   "outputs": [
    {
     "name": "stdout",
     "output_type": "stream",
     "text": [
      "Setup complete.\n"
     ]
    }
   ],
   "source": [
    "from learntools.core import binder; binder.bind(globals())\n",
    "from learntools.python.ex4 import *\n",
    "print('Setup complete.')"
   ]
  },
  {
   "cell_type": "markdown",
   "id": "ee6b8b00",
   "metadata": {
    "papermill": {
     "duration": 0.00517,
     "end_time": "2023-01-24T22:48:25.207853",
     "exception": false,
     "start_time": "2023-01-24T22:48:25.202683",
     "status": "completed"
    },
    "tags": []
   },
   "source": [
    "# 1.\n",
    "\n",
    "Complete the function below according to its docstring."
   ]
  },
  {
   "cell_type": "code",
   "execution_count": 2,
   "id": "3245ccb4",
   "metadata": {
    "execution": {
     "iopub.execute_input": "2023-01-24T22:48:25.220518Z",
     "iopub.status.busy": "2023-01-24T22:48:25.219633Z",
     "iopub.status.idle": "2023-01-24T22:48:25.232356Z",
     "shell.execute_reply": "2023-01-24T22:48:25.231325Z"
    },
    "papermill": {
     "duration": 0.021359,
     "end_time": "2023-01-24T22:48:25.234434",
     "exception": false,
     "start_time": "2023-01-24T22:48:25.213075",
     "status": "completed"
    },
    "tags": []
   },
   "outputs": [
    {
     "data": {
      "application/javascript": [
       "parent.postMessage({\"jupyterEvent\": \"custom.exercise_interaction\", \"data\": {\"outcomeType\": 1, \"valueTowardsCompletion\": 0.2, \"interactionType\": 1, \"questionType\": 2, \"questionId\": \"1_SelectSecondItem\", \"learnToolsVersion\": \"0.3.4\", \"failureMessage\": \"\", \"exceptionClass\": \"\", \"trace\": \"\"}}, \"*\")"
      ],
      "text/plain": [
       "<IPython.core.display.Javascript object>"
      ]
     },
     "metadata": {},
     "output_type": "display_data"
    },
    {
     "data": {
      "text/markdown": [
       "<span style=\"color:#33cc33\">Correct</span>"
      ],
      "text/plain": [
       "Correct"
      ]
     },
     "metadata": {},
     "output_type": "display_data"
    }
   ],
   "source": [
    "def select_second(L):\n",
    "    \"\"\"Return the second element of the given list. If the list has no second\n",
    "    element, return None.\n",
    "    \"\"\"\n",
    "    if len(L) < 2:\n",
    "        return None\n",
    "    return L[1]\n",
    "\n",
    "# Check your answer\n",
    "q1.check()"
   ]
  },
  {
   "cell_type": "code",
   "execution_count": 3,
   "id": "10b8a572",
   "metadata": {
    "execution": {
     "iopub.execute_input": "2023-01-24T22:48:25.247443Z",
     "iopub.status.busy": "2023-01-24T22:48:25.246347Z",
     "iopub.status.idle": "2023-01-24T22:48:25.251430Z",
     "shell.execute_reply": "2023-01-24T22:48:25.250282Z"
    },
    "papermill": {
     "duration": 0.014033,
     "end_time": "2023-01-24T22:48:25.253841",
     "exception": false,
     "start_time": "2023-01-24T22:48:25.239808",
     "status": "completed"
    },
    "tags": []
   },
   "outputs": [],
   "source": [
    "#q1.hint()\n",
    "#q1.solution()"
   ]
  },
  {
   "cell_type": "markdown",
   "id": "9dae8938",
   "metadata": {
    "papermill": {
     "duration": 0.005032,
     "end_time": "2023-01-24T22:48:25.264297",
     "exception": false,
     "start_time": "2023-01-24T22:48:25.259265",
     "status": "completed"
    },
    "tags": []
   },
   "source": [
    "# 2.\n",
    "\n",
    "You are analyzing sports teams.  Members of each team are stored in a list. The Coach is the first name in the list, the captain is the second name in the list, and other players are listed after that. \n",
    "These lists are stored in another list, which starts with the best team and proceeds through the list to the worst team last.  Complete the function below to select the **captain** of the worst team."
   ]
  },
  {
   "cell_type": "code",
   "execution_count": 4,
   "id": "c8798051",
   "metadata": {
    "execution": {
     "iopub.execute_input": "2023-01-24T22:48:25.277640Z",
     "iopub.status.busy": "2023-01-24T22:48:25.276327Z",
     "iopub.status.idle": "2023-01-24T22:48:25.287250Z",
     "shell.execute_reply": "2023-01-24T22:48:25.286044Z"
    },
    "papermill": {
     "duration": 0.02011,
     "end_time": "2023-01-24T22:48:25.289650",
     "exception": false,
     "start_time": "2023-01-24T22:48:25.269540",
     "status": "completed"
    },
    "tags": []
   },
   "outputs": [
    {
     "data": {
      "application/javascript": [
       "parent.postMessage({\"jupyterEvent\": \"custom.exercise_interaction\", \"data\": {\"outcomeType\": 1, \"valueTowardsCompletion\": 0.2, \"interactionType\": 1, \"questionType\": 2, \"questionId\": \"2_LosingTeamCaptain\", \"learnToolsVersion\": \"0.3.4\", \"failureMessage\": \"\", \"exceptionClass\": \"\", \"trace\": \"\"}}, \"*\")"
      ],
      "text/plain": [
       "<IPython.core.display.Javascript object>"
      ]
     },
     "metadata": {},
     "output_type": "display_data"
    },
    {
     "data": {
      "text/markdown": [
       "<span style=\"color:#33cc33\">Correct</span>"
      ],
      "text/plain": [
       "Correct"
      ]
     },
     "metadata": {},
     "output_type": "display_data"
    }
   ],
   "source": [
    "def losing_team_captain(teams):\n",
    "    \"\"\"Given a list of teams, where each team is a list of names, return the 2nd player (captain)\n",
    "    from the last listed team\n",
    "    \"\"\"\n",
    "    return teams[-1][1]\n",
    "\n",
    "# Check your answer\n",
    "q2.check()"
   ]
  },
  {
   "cell_type": "code",
   "execution_count": 5,
   "id": "bf767812",
   "metadata": {
    "execution": {
     "iopub.execute_input": "2023-01-24T22:48:25.303493Z",
     "iopub.status.busy": "2023-01-24T22:48:25.302574Z",
     "iopub.status.idle": "2023-01-24T22:48:25.307916Z",
     "shell.execute_reply": "2023-01-24T22:48:25.306798Z"
    },
    "papermill": {
     "duration": 0.015127,
     "end_time": "2023-01-24T22:48:25.310411",
     "exception": false,
     "start_time": "2023-01-24T22:48:25.295284",
     "status": "completed"
    },
    "tags": []
   },
   "outputs": [],
   "source": [
    "#q2.hint()\n",
    "#q2.solution()"
   ]
  },
  {
   "cell_type": "markdown",
   "id": "fe8bdd3c",
   "metadata": {
    "papermill": {
     "duration": 0.005226,
     "end_time": "2023-01-24T22:48:25.321119",
     "exception": false,
     "start_time": "2023-01-24T22:48:25.315893",
     "status": "completed"
    },
    "tags": []
   },
   "source": [
    "# 3.\n",
    "\n",
    "The next iteration of Mario Kart will feature an extra-infuriating new item, the *Purple Shell*. When used, it warps the last place racer into first place and the first place racer into last place. Complete the function below to implement the Purple Shell's effect."
   ]
  },
  {
   "cell_type": "code",
   "execution_count": 6,
   "id": "74cc8dae",
   "metadata": {
    "execution": {
     "iopub.execute_input": "2023-01-24T22:48:25.334205Z",
     "iopub.status.busy": "2023-01-24T22:48:25.333799Z",
     "iopub.status.idle": "2023-01-24T22:48:25.344132Z",
     "shell.execute_reply": "2023-01-24T22:48:25.343015Z"
    },
    "papermill": {
     "duration": 0.02006,
     "end_time": "2023-01-24T22:48:25.346633",
     "exception": false,
     "start_time": "2023-01-24T22:48:25.326573",
     "status": "completed"
    },
    "tags": []
   },
   "outputs": [
    {
     "data": {
      "application/javascript": [
       "parent.postMessage({\"jupyterEvent\": \"custom.exercise_interaction\", \"data\": {\"outcomeType\": 1, \"valueTowardsCompletion\": 0.2, \"interactionType\": 1, \"questionType\": 2, \"questionId\": \"3_PurpleShell\", \"learnToolsVersion\": \"0.3.4\", \"failureMessage\": \"\", \"exceptionClass\": \"\", \"trace\": \"\"}}, \"*\")"
      ],
      "text/plain": [
       "<IPython.core.display.Javascript object>"
      ]
     },
     "metadata": {},
     "output_type": "display_data"
    },
    {
     "data": {
      "text/markdown": [
       "<span style=\"color:#33cc33\">Correct</span>"
      ],
      "text/plain": [
       "Correct"
      ]
     },
     "metadata": {},
     "output_type": "display_data"
    }
   ],
   "source": [
    "def purple_shell(racers):\n",
    "    \"\"\"Given a list of racers, set the first place racer (at the front of the list) to last\n",
    "    place and vice versa.\n",
    "    \n",
    "    >>> r = [\"Mario\", \"Bowser\", \"Luigi\"]\n",
    "    >>> purple_shell(r)\n",
    "    >>> r\n",
    "    [\"Luigi\", \"Bowser\", \"Mario\"]\n",
    "    \"\"\"\n",
    "    tmp = racers[0]\n",
    "    racers[0] = racers[-1]\n",
    "    racers[-1] = tmp\n",
    "    return\n",
    "    \n",
    "    \n",
    "\n",
    "# Check your answer\n",
    "q3.check()"
   ]
  },
  {
   "cell_type": "code",
   "execution_count": 7,
   "id": "604dd5d1",
   "metadata": {
    "execution": {
     "iopub.execute_input": "2023-01-24T22:48:25.360202Z",
     "iopub.status.busy": "2023-01-24T22:48:25.359760Z",
     "iopub.status.idle": "2023-01-24T22:48:25.364710Z",
     "shell.execute_reply": "2023-01-24T22:48:25.363449Z"
    },
    "papermill": {
     "duration": 0.01478,
     "end_time": "2023-01-24T22:48:25.367185",
     "exception": false,
     "start_time": "2023-01-24T22:48:25.352405",
     "status": "completed"
    },
    "tags": []
   },
   "outputs": [],
   "source": [
    "#q3.hint()\n",
    "#q3.solution()"
   ]
  },
  {
   "cell_type": "markdown",
   "id": "ebfb78ab",
   "metadata": {
    "papermill": {
     "duration": 0.005566,
     "end_time": "2023-01-24T22:48:25.378600",
     "exception": false,
     "start_time": "2023-01-24T22:48:25.373034",
     "status": "completed"
    },
    "tags": []
   },
   "source": [
    "# 4.\n",
    "\n",
    "What are the lengths of the following lists? Fill in the variable `lengths` with your predictions. (Try to make a prediction for each list *without* just calling `len()` on it.)"
   ]
  },
  {
   "cell_type": "code",
   "execution_count": 8,
   "id": "e29e6faf",
   "metadata": {
    "execution": {
     "iopub.execute_input": "2023-01-24T22:48:25.392651Z",
     "iopub.status.busy": "2023-01-24T22:48:25.391587Z",
     "iopub.status.idle": "2023-01-24T22:48:25.401755Z",
     "shell.execute_reply": "2023-01-24T22:48:25.400662Z"
    },
    "papermill": {
     "duration": 0.019665,
     "end_time": "2023-01-24T22:48:25.404054",
     "exception": false,
     "start_time": "2023-01-24T22:48:25.384389",
     "status": "completed"
    },
    "tags": []
   },
   "outputs": [
    {
     "data": {
      "application/javascript": [
       "parent.postMessage({\"jupyterEvent\": \"custom.exercise_interaction\", \"data\": {\"outcomeType\": 4, \"interactionType\": 1, \"questionType\": 1, \"questionId\": \"4_UnderstandLen\", \"learnToolsVersion\": \"0.3.4\", \"valueTowardsCompletion\": 0.0, \"failureMessage\": \"\", \"exceptionClass\": \"\", \"trace\": \"\"}}, \"*\")"
      ],
      "text/plain": [
       "<IPython.core.display.Javascript object>"
      ]
     },
     "metadata": {},
     "output_type": "display_data"
    },
    {
     "data": {
      "text/markdown": [
       "<span style=\"color:#ccaa33\">Check:</span> When you've updated the starter code, `check()` will tell you whether your code is correct. You need to update the code that creates variable `lengths`"
      ],
      "text/plain": [
       "Check: When you've updated the starter code, `check()` will tell you whether your code is correct. You need to update the code that creates variable `lengths`"
      ]
     },
     "metadata": {},
     "output_type": "display_data"
    }
   ],
   "source": [
    "a = [1, 2, 3]\n",
    "b = [1, [2, 3]]\n",
    "c = []\n",
    "d = [1, 2, 3][1:]\n",
    "\n",
    "# Put your predictions in the list below. Lengths should contain 4 numbers, the\n",
    "# first being the length of a, the second being the length of b and so on.\n",
    "lengths = []\n",
    "\n",
    "# Check your answer\n",
    "q4.check()"
   ]
  },
  {
   "cell_type": "code",
   "execution_count": 9,
   "id": "a72bbf79",
   "metadata": {
    "collapsed": true,
    "execution": {
     "iopub.execute_input": "2023-01-24T22:48:25.418887Z",
     "iopub.status.busy": "2023-01-24T22:48:25.417324Z",
     "iopub.status.idle": "2023-01-24T22:48:25.422877Z",
     "shell.execute_reply": "2023-01-24T22:48:25.421950Z"
    },
    "jupyter": {
     "outputs_hidden": true
    },
    "papermill": {
     "duration": 0.015298,
     "end_time": "2023-01-24T22:48:25.425267",
     "exception": false,
     "start_time": "2023-01-24T22:48:25.409969",
     "status": "completed"
    },
    "tags": []
   },
   "outputs": [],
   "source": [
    "# line below provides some explanation\n",
    "#q4.solution()"
   ]
  },
  {
   "cell_type": "markdown",
   "id": "dbdfb98c",
   "metadata": {
    "papermill": {
     "duration": 0.006447,
     "end_time": "2023-01-24T22:48:25.438011",
     "exception": false,
     "start_time": "2023-01-24T22:48:25.431564",
     "status": "completed"
    },
    "tags": []
   },
   "source": [
    "# 5. <span title=\"A bit spicy\" style=\"color: darkgreen \">🌶️</span>\n",
    "\n",
    "We're using lists to record people who attended our party and what order they arrived in. For example, the following list represents a party with 7 guests, in which Adela showed up first and Ford was the last to arrive:\n",
    "\n",
    "    party_attendees = ['Adela', 'Fleda', 'Owen', 'May', 'Mona', 'Gilbert', 'Ford']\n",
    "\n",
    "A guest is considered 'fashionably late' if they arrived after at least half of the party's guests. However, they must not be the very last guest (that's taking it too far). In the above example, Mona and Gilbert are the only guests who were fashionably late.\n",
    "\n",
    "Complete the function below which takes a list of party attendees as well as a person, and tells us whether that person is fashionably late."
   ]
  },
  {
   "cell_type": "code",
   "execution_count": 10,
   "id": "7cd92cc9",
   "metadata": {
    "execution": {
     "iopub.execute_input": "2023-01-24T22:48:25.453227Z",
     "iopub.status.busy": "2023-01-24T22:48:25.452016Z",
     "iopub.status.idle": "2023-01-24T22:48:25.464027Z",
     "shell.execute_reply": "2023-01-24T22:48:25.462801Z"
    },
    "papermill": {
     "duration": 0.021982,
     "end_time": "2023-01-24T22:48:25.466469",
     "exception": false,
     "start_time": "2023-01-24T22:48:25.444487",
     "status": "completed"
    },
    "tags": []
   },
   "outputs": [
    {
     "data": {
      "application/javascript": [
       "parent.postMessage({\"jupyterEvent\": \"custom.exercise_interaction\", \"data\": {\"outcomeType\": 1, \"valueTowardsCompletion\": 0.2, \"interactionType\": 1, \"questionType\": 2, \"questionId\": \"5_FashionablyLate\", \"learnToolsVersion\": \"0.3.4\", \"failureMessage\": \"\", \"exceptionClass\": \"\", \"trace\": \"\"}}, \"*\")"
      ],
      "text/plain": [
       "<IPython.core.display.Javascript object>"
      ]
     },
     "metadata": {},
     "output_type": "display_data"
    },
    {
     "data": {
      "text/markdown": [
       "<span style=\"color:#33cc33\">Correct</span>"
      ],
      "text/plain": [
       "Correct"
      ]
     },
     "metadata": {},
     "output_type": "display_data"
    }
   ],
   "source": [
    "def fashionably_late(arrivals, name):\n",
    "    \"\"\"Given an ordered list of arrivals to the party and a name, return whether the guest with that\n",
    "    name was fashionably late.\n",
    "    \"\"\"\n",
    "    arrivalIndex = arrivals.index(name)\n",
    "    length = len(arrivals)\n",
    "    fashionable = length / 2\n",
    "    if (arrivalIndex >= fashionable and name != arrivals[-1]):\n",
    "        return True \n",
    "    if (arrivalIndex < fashionable):\n",
    "        return False\n",
    "    if (name == arrivals[-1]):\n",
    "        return False \n",
    "\n",
    "# Check your answer\n",
    "q5.check()"
   ]
  },
  {
   "cell_type": "code",
   "execution_count": 11,
   "id": "8a79d7a8",
   "metadata": {
    "collapsed": true,
    "execution": {
     "iopub.execute_input": "2023-01-24T22:48:25.482580Z",
     "iopub.status.busy": "2023-01-24T22:48:25.481475Z",
     "iopub.status.idle": "2023-01-24T22:48:25.486596Z",
     "shell.execute_reply": "2023-01-24T22:48:25.485249Z"
    },
    "jupyter": {
     "outputs_hidden": true
    },
    "papermill": {
     "duration": 0.016295,
     "end_time": "2023-01-24T22:48:25.489241",
     "exception": false,
     "start_time": "2023-01-24T22:48:25.472946",
     "status": "completed"
    },
    "tags": []
   },
   "outputs": [],
   "source": [
    "#q5.hint()\n",
    "#q5.solution()"
   ]
  },
  {
   "cell_type": "markdown",
   "id": "b2d65393",
   "metadata": {
    "papermill": {
     "duration": 0.006124,
     "end_time": "2023-01-24T22:48:25.501715",
     "exception": false,
     "start_time": "2023-01-24T22:48:25.495591",
     "status": "completed"
    },
    "tags": []
   },
   "source": [
    "# Keep Going\n",
    "\n",
    "That's it for lists and tuples! Now you have the baseline knowledge to **[learn about loops](https://www.kaggle.com/colinmorris/loops-and-list-comprehensions)**, which is where lists and tuples get really interesting. "
   ]
  },
  {
   "cell_type": "markdown",
   "id": "90601483",
   "metadata": {
    "papermill": {
     "duration": 0.006074,
     "end_time": "2023-01-24T22:48:25.514027",
     "exception": false,
     "start_time": "2023-01-24T22:48:25.507953",
     "status": "completed"
    },
    "tags": []
   },
   "source": [
    "---\n",
    "\n",
    "\n",
    "\n",
    "\n",
    "*Have questions or comments? Visit the [course discussion forum](https://www.kaggle.com/learn/python/discussion) to chat with other learners.*"
   ]
  }
 ],
 "metadata": {
  "kernelspec": {
   "display_name": "Python 3",
   "language": "python",
   "name": "python3"
  },
  "language_info": {
   "codemirror_mode": {
    "name": "ipython",
    "version": 3
   },
   "file_extension": ".py",
   "mimetype": "text/x-python",
   "name": "python",
   "nbconvert_exporter": "python",
   "pygments_lexer": "ipython3",
   "version": "3.7.12"
  },
  "papermill": {
   "default_parameters": {},
   "duration": 12.386222,
   "end_time": "2023-01-24T22:48:26.242316",
   "environment_variables": {},
   "exception": null,
   "input_path": "__notebook__.ipynb",
   "output_path": "__notebook__.ipynb",
   "parameters": {},
   "start_time": "2023-01-24T22:48:13.856094",
   "version": "2.3.4"
  }
 },
 "nbformat": 4,
 "nbformat_minor": 5
}

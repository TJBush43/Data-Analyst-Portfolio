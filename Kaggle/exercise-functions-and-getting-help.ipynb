{
 "cells": [
  {
   "cell_type": "markdown",
   "id": "254d32a5",
   "metadata": {
    "papermill": {
     "duration": 0.006267,
     "end_time": "2023-01-24T20:32:31.344181",
     "exception": false,
     "start_time": "2023-01-24T20:32:31.337914",
     "status": "completed"
    },
    "tags": []
   },
   "source": [
    "**This notebook is an exercise in the [Python](https://www.kaggle.com/learn/python) course.  You can reference the tutorial at [this link](https://www.kaggle.com/colinmorris/functions-and-getting-help).**\n",
    "\n",
    "---\n"
   ]
  },
  {
   "cell_type": "markdown",
   "id": "6a02a918",
   "metadata": {
    "papermill": {
     "duration": 0.004758,
     "end_time": "2023-01-24T20:32:31.354593",
     "exception": false,
     "start_time": "2023-01-24T20:32:31.349835",
     "status": "completed"
    },
    "tags": []
   },
   "source": [
    "Functions are powerful. Try writing some yourself.\n",
    "\n",
    "As before, don't forget to run the setup code below before jumping into question 1."
   ]
  },
  {
   "cell_type": "code",
   "execution_count": 1,
   "id": "26c6d317",
   "metadata": {
    "_kg_hide-input": true,
    "_kg_hide-output": true,
    "execution": {
     "iopub.execute_input": "2023-01-24T20:32:31.368045Z",
     "iopub.status.busy": "2023-01-24T20:32:31.367300Z",
     "iopub.status.idle": "2023-01-24T20:32:31.436098Z",
     "shell.execute_reply": "2023-01-24T20:32:31.434506Z"
    },
    "papermill": {
     "duration": 0.080087,
     "end_time": "2023-01-24T20:32:31.439850",
     "exception": false,
     "start_time": "2023-01-24T20:32:31.359763",
     "status": "completed"
    },
    "tags": []
   },
   "outputs": [
    {
     "name": "stdout",
     "output_type": "stream",
     "text": [
      "Setup complete.\n"
     ]
    }
   ],
   "source": [
    "# SETUP. You don't need to worry for now about what this code does or how it works.\n",
    "from learntools.core import binder; binder.bind(globals())\n",
    "from learntools.python.ex2 import *\n",
    "print('Setup complete.')"
   ]
  },
  {
   "cell_type": "markdown",
   "id": "78f8bf82",
   "metadata": {
    "papermill": {
     "duration": 0.004885,
     "end_time": "2023-01-24T20:32:31.450352",
     "exception": false,
     "start_time": "2023-01-24T20:32:31.445467",
     "status": "completed"
    },
    "tags": []
   },
   "source": [
    "# 1.\n",
    "\n",
    "Complete the body of the following function according to its docstring.\n",
    "\n",
    "HINT: Python has a built-in function `round`."
   ]
  },
  {
   "cell_type": "code",
   "execution_count": 2,
   "id": "cb3e3b27",
   "metadata": {
    "execution": {
     "iopub.execute_input": "2023-01-24T20:32:31.463040Z",
     "iopub.status.busy": "2023-01-24T20:32:31.462562Z",
     "iopub.status.idle": "2023-01-24T20:32:31.475785Z",
     "shell.execute_reply": "2023-01-24T20:32:31.474442Z"
    },
    "papermill": {
     "duration": 0.022822,
     "end_time": "2023-01-24T20:32:31.478431",
     "exception": false,
     "start_time": "2023-01-24T20:32:31.455609",
     "status": "completed"
    },
    "tags": []
   },
   "outputs": [
    {
     "data": {
      "application/javascript": [
       "parent.postMessage({\"jupyterEvent\": \"custom.exercise_interaction\", \"data\": {\"outcomeType\": 1, \"valueTowardsCompletion\": 0.16666666666666666, \"interactionType\": 1, \"questionType\": 2, \"questionId\": \"1_RoundFunctionProblem\", \"learnToolsVersion\": \"0.3.4\", \"failureMessage\": \"\", \"exceptionClass\": \"\", \"trace\": \"\"}}, \"*\")"
      ],
      "text/plain": [
       "<IPython.core.display.Javascript object>"
      ]
     },
     "metadata": {},
     "output_type": "display_data"
    },
    {
     "data": {
      "text/markdown": [
       "<span style=\"color:#33cc33\">Correct</span>"
      ],
      "text/plain": [
       "Correct"
      ]
     },
     "metadata": {},
     "output_type": "display_data"
    }
   ],
   "source": [
    "def round_to_two_places(num):\n",
    "    \"\"\"Return the given number rounded to two decimal places. \n",
    "    \n",
    "    >>> round_to_two_places(3.14159)\n",
    "    3.14\n",
    "    \"\"\"\n",
    "    return round(num, 2)\n",
    "    \n",
    "\n",
    "# Check your answer\n",
    "q1.check()"
   ]
  },
  {
   "cell_type": "code",
   "execution_count": 3,
   "id": "5704a817",
   "metadata": {
    "execution": {
     "iopub.execute_input": "2023-01-24T20:32:31.492049Z",
     "iopub.status.busy": "2023-01-24T20:32:31.491399Z",
     "iopub.status.idle": "2023-01-24T20:32:31.497416Z",
     "shell.execute_reply": "2023-01-24T20:32:31.496116Z"
    },
    "papermill": {
     "duration": 0.015894,
     "end_time": "2023-01-24T20:32:31.499959",
     "exception": false,
     "start_time": "2023-01-24T20:32:31.484065",
     "status": "completed"
    },
    "tags": []
   },
   "outputs": [],
   "source": [
    "# Uncomment the following for a hint\n",
    "#q1.hint()\n",
    "# Or uncomment the following to peek at the solution\n",
    "#q1.solution()"
   ]
  },
  {
   "cell_type": "markdown",
   "id": "6e5ae10c",
   "metadata": {
    "papermill": {
     "duration": 0.00531,
     "end_time": "2023-01-24T20:32:31.511161",
     "exception": false,
     "start_time": "2023-01-24T20:32:31.505851",
     "status": "completed"
    },
    "tags": []
   },
   "source": [
    "# 2.\n",
    "The help for `round` says that `ndigits` (the second argument) may be negative.\n",
    "What do you think will happen when it is? Try some examples in the following cell."
   ]
  },
  {
   "cell_type": "code",
   "execution_count": 4,
   "id": "1c823d64",
   "metadata": {
    "execution": {
     "iopub.execute_input": "2023-01-24T20:32:31.525131Z",
     "iopub.status.busy": "2023-01-24T20:32:31.524258Z",
     "iopub.status.idle": "2023-01-24T20:32:31.530308Z",
     "shell.execute_reply": "2023-01-24T20:32:31.528816Z"
    },
    "papermill": {
     "duration": 0.016107,
     "end_time": "2023-01-24T20:32:31.532912",
     "exception": false,
     "start_time": "2023-01-24T20:32:31.516805",
     "status": "completed"
    },
    "tags": []
   },
   "outputs": [],
   "source": [
    "# Put your test code here\n"
   ]
  },
  {
   "cell_type": "markdown",
   "id": "cf2c5b34",
   "metadata": {
    "papermill": {
     "duration": 0.005348,
     "end_time": "2023-01-24T20:32:31.544028",
     "exception": false,
     "start_time": "2023-01-24T20:32:31.538680",
     "status": "completed"
    },
    "tags": []
   },
   "source": [
    "Can you think of a case where this would be useful?  Once you're ready, run the code cell below to see the answer and to receive credit for completing the problem."
   ]
  },
  {
   "cell_type": "code",
   "execution_count": 5,
   "id": "11a3c4b3",
   "metadata": {
    "execution": {
     "iopub.execute_input": "2023-01-24T20:32:31.557647Z",
     "iopub.status.busy": "2023-01-24T20:32:31.557053Z",
     "iopub.status.idle": "2023-01-24T20:32:31.566936Z",
     "shell.execute_reply": "2023-01-24T20:32:31.566063Z"
    },
    "papermill": {
     "duration": 0.019476,
     "end_time": "2023-01-24T20:32:31.569220",
     "exception": false,
     "start_time": "2023-01-24T20:32:31.549744",
     "status": "completed"
    },
    "tags": []
   },
   "outputs": [
    {
     "data": {
      "application/javascript": [
       "parent.postMessage({\"jupyterEvent\": \"custom.exercise_interaction\", \"data\": {\"interactionType\": 3, \"questionType\": 4, \"questionId\": \"2_RoundNdigitsProblem\", \"learnToolsVersion\": \"0.3.4\", \"valueTowardsCompletion\": 0.0, \"failureMessage\": \"\", \"exceptionClass\": \"\", \"trace\": \"\", \"outcomeType\": 4}}, \"*\")"
      ],
      "text/plain": [
       "<IPython.core.display.Javascript object>"
      ]
     },
     "metadata": {},
     "output_type": "display_data"
    },
    {
     "data": {
      "text/markdown": [
       "<span style=\"color:#33cc99\">Solution:</span> As you've seen, `ndigits=-1` rounds to the nearest 10, `ndigits=-2` rounds to the nearest 100 and so on. Where might this be useful? Suppose we're dealing with large numbers:\n",
       "\n",
       "> The area of Finland is 338,424 km²  \n",
       "> The area of Greenland is 2,166,086 km²\n",
       "\n",
       "We probably don't care whether it's really 338,424, or 338,425, or 338,177. All those digits of accuracy are just distracting. We can chop them off by calling `round()` with `ndigits=-3`:\n",
       "\n",
       "> The area of Finland is 338,000 km²  \n",
       "> The area of Greenland is 2,166,000 km²\n",
       "\n",
       "(We'll talk about how we would get the commas later when we talk about string formatting :))\n"
      ],
      "text/plain": [
       "Solution: As you've seen, `ndigits=-1` rounds to the nearest 10, `ndigits=-2` rounds to the nearest 100 and so on. Where might this be useful? Suppose we're dealing with large numbers:\n",
       "\n",
       "> The area of Finland is 338,424 km²  \n",
       "> The area of Greenland is 2,166,086 km²\n",
       "\n",
       "We probably don't care whether it's really 338,424, or 338,425, or 338,177. All those digits of accuracy are just distracting. We can chop them off by calling `round()` with `ndigits=-3`:\n",
       "\n",
       "> The area of Finland is 338,000 km²  \n",
       "> The area of Greenland is 2,166,000 km²\n",
       "\n",
       "(We'll talk about how we would get the commas later when we talk about string formatting :))"
      ]
     },
     "metadata": {},
     "output_type": "display_data"
    }
   ],
   "source": [
    "# Check your answer (Run this code cell to receive credit!)\n",
    "q2.solution()"
   ]
  },
  {
   "cell_type": "markdown",
   "id": "e5ad80ec",
   "metadata": {
    "papermill": {
     "duration": 0.005609,
     "end_time": "2023-01-24T20:32:31.580968",
     "exception": false,
     "start_time": "2023-01-24T20:32:31.575359",
     "status": "completed"
    },
    "tags": []
   },
   "source": [
    "# 3.\n",
    "\n",
    "In the previous exercise, the candy-sharing friends Alice, Bob and Carol tried to split candies evenly. For the sake of their friendship, any candies left over would be smashed. For example, if they collectively bring home 91 candies, they'll take 30 each and smash 1.\n",
    "\n",
    "Below is a simple function that will calculate the number of candies to smash for *any* number of total candies.\n",
    "\n",
    "Modify it so that it optionally takes a second argument representing the number of friends the candies are being split between. If no second argument is provided, it should assume 3 friends, as before.\n",
    "\n",
    "Update the docstring to reflect this new behaviour."
   ]
  },
  {
   "cell_type": "code",
   "execution_count": 6,
   "id": "c11a3f2f",
   "metadata": {
    "execution": {
     "iopub.execute_input": "2023-01-24T20:32:31.596694Z",
     "iopub.status.busy": "2023-01-24T20:32:31.596153Z",
     "iopub.status.idle": "2023-01-24T20:32:31.607304Z",
     "shell.execute_reply": "2023-01-24T20:32:31.605811Z"
    },
    "papermill": {
     "duration": 0.021989,
     "end_time": "2023-01-24T20:32:31.609767",
     "exception": false,
     "start_time": "2023-01-24T20:32:31.587778",
     "status": "completed"
    },
    "tags": []
   },
   "outputs": [
    {
     "data": {
      "application/javascript": [
       "parent.postMessage({\"jupyterEvent\": \"custom.exercise_interaction\", \"data\": {\"outcomeType\": 1, \"valueTowardsCompletion\": 0.16666666666666666, \"interactionType\": 1, \"questionType\": 2, \"questionId\": \"3_CandySmashingFunctionProblem\", \"learnToolsVersion\": \"0.3.4\", \"failureMessage\": \"\", \"exceptionClass\": \"\", \"trace\": \"\"}}, \"*\")"
      ],
      "text/plain": [
       "<IPython.core.display.Javascript object>"
      ]
     },
     "metadata": {},
     "output_type": "display_data"
    },
    {
     "data": {
      "text/markdown": [
       "<span style=\"color:#33cc33\">Correct</span>"
      ],
      "text/plain": [
       "Correct"
      ]
     },
     "metadata": {},
     "output_type": "display_data"
    }
   ],
   "source": [
    "def to_smash(total_candies, num_friends=3):\n",
    "    \"\"\"Return the number of leftover candies that must be smashed after distributing\n",
    "    the given number of candies evenly between 3 friends.\n",
    "    \n",
    "    >>> to_smash(91)\n",
    "    1\n",
    "    \"\"\"\n",
    "    return total_candies % num_friends\n",
    "\n",
    "# Check your answer\n",
    "q3.check()"
   ]
  },
  {
   "cell_type": "code",
   "execution_count": 7,
   "id": "5577eab2",
   "metadata": {
    "execution": {
     "iopub.execute_input": "2023-01-24T20:32:31.624658Z",
     "iopub.status.busy": "2023-01-24T20:32:31.624094Z",
     "iopub.status.idle": "2023-01-24T20:32:31.630248Z",
     "shell.execute_reply": "2023-01-24T20:32:31.628570Z"
    },
    "papermill": {
     "duration": 0.017084,
     "end_time": "2023-01-24T20:32:31.633142",
     "exception": false,
     "start_time": "2023-01-24T20:32:31.616058",
     "status": "completed"
    },
    "tags": []
   },
   "outputs": [],
   "source": [
    "#q3.hint()"
   ]
  },
  {
   "cell_type": "code",
   "execution_count": 8,
   "id": "7d9d2269",
   "metadata": {
    "execution": {
     "iopub.execute_input": "2023-01-24T20:32:31.647902Z",
     "iopub.status.busy": "2023-01-24T20:32:31.647372Z",
     "iopub.status.idle": "2023-01-24T20:32:31.653196Z",
     "shell.execute_reply": "2023-01-24T20:32:31.651991Z"
    },
    "papermill": {
     "duration": 0.016622,
     "end_time": "2023-01-24T20:32:31.656025",
     "exception": false,
     "start_time": "2023-01-24T20:32:31.639403",
     "status": "completed"
    },
    "tags": []
   },
   "outputs": [],
   "source": [
    "#q3.solution()"
   ]
  },
  {
   "cell_type": "markdown",
   "id": "a8044e2b",
   "metadata": {
    "papermill": {
     "duration": 0.005746,
     "end_time": "2023-01-24T20:32:31.668064",
     "exception": false,
     "start_time": "2023-01-24T20:32:31.662318",
     "status": "completed"
    },
    "tags": []
   },
   "source": [
    "# 4. (Optional)\n",
    "\n",
    "It may not be fun, but reading and understanding error messages will be an important part of your Python career.\n",
    "\n",
    "Each code cell below contains some commented buggy code. For each cell...\n",
    "\n",
    "1. Read the code and predict what you think will happen when it's run.\n",
    "2. Then uncomment the code and run it to see what happens. (**Tip**: In the kernel editor, you can highlight several lines and press `ctrl`+`/` to toggle commenting.)\n",
    "3. Fix the code (so that it accomplishes its intended purpose without throwing an exception)\n",
    "\n",
    "<!-- TODO: should this be autochecked? Delta is probably pretty small. -->"
   ]
  },
  {
   "cell_type": "code",
   "execution_count": 9,
   "id": "bafba4a2",
   "metadata": {
    "execution": {
     "iopub.execute_input": "2023-01-24T20:32:31.685344Z",
     "iopub.status.busy": "2023-01-24T20:32:31.682378Z",
     "iopub.status.idle": "2023-01-24T20:32:31.691213Z",
     "shell.execute_reply": "2023-01-24T20:32:31.690287Z"
    },
    "papermill": {
     "duration": 0.019456,
     "end_time": "2023-01-24T20:32:31.693715",
     "exception": false,
     "start_time": "2023-01-24T20:32:31.674259",
     "status": "completed"
    },
    "tags": []
   },
   "outputs": [
    {
     "data": {
      "text/plain": [
       "10.0"
      ]
     },
     "execution_count": 9,
     "metadata": {},
     "output_type": "execute_result"
    }
   ],
   "source": [
    "# error will happen due to misspelling of round\n",
    "round_to_two_places(9.9999)\n"
   ]
  },
  {
   "cell_type": "code",
   "execution_count": 10,
   "id": "2106cb72",
   "metadata": {
    "execution": {
     "iopub.execute_input": "2023-01-24T20:32:31.709563Z",
     "iopub.status.busy": "2023-01-24T20:32:31.708694Z",
     "iopub.status.idle": "2023-01-24T20:32:31.715594Z",
     "shell.execute_reply": "2023-01-24T20:32:31.713946Z"
    },
    "papermill": {
     "duration": 0.018036,
     "end_time": "2023-01-24T20:32:31.718320",
     "exception": false,
     "start_time": "2023-01-24T20:32:31.700284",
     "status": "completed"
    },
    "tags": []
   },
   "outputs": [
    {
     "name": "stdout",
     "output_type": "stream",
     "text": [
      "5\n"
     ]
    }
   ],
   "source": [
    "x = -10\n",
    "y = 5\n",
    "# Which of the two variables above has the smallest absolute value?\n",
    "smallest_abs = min(abs(x),abs(y))\n",
    "print(smallest_abs)"
   ]
  },
  {
   "cell_type": "code",
   "execution_count": 11,
   "id": "a7b859e1",
   "metadata": {
    "execution": {
     "iopub.execute_input": "2023-01-24T20:32:31.732936Z",
     "iopub.status.busy": "2023-01-24T20:32:31.732414Z",
     "iopub.status.idle": "2023-01-24T20:32:31.740527Z",
     "shell.execute_reply": "2023-01-24T20:32:31.738375Z"
    },
    "papermill": {
     "duration": 0.018491,
     "end_time": "2023-01-24T20:32:31.743093",
     "exception": false,
     "start_time": "2023-01-24T20:32:31.724602",
     "status": "completed"
    },
    "tags": []
   },
   "outputs": [
    {
     "name": "stdout",
     "output_type": "stream",
     "text": [
      "5\n"
     ]
    }
   ],
   "source": [
    "def f(x):\n",
    "    y = abs(x)\n",
    "    return y\n",
    "\n",
    "print(f(5))"
   ]
  },
  {
   "cell_type": "markdown",
   "id": "7b181923",
   "metadata": {
    "papermill": {
     "duration": 0.006555,
     "end_time": "2023-01-24T20:32:31.757116",
     "exception": false,
     "start_time": "2023-01-24T20:32:31.750561",
     "status": "completed"
    },
    "tags": []
   },
   "source": [
    "# Keep Going\n",
    "\n",
    "Nice job with the code. Next up, you'll learn about *conditionals*, which you'll need to **[write interesting programs](https://www.kaggle.com/colinmorris/booleans-and-conditionals)**. "
   ]
  },
  {
   "cell_type": "markdown",
   "id": "5463667d",
   "metadata": {
    "papermill": {
     "duration": 0.005829,
     "end_time": "2023-01-24T20:32:31.769793",
     "exception": false,
     "start_time": "2023-01-24T20:32:31.763964",
     "status": "completed"
    },
    "tags": []
   },
   "source": [
    "---\n",
    "\n",
    "\n",
    "\n",
    "\n",
    "*Have questions or comments? Visit the [course discussion forum](https://www.kaggle.com/learn/python/discussion) to chat with other learners.*"
   ]
  }
 ],
 "metadata": {
  "kernelspec": {
   "display_name": "Python 3",
   "language": "python",
   "name": "python3"
  },
  "language_info": {
   "codemirror_mode": {
    "name": "ipython",
    "version": 3
   },
   "file_extension": ".py",
   "mimetype": "text/x-python",
   "name": "python",
   "nbconvert_exporter": "python",
   "pygments_lexer": "ipython3",
   "version": "3.7.12"
  },
  "papermill": {
   "default_parameters": {},
   "duration": 11.157567,
   "end_time": "2023-01-24T20:32:32.803037",
   "environment_variables": {},
   "exception": null,
   "input_path": "__notebook__.ipynb",
   "output_path": "__notebook__.ipynb",
   "parameters": {},
   "start_time": "2023-01-24T20:32:21.645470",
   "version": "2.3.4"
  }
 },
 "nbformat": 4,
 "nbformat_minor": 5
}
